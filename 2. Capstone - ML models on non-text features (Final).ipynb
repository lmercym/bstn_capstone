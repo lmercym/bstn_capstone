{
 "cells": [
  {
   "cell_type": "markdown",
   "id": "b642949c",
   "metadata": {},
   "source": [
    "# Part 2 - ML models on non-text features\n",
    "\n",
    "Author: Laura Mercy\n",
    "\n",
    "Date: 2022-12-12\n",
    "\n",
    "Contact: laura.mercym@gmail.com"
   ]
  },
  {
   "cell_type": "markdown",
   "id": "6ebc301c",
   "metadata": {},
   "source": [
    "Now that we have cleaned our dataset and done some EDA in the previous notebook, Capstone- Part 1, we are ready to run some machine learning models to try and predict the popularity of a book. We are trying to figure out 2 things: \n",
    "\n",
    "1) Can we build a model that takes in the book's attributes that were available in our dataset (number of pages, length of the title, length of the description, genre, book format, whether or not the book is part of a series, whether or not the book has received awards, published year and number of books written by the author), and predict its popularity as a binary outcome, i.e yes (1) if the book would score more than 4 stars on average, no (0) if it would score less? And can we deduct which attributes are the most predictive?\n",
    "\n",
    "2) Can we use the words in the title and the description to improve our model? Are they a good indicator of a book's popularity?\n",
    "\n",
    "Since this is a binary classification problem, we will build 4 diffent models that can be used for classification and work on optimizing the hyperparamters:\n",
    "\n",
    "1. Logistic Regression\n",
    "2. KNN\n",
    "3. Decision Tree\n",
    "4. Random Forest\n",
    "\n",
    "For hyperparameters optimization, we'll use the methods we've learned in class:\n",
    "1. Creating a train & validation set and looping over the hyperparameters\n",
    "2. Using cross-validation\n",
    "3. Using a pipeline\n",
    "\n",
    "We will work on the second question in separate notebooks (Capstone - Part 3 & 4), where we will vectorize the title and description using the Bag of Words technique, TF-IDF, Word2Vec and GloVe, and run the same machine learning models to see the impact on the model's performance."
   ]
  },
  {
   "cell_type": "markdown",
   "id": "33a41563",
   "metadata": {},
   "source": [
    "We start by importing the librairies we'll need for our work."
   ]
  },
  {
   "cell_type": "code",
   "execution_count": 1,
   "id": "2cd7a1a3",
   "metadata": {},
   "outputs": [],
   "source": [
    "#import basic libraries\n",
    "import numpy as np\n",
    "import pandas as pd\n",
    "import seaborn as sns\n",
    "import matplotlib.pyplot as plt\n",
    "%matplotlib inline\n",
    "\n",
    "#to display the full column\n",
    "pd.set_option('display.max_columns', None)\n",
    "\n",
    "#to scale the data\n",
    "from sklearn.preprocessing import MinMaxScaler\n",
    "from sklearn.preprocessing import StandardScaler\n",
    "from sklearn.preprocessing import RobustScaler\n",
    "\n",
    "#To split the dataset and do a GridSearch\n",
    "from sklearn.model_selection import train_test_split, GridSearchCV\n",
    "\n",
    "#To run machine learning models\n",
    "from sklearn.linear_model import LogisticRegression\n",
    "from sklearn.neighbors import KNeighborsClassifier,KNeighborsTransformer\n",
    "from sklearn.tree import DecisionTreeClassifier\n",
    "from sklearn.ensemble import RandomForestClassifier\n",
    "\n",
    "#To reduce dimensionality\n",
    "from sklearn.decomposition import PCA\n",
    "\n",
    "#To score the model\n",
    "from sklearn.metrics import plot_roc_curve\n",
    "from sklearn.metrics import accuracy_score\n",
    "from sklearn.metrics import plot_confusion_matrix, confusion_matrix, ConfusionMatrixDisplay\n",
    "from sklearn.metrics import classification_report\n",
    "\n",
    "\n",
    "# To set up a temporary directory for caching pipeline results\n",
    "from tempfile import mkdtemp\n",
    "\n",
    "# To build a pipeline\n",
    "from sklearn.pipeline import Pipeline\n",
    "\n",
    "# To get rid of warnings that appear if sklearn hasn't been updated\n",
    "import warnings\n",
    "warnings.filterwarnings('ignore')\n",
    "\n",
    "#To do cross validation\n",
    "from sklearn.model_selection import cross_val_score"
   ]
  },
  {
   "cell_type": "markdown",
   "id": "8b0fae68",
   "metadata": {},
   "source": [
    "We import the clean dataset that we created in the previous notebook, and look at the first 5 rows to ensure this is what we were expecting."
   ]
  },
  {
   "cell_type": "code",
   "execution_count": 2,
   "id": "3df51cde",
   "metadata": {},
   "outputs": [
    {
     "data": {
      "text/html": [
       "<div>\n",
       "<style scoped>\n",
       "    .dataframe tbody tr th:only-of-type {\n",
       "        vertical-align: middle;\n",
       "    }\n",
       "\n",
       "    .dataframe tbody tr th {\n",
       "        vertical-align: top;\n",
       "    }\n",
       "\n",
       "    .dataframe thead th {\n",
       "        text-align: right;\n",
       "    }\n",
       "</style>\n",
       "<table border=\"1\" class=\"dataframe\">\n",
       "  <thead>\n",
       "    <tr style=\"text-align: right;\">\n",
       "      <th></th>\n",
       "      <th>Unnamed: 0</th>\n",
       "      <th>title</th>\n",
       "      <th>description</th>\n",
       "      <th>pages</th>\n",
       "      <th>word_count_title</th>\n",
       "      <th>is_series</th>\n",
       "      <th>book_count_by_author</th>\n",
       "      <th>word_count_description</th>\n",
       "      <th>genre_Adult</th>\n",
       "      <th>genre_Adventure</th>\n",
       "      <th>genre_Biography</th>\n",
       "      <th>genre_Childrens</th>\n",
       "      <th>genre_Classics</th>\n",
       "      <th>genre_Contemporary</th>\n",
       "      <th>genre_Fantasy</th>\n",
       "      <th>genre_Fiction</th>\n",
       "      <th>genre_Historical</th>\n",
       "      <th>genre_Historical Fiction</th>\n",
       "      <th>genre_History</th>\n",
       "      <th>genre_Horror</th>\n",
       "      <th>genre_Islam</th>\n",
       "      <th>genre_Literature</th>\n",
       "      <th>genre_Magic</th>\n",
       "      <th>genre_Mystery</th>\n",
       "      <th>genre_Nonfiction</th>\n",
       "      <th>genre_Novels</th>\n",
       "      <th>genre_Paranormal</th>\n",
       "      <th>genre_Poetry</th>\n",
       "      <th>genre_Romance</th>\n",
       "      <th>genre_Science Fiction</th>\n",
       "      <th>genre_Thriller</th>\n",
       "      <th>genre_Urban</th>\n",
       "      <th>genre_Young Adult</th>\n",
       "      <th>genre_Other</th>\n",
       "      <th>format_Audiobook</th>\n",
       "      <th>format_Hardcover</th>\n",
       "      <th>format_Mass Market Paperback</th>\n",
       "      <th>format_Paperback</th>\n",
       "      <th>format_ebook</th>\n",
       "      <th>has_awards</th>\n",
       "      <th>publish_year</th>\n",
       "      <th>is_popular</th>\n",
       "    </tr>\n",
       "  </thead>\n",
       "  <tbody>\n",
       "    <tr>\n",
       "      <th>0</th>\n",
       "      <td>0</td>\n",
       "      <td>The Hunger Games</td>\n",
       "      <td>WINNING MEANS FAME AND FORTUNE.LOSING MEANS CE...</td>\n",
       "      <td>374</td>\n",
       "      <td>3</td>\n",
       "      <td>1</td>\n",
       "      <td>12</td>\n",
       "      <td>147</td>\n",
       "      <td>0</td>\n",
       "      <td>1</td>\n",
       "      <td>0</td>\n",
       "      <td>0</td>\n",
       "      <td>0</td>\n",
       "      <td>0</td>\n",
       "      <td>1</td>\n",
       "      <td>1</td>\n",
       "      <td>0</td>\n",
       "      <td>0</td>\n",
       "      <td>0</td>\n",
       "      <td>0</td>\n",
       "      <td>0</td>\n",
       "      <td>0</td>\n",
       "      <td>0</td>\n",
       "      <td>0</td>\n",
       "      <td>0</td>\n",
       "      <td>0</td>\n",
       "      <td>0</td>\n",
       "      <td>0</td>\n",
       "      <td>1</td>\n",
       "      <td>1</td>\n",
       "      <td>0</td>\n",
       "      <td>0</td>\n",
       "      <td>1</td>\n",
       "      <td>0</td>\n",
       "      <td>0</td>\n",
       "      <td>1</td>\n",
       "      <td>0</td>\n",
       "      <td>0</td>\n",
       "      <td>0</td>\n",
       "      <td>1</td>\n",
       "      <td>2008</td>\n",
       "      <td>1</td>\n",
       "    </tr>\n",
       "    <tr>\n",
       "      <th>1</th>\n",
       "      <td>1</td>\n",
       "      <td>Harry Potter and the Order of the Phoenix</td>\n",
       "      <td>There is a door at the end of a silent corrido...</td>\n",
       "      <td>870</td>\n",
       "      <td>8</td>\n",
       "      <td>1</td>\n",
       "      <td>24</td>\n",
       "      <td>136</td>\n",
       "      <td>0</td>\n",
       "      <td>1</td>\n",
       "      <td>0</td>\n",
       "      <td>1</td>\n",
       "      <td>1</td>\n",
       "      <td>0</td>\n",
       "      <td>1</td>\n",
       "      <td>1</td>\n",
       "      <td>0</td>\n",
       "      <td>0</td>\n",
       "      <td>0</td>\n",
       "      <td>0</td>\n",
       "      <td>0</td>\n",
       "      <td>0</td>\n",
       "      <td>1</td>\n",
       "      <td>0</td>\n",
       "      <td>0</td>\n",
       "      <td>0</td>\n",
       "      <td>0</td>\n",
       "      <td>0</td>\n",
       "      <td>0</td>\n",
       "      <td>0</td>\n",
       "      <td>0</td>\n",
       "      <td>0</td>\n",
       "      <td>1</td>\n",
       "      <td>0</td>\n",
       "      <td>0</td>\n",
       "      <td>0</td>\n",
       "      <td>0</td>\n",
       "      <td>1</td>\n",
       "      <td>0</td>\n",
       "      <td>1</td>\n",
       "      <td>2004</td>\n",
       "      <td>1</td>\n",
       "    </tr>\n",
       "    <tr>\n",
       "      <th>2</th>\n",
       "      <td>2</td>\n",
       "      <td>To Kill a Mockingbird</td>\n",
       "      <td>The unforgettable novel of a childhood in a sl...</td>\n",
       "      <td>324</td>\n",
       "      <td>4</td>\n",
       "      <td>1</td>\n",
       "      <td>2</td>\n",
       "      <td>137</td>\n",
       "      <td>0</td>\n",
       "      <td>0</td>\n",
       "      <td>0</td>\n",
       "      <td>0</td>\n",
       "      <td>1</td>\n",
       "      <td>0</td>\n",
       "      <td>0</td>\n",
       "      <td>1</td>\n",
       "      <td>1</td>\n",
       "      <td>1</td>\n",
       "      <td>0</td>\n",
       "      <td>0</td>\n",
       "      <td>0</td>\n",
       "      <td>1</td>\n",
       "      <td>0</td>\n",
       "      <td>0</td>\n",
       "      <td>0</td>\n",
       "      <td>1</td>\n",
       "      <td>0</td>\n",
       "      <td>0</td>\n",
       "      <td>0</td>\n",
       "      <td>0</td>\n",
       "      <td>0</td>\n",
       "      <td>0</td>\n",
       "      <td>1</td>\n",
       "      <td>0</td>\n",
       "      <td>0</td>\n",
       "      <td>0</td>\n",
       "      <td>0</td>\n",
       "      <td>1</td>\n",
       "      <td>0</td>\n",
       "      <td>1</td>\n",
       "      <td>2006</td>\n",
       "      <td>1</td>\n",
       "    </tr>\n",
       "    <tr>\n",
       "      <th>3</th>\n",
       "      <td>3</td>\n",
       "      <td>Pride and Prejudice</td>\n",
       "      <td>Alternate cover edition of ISBN 9780679783268S...</td>\n",
       "      <td>279</td>\n",
       "      <td>3</td>\n",
       "      <td>0</td>\n",
       "      <td>14</td>\n",
       "      <td>100</td>\n",
       "      <td>1</td>\n",
       "      <td>0</td>\n",
       "      <td>0</td>\n",
       "      <td>0</td>\n",
       "      <td>1</td>\n",
       "      <td>0</td>\n",
       "      <td>0</td>\n",
       "      <td>1</td>\n",
       "      <td>1</td>\n",
       "      <td>1</td>\n",
       "      <td>0</td>\n",
       "      <td>0</td>\n",
       "      <td>0</td>\n",
       "      <td>1</td>\n",
       "      <td>0</td>\n",
       "      <td>0</td>\n",
       "      <td>0</td>\n",
       "      <td>1</td>\n",
       "      <td>0</td>\n",
       "      <td>0</td>\n",
       "      <td>1</td>\n",
       "      <td>0</td>\n",
       "      <td>0</td>\n",
       "      <td>0</td>\n",
       "      <td>0</td>\n",
       "      <td>0</td>\n",
       "      <td>0</td>\n",
       "      <td>0</td>\n",
       "      <td>0</td>\n",
       "      <td>1</td>\n",
       "      <td>0</td>\n",
       "      <td>0</td>\n",
       "      <td>2000</td>\n",
       "      <td>1</td>\n",
       "    </tr>\n",
       "    <tr>\n",
       "      <th>4</th>\n",
       "      <td>4</td>\n",
       "      <td>Twilight</td>\n",
       "      <td>About three things I was absolutely positive.\\...</td>\n",
       "      <td>501</td>\n",
       "      <td>1</td>\n",
       "      <td>1</td>\n",
       "      <td>14</td>\n",
       "      <td>55</td>\n",
       "      <td>0</td>\n",
       "      <td>0</td>\n",
       "      <td>0</td>\n",
       "      <td>0</td>\n",
       "      <td>0</td>\n",
       "      <td>0</td>\n",
       "      <td>1</td>\n",
       "      <td>1</td>\n",
       "      <td>0</td>\n",
       "      <td>0</td>\n",
       "      <td>0</td>\n",
       "      <td>0</td>\n",
       "      <td>0</td>\n",
       "      <td>0</td>\n",
       "      <td>0</td>\n",
       "      <td>0</td>\n",
       "      <td>0</td>\n",
       "      <td>0</td>\n",
       "      <td>1</td>\n",
       "      <td>0</td>\n",
       "      <td>1</td>\n",
       "      <td>0</td>\n",
       "      <td>0</td>\n",
       "      <td>0</td>\n",
       "      <td>1</td>\n",
       "      <td>0</td>\n",
       "      <td>0</td>\n",
       "      <td>0</td>\n",
       "      <td>0</td>\n",
       "      <td>1</td>\n",
       "      <td>0</td>\n",
       "      <td>1</td>\n",
       "      <td>2009</td>\n",
       "      <td>0</td>\n",
       "    </tr>\n",
       "  </tbody>\n",
       "</table>\n",
       "</div>"
      ],
      "text/plain": [
       "   Unnamed: 0                                      title  \\\n",
       "0           0                           The Hunger Games   \n",
       "1           1  Harry Potter and the Order of the Phoenix   \n",
       "2           2                      To Kill a Mockingbird   \n",
       "3           3                        Pride and Prejudice   \n",
       "4           4                                   Twilight   \n",
       "\n",
       "                                         description  pages  word_count_title  \\\n",
       "0  WINNING MEANS FAME AND FORTUNE.LOSING MEANS CE...    374                 3   \n",
       "1  There is a door at the end of a silent corrido...    870                 8   \n",
       "2  The unforgettable novel of a childhood in a sl...    324                 4   \n",
       "3  Alternate cover edition of ISBN 9780679783268S...    279                 3   \n",
       "4  About three things I was absolutely positive.\\...    501                 1   \n",
       "\n",
       "   is_series  book_count_by_author  word_count_description  genre_Adult  \\\n",
       "0          1                    12                     147            0   \n",
       "1          1                    24                     136            0   \n",
       "2          1                     2                     137            0   \n",
       "3          0                    14                     100            1   \n",
       "4          1                    14                      55            0   \n",
       "\n",
       "   genre_Adventure  genre_Biography  genre_Childrens  genre_Classics  \\\n",
       "0                1                0                0               0   \n",
       "1                1                0                1               1   \n",
       "2                0                0                0               1   \n",
       "3                0                0                0               1   \n",
       "4                0                0                0               0   \n",
       "\n",
       "   genre_Contemporary  genre_Fantasy  genre_Fiction  genre_Historical  \\\n",
       "0                   0              1              1                 0   \n",
       "1                   0              1              1                 0   \n",
       "2                   0              0              1                 1   \n",
       "3                   0              0              1                 1   \n",
       "4                   0              1              1                 0   \n",
       "\n",
       "   genre_Historical Fiction  genre_History  genre_Horror  genre_Islam  \\\n",
       "0                         0              0             0            0   \n",
       "1                         0              0             0            0   \n",
       "2                         1              0             0            0   \n",
       "3                         1              0             0            0   \n",
       "4                         0              0             0            0   \n",
       "\n",
       "   genre_Literature  genre_Magic  genre_Mystery  genre_Nonfiction  \\\n",
       "0                 0            0              0                 0   \n",
       "1                 0            1              0                 0   \n",
       "2                 1            0              0                 0   \n",
       "3                 1            0              0                 0   \n",
       "4                 0            0              0                 0   \n",
       "\n",
       "   genre_Novels  genre_Paranormal  genre_Poetry  genre_Romance  \\\n",
       "0             0                 0             0              1   \n",
       "1             0                 0             0              0   \n",
       "2             1                 0             0              0   \n",
       "3             1                 0             0              1   \n",
       "4             0                 1             0              1   \n",
       "\n",
       "   genre_Science Fiction  genre_Thriller  genre_Urban  genre_Young Adult  \\\n",
       "0                      1               0            0                  1   \n",
       "1                      0               0            0                  1   \n",
       "2                      0               0            0                  1   \n",
       "3                      0               0            0                  0   \n",
       "4                      0               0            0                  1   \n",
       "\n",
       "   genre_Other  format_Audiobook  format_Hardcover  \\\n",
       "0            0                 0                 1   \n",
       "1            0                 0                 0   \n",
       "2            0                 0                 0   \n",
       "3            0                 0                 0   \n",
       "4            0                 0                 0   \n",
       "\n",
       "   format_Mass Market Paperback  format_Paperback  format_ebook  has_awards  \\\n",
       "0                             0                 0             0           1   \n",
       "1                             0                 1             0           1   \n",
       "2                             0                 1             0           1   \n",
       "3                             0                 1             0           0   \n",
       "4                             0                 1             0           1   \n",
       "\n",
       "   publish_year  is_popular  \n",
       "0          2008           1  \n",
       "1          2004           1  \n",
       "2          2006           1  \n",
       "3          2000           1  \n",
       "4          2009           0  "
      ]
     },
     "execution_count": 2,
     "metadata": {},
     "output_type": "execute_result"
    }
   ],
   "source": [
    "#import data\n",
    "books_df=pd.read_csv(\"data/books_df_clean.csv\")\n",
    "books_df.head()"
   ]
  },
  {
   "cell_type": "markdown",
   "id": "3956a5e6",
   "metadata": {},
   "source": [
    "It looks good, but it seems that the index was duplicated in another columns, we'll remove it."
   ]
  },
  {
   "cell_type": "code",
   "execution_count": 3,
   "id": "aa7a97cc",
   "metadata": {},
   "outputs": [],
   "source": [
    "#Drop Unnamed\n",
    "books_df.drop(['Unnamed: 0'],axis=1,inplace=True)"
   ]
  },
  {
   "cell_type": "markdown",
   "id": "dfd3033f",
   "metadata": {},
   "source": [
    "Now that we have our cleaned dataset, let's check its shape and make sure there are no more null values."
   ]
  },
  {
   "cell_type": "code",
   "execution_count": 4,
   "id": "0a0464f8",
   "metadata": {},
   "outputs": [
    {
     "data": {
      "text/plain": [
       "(39039, 41)"
      ]
     },
     "execution_count": 4,
     "metadata": {},
     "output_type": "execute_result"
    }
   ],
   "source": [
    "#check shape\n",
    "books_df.shape"
   ]
  },
  {
   "cell_type": "code",
   "execution_count": 5,
   "id": "3cbe84f3",
   "metadata": {},
   "outputs": [
    {
     "data": {
      "text/plain": [
       "title                           0\n",
       "description                     0\n",
       "pages                           0\n",
       "word_count_title                0\n",
       "is_series                       0\n",
       "book_count_by_author            0\n",
       "word_count_description          0\n",
       "genre_Adult                     0\n",
       "genre_Adventure                 0\n",
       "genre_Biography                 0\n",
       "genre_Childrens                 0\n",
       "genre_Classics                  0\n",
       "genre_Contemporary              0\n",
       "genre_Fantasy                   0\n",
       "genre_Fiction                   0\n",
       "genre_Historical                0\n",
       "genre_Historical Fiction        0\n",
       "genre_History                   0\n",
       "genre_Horror                    0\n",
       "genre_Islam                     0\n",
       "genre_Literature                0\n",
       "genre_Magic                     0\n",
       "genre_Mystery                   0\n",
       "genre_Nonfiction                0\n",
       "genre_Novels                    0\n",
       "genre_Paranormal                0\n",
       "genre_Poetry                    0\n",
       "genre_Romance                   0\n",
       "genre_Science Fiction           0\n",
       "genre_Thriller                  0\n",
       "genre_Urban                     0\n",
       "genre_Young Adult               0\n",
       "genre_Other                     0\n",
       "format_Audiobook                0\n",
       "format_Hardcover                0\n",
       "format_Mass Market Paperback    0\n",
       "format_Paperback                0\n",
       "format_ebook                    0\n",
       "has_awards                      0\n",
       "publish_year                    0\n",
       "is_popular                      0\n",
       "dtype: int64"
      ]
     },
     "execution_count": 5,
     "metadata": {},
     "output_type": "execute_result"
    }
   ],
   "source": [
    "#Check for null values\n",
    "books_df.isna().sum()"
   ]
  },
  {
   "cell_type": "markdown",
   "id": "a14f7925",
   "metadata": {},
   "source": [
    "We have 39,039 rows and 41 columns, which is the same as what we ended up with during the cleanup phase, and there are no null values. "
   ]
  },
  {
   "cell_type": "markdown",
   "id": "bb69bb03",
   "metadata": {},
   "source": [
    "#### Assigning the variables\n",
    "\n",
    "Before we can start modelling, we need to assign the independant variables X and the target variable y:\n",
    "\n",
    "- Target variable y: whether or not a book is popular, represented by the column 'is_popular'\n",
    "- Independant variables X: everything else, *except* the title and description, since they are text values."
   ]
  },
  {
   "cell_type": "code",
   "execution_count": 6,
   "id": "55a3be1d",
   "metadata": {},
   "outputs": [],
   "source": [
    "#Assigning the variables\n",
    "y=books_df['is_popular']\n",
    "X=books_df.drop(['title','description','is_popular'],axis=1)"
   ]
  },
  {
   "cell_type": "markdown",
   "id": "ef379f43",
   "metadata": {},
   "source": [
    "#### Splitting the dataset"
   ]
  },
  {
   "cell_type": "markdown",
   "id": "b57b364a",
   "metadata": {},
   "source": [
    "We have one more step before starting modelling, and that is to split our dataset into a train and test set. Why are we doing this? \n",
    "\n",
    "The goal of a machine learning model is to be able to generalize from data it has seen and learned from, to data that it has never seen before. We don't want the model to either *overfit* or *underfit*. Overfitting is when the model has learned too much, meaning that it has picked up all the details and random noise in the data but is unable to apply those concepts to new data, which leads to poor performance. Underfitting on the other hand, is when the model hasn't learned enough and cannot generalize to the new data.\n",
    "\n",
    "So if we were to train our model on the entire dataset, it would naturally overfit to it and we would have no way to test if the model works on data it has not seen before. So by splitting the dataset, we put aside a portion of the data (usually ~20%) that we don't touch until we are ready to assess the performance of the model, and that portion (the test set) acts as a proxy for future, new data.\n",
    "\n",
    "However, since we want to do hyperparamater optimization without a pipeline first (we'll use a pipeline later), we need to further split the dataset. So far we have put 20% aside as our test set, and we are left with the other 80% that we will call the remainder. We can split this remainder into a train and validation set: the train set will be used to train the model, and the validation set will be used to assess the performance. That way, the test set remains absolutely unseen until we are ready to use it. \n",
    "\n",
    "To summarize, we'll have:\n",
    "- a training set that we will use to train the model\n",
    "- a validation set that we will use to optimize the hyperparameters\n",
    "- a test set that we will use to assess the performance of the model\n",
    "\n",
    "The training & vaidation set together constitute the remainder set.\n",
    "\n",
    "SKLearn has a built-in function we can use to do the split. It split the data into 2 random sets, using arguments we give it. Here, we'll choose a 80/20 split, stratify on the 'y' to keep the proportions of the target variable the same between the 2 sets, and use a random state so the random split is always the same even if we re-run the cell. This is useful to ensure we work with the same train and set sets through our work. "
   ]
  },
  {
   "cell_type": "code",
   "execution_count": 7,
   "id": "84422713",
   "metadata": {},
   "outputs": [],
   "source": [
    "# Split the data to remainder and test set\n",
    "X_rem, X_test, y_rem, y_test= train_test_split (X, y, test_size=0.2, stratify=y, random_state=1)"
   ]
  },
  {
   "cell_type": "code",
   "execution_count": 8,
   "id": "9068e007",
   "metadata": {},
   "outputs": [],
   "source": [
    "#Split the remainder to train and test set\n",
    "X_train, X_val, y_train, y_val= train_test_split (X_rem, y_rem, test_size=0.2, stratify=y_rem, random_state=1)"
   ]
  },
  {
   "cell_type": "markdown",
   "id": "ad9c0fae",
   "metadata": {},
   "source": [
    "Now that we have split our dataset, we want to make sure that we kept the proportion of the target variable y the same. This is was the stratify argument does, but let's check:"
   ]
  },
  {
   "cell_type": "code",
   "execution_count": 9,
   "id": "48fe6b13",
   "metadata": {},
   "outputs": [
    {
     "name": "stdout",
     "output_type": "stream",
     "text": [
      "Proportions in original data:\n",
      "1    0.515664\n",
      "0    0.484336\n",
      "Name: is_popular, dtype: float64 \n",
      "\n",
      "Proportions in remainder set:\n",
      "1    0.515674\n",
      "0    0.484326\n",
      "Name: is_popular, dtype: float64 \n",
      "\n",
      "Proportions in test set:\n",
      "1    0.515625\n",
      "0    0.484375\n",
      "Name: is_popular, dtype: float64 \n",
      "\n",
      "Proportions in train set:\n",
      "1    0.51569\n",
      "0    0.48431\n",
      "Name: is_popular, dtype: float64 \n",
      "\n",
      "Proportions in validation set:\n",
      "1    0.515607\n",
      "0    0.484393\n",
      "Name: is_popular, dtype: float64 \n",
      "\n"
     ]
    }
   ],
   "source": [
    "#Check that the class proportion have been preserved\n",
    "print('Proportions in original data:')\n",
    "print(y.value_counts()/len(y), '\\n')\n",
    "\n",
    "print('Proportions in remainder set:')\n",
    "print(y_rem.value_counts()/len(y_rem), '\\n')\n",
    "\n",
    "print('Proportions in test set:')\n",
    "print(y_test.value_counts()/len(y_test), '\\n')\n",
    "\n",
    "print('Proportions in train set:')\n",
    "print(y_train.value_counts()/len(y_train), '\\n')\n",
    "\n",
    "print('Proportions in validation set:')\n",
    "print(y_val.value_counts()/len(y_val), '\\n')"
   ]
  },
  {
   "cell_type": "markdown",
   "id": "66af6e8e",
   "metadata": {},
   "source": [
    "They are all at 52/48, which is what we had when we looked at the class balance in the previous notebook. Great, we can now work on our first model!"
   ]
  },
  {
   "cell_type": "markdown",
   "id": "e72e1175",
   "metadata": {},
   "source": [
    "# 1. Logistic Regression\n",
    "\n",
    "Since the question we are trying to answer is a binary classification task (yes/no), we can use a logistic regression to fit our first model."
   ]
  },
  {
   "cell_type": "markdown",
   "id": "2afc99d3",
   "metadata": {},
   "source": [
    "Let's take a look at the remainder set."
   ]
  },
  {
   "cell_type": "code",
   "execution_count": 10,
   "id": "61817e77",
   "metadata": {},
   "outputs": [
    {
     "data": {
      "text/html": [
       "<div>\n",
       "<style scoped>\n",
       "    .dataframe tbody tr th:only-of-type {\n",
       "        vertical-align: middle;\n",
       "    }\n",
       "\n",
       "    .dataframe tbody tr th {\n",
       "        vertical-align: top;\n",
       "    }\n",
       "\n",
       "    .dataframe thead th {\n",
       "        text-align: right;\n",
       "    }\n",
       "</style>\n",
       "<table border=\"1\" class=\"dataframe\">\n",
       "  <thead>\n",
       "    <tr style=\"text-align: right;\">\n",
       "      <th></th>\n",
       "      <th>pages</th>\n",
       "      <th>word_count_title</th>\n",
       "      <th>is_series</th>\n",
       "      <th>book_count_by_author</th>\n",
       "      <th>word_count_description</th>\n",
       "      <th>genre_Adult</th>\n",
       "      <th>genre_Adventure</th>\n",
       "      <th>genre_Biography</th>\n",
       "      <th>genre_Childrens</th>\n",
       "      <th>genre_Classics</th>\n",
       "      <th>genre_Contemporary</th>\n",
       "      <th>genre_Fantasy</th>\n",
       "      <th>genre_Fiction</th>\n",
       "      <th>genre_Historical</th>\n",
       "      <th>genre_Historical Fiction</th>\n",
       "      <th>genre_History</th>\n",
       "      <th>genre_Horror</th>\n",
       "      <th>genre_Islam</th>\n",
       "      <th>genre_Literature</th>\n",
       "      <th>genre_Magic</th>\n",
       "      <th>genre_Mystery</th>\n",
       "      <th>genre_Nonfiction</th>\n",
       "      <th>genre_Novels</th>\n",
       "      <th>genre_Paranormal</th>\n",
       "      <th>genre_Poetry</th>\n",
       "      <th>genre_Romance</th>\n",
       "      <th>genre_Science Fiction</th>\n",
       "      <th>genre_Thriller</th>\n",
       "      <th>genre_Urban</th>\n",
       "      <th>genre_Young Adult</th>\n",
       "      <th>genre_Other</th>\n",
       "      <th>format_Audiobook</th>\n",
       "      <th>format_Hardcover</th>\n",
       "      <th>format_Mass Market Paperback</th>\n",
       "      <th>format_Paperback</th>\n",
       "      <th>format_ebook</th>\n",
       "      <th>has_awards</th>\n",
       "      <th>publish_year</th>\n",
       "    </tr>\n",
       "  </thead>\n",
       "  <tbody>\n",
       "    <tr>\n",
       "      <th>12988</th>\n",
       "      <td>479</td>\n",
       "      <td>10</td>\n",
       "      <td>0</td>\n",
       "      <td>1</td>\n",
       "      <td>231</td>\n",
       "      <td>1</td>\n",
       "      <td>0</td>\n",
       "      <td>1</td>\n",
       "      <td>0</td>\n",
       "      <td>0</td>\n",
       "      <td>0</td>\n",
       "      <td>0</td>\n",
       "      <td>0</td>\n",
       "      <td>1</td>\n",
       "      <td>0</td>\n",
       "      <td>1</td>\n",
       "      <td>0</td>\n",
       "      <td>0</td>\n",
       "      <td>0</td>\n",
       "      <td>0</td>\n",
       "      <td>0</td>\n",
       "      <td>1</td>\n",
       "      <td>0</td>\n",
       "      <td>0</td>\n",
       "      <td>0</td>\n",
       "      <td>0</td>\n",
       "      <td>0</td>\n",
       "      <td>0</td>\n",
       "      <td>0</td>\n",
       "      <td>0</td>\n",
       "      <td>0</td>\n",
       "      <td>0</td>\n",
       "      <td>1</td>\n",
       "      <td>0</td>\n",
       "      <td>0</td>\n",
       "      <td>0</td>\n",
       "      <td>1</td>\n",
       "      <td>2017</td>\n",
       "    </tr>\n",
       "    <tr>\n",
       "      <th>4460</th>\n",
       "      <td>416</td>\n",
       "      <td>4</td>\n",
       "      <td>1</td>\n",
       "      <td>2</td>\n",
       "      <td>238</td>\n",
       "      <td>0</td>\n",
       "      <td>0</td>\n",
       "      <td>0</td>\n",
       "      <td>0</td>\n",
       "      <td>0</td>\n",
       "      <td>1</td>\n",
       "      <td>0</td>\n",
       "      <td>1</td>\n",
       "      <td>0</td>\n",
       "      <td>0</td>\n",
       "      <td>0</td>\n",
       "      <td>0</td>\n",
       "      <td>0</td>\n",
       "      <td>0</td>\n",
       "      <td>0</td>\n",
       "      <td>1</td>\n",
       "      <td>0</td>\n",
       "      <td>0</td>\n",
       "      <td>0</td>\n",
       "      <td>0</td>\n",
       "      <td>0</td>\n",
       "      <td>0</td>\n",
       "      <td>0</td>\n",
       "      <td>0</td>\n",
       "      <td>0</td>\n",
       "      <td>0</td>\n",
       "      <td>0</td>\n",
       "      <td>0</td>\n",
       "      <td>0</td>\n",
       "      <td>0</td>\n",
       "      <td>0</td>\n",
       "      <td>0</td>\n",
       "      <td>2019</td>\n",
       "    </tr>\n",
       "    <tr>\n",
       "      <th>19577</th>\n",
       "      <td>421</td>\n",
       "      <td>11</td>\n",
       "      <td>1</td>\n",
       "      <td>1</td>\n",
       "      <td>38</td>\n",
       "      <td>0</td>\n",
       "      <td>0</td>\n",
       "      <td>0</td>\n",
       "      <td>0</td>\n",
       "      <td>0</td>\n",
       "      <td>1</td>\n",
       "      <td>0</td>\n",
       "      <td>0</td>\n",
       "      <td>0</td>\n",
       "      <td>0</td>\n",
       "      <td>0</td>\n",
       "      <td>0</td>\n",
       "      <td>0</td>\n",
       "      <td>0</td>\n",
       "      <td>0</td>\n",
       "      <td>0</td>\n",
       "      <td>0</td>\n",
       "      <td>0</td>\n",
       "      <td>0</td>\n",
       "      <td>0</td>\n",
       "      <td>1</td>\n",
       "      <td>0</td>\n",
       "      <td>0</td>\n",
       "      <td>0</td>\n",
       "      <td>1</td>\n",
       "      <td>0</td>\n",
       "      <td>0</td>\n",
       "      <td>0</td>\n",
       "      <td>0</td>\n",
       "      <td>0</td>\n",
       "      <td>1</td>\n",
       "      <td>0</td>\n",
       "      <td>2014</td>\n",
       "    </tr>\n",
       "    <tr>\n",
       "      <th>35307</th>\n",
       "      <td>338</td>\n",
       "      <td>5</td>\n",
       "      <td>1</td>\n",
       "      <td>14</td>\n",
       "      <td>99</td>\n",
       "      <td>0</td>\n",
       "      <td>0</td>\n",
       "      <td>0</td>\n",
       "      <td>0</td>\n",
       "      <td>0</td>\n",
       "      <td>0</td>\n",
       "      <td>0</td>\n",
       "      <td>1</td>\n",
       "      <td>0</td>\n",
       "      <td>0</td>\n",
       "      <td>0</td>\n",
       "      <td>0</td>\n",
       "      <td>0</td>\n",
       "      <td>0</td>\n",
       "      <td>0</td>\n",
       "      <td>1</td>\n",
       "      <td>0</td>\n",
       "      <td>0</td>\n",
       "      <td>0</td>\n",
       "      <td>0</td>\n",
       "      <td>0</td>\n",
       "      <td>0</td>\n",
       "      <td>1</td>\n",
       "      <td>0</td>\n",
       "      <td>0</td>\n",
       "      <td>0</td>\n",
       "      <td>0</td>\n",
       "      <td>0</td>\n",
       "      <td>0</td>\n",
       "      <td>1</td>\n",
       "      <td>0</td>\n",
       "      <td>1</td>\n",
       "      <td>1999</td>\n",
       "    </tr>\n",
       "    <tr>\n",
       "      <th>12699</th>\n",
       "      <td>220</td>\n",
       "      <td>4</td>\n",
       "      <td>0</td>\n",
       "      <td>2</td>\n",
       "      <td>178</td>\n",
       "      <td>0</td>\n",
       "      <td>0</td>\n",
       "      <td>0</td>\n",
       "      <td>0</td>\n",
       "      <td>1</td>\n",
       "      <td>0</td>\n",
       "      <td>0</td>\n",
       "      <td>0</td>\n",
       "      <td>0</td>\n",
       "      <td>0</td>\n",
       "      <td>1</td>\n",
       "      <td>0</td>\n",
       "      <td>0</td>\n",
       "      <td>0</td>\n",
       "      <td>0</td>\n",
       "      <td>1</td>\n",
       "      <td>1</td>\n",
       "      <td>0</td>\n",
       "      <td>1</td>\n",
       "      <td>0</td>\n",
       "      <td>0</td>\n",
       "      <td>0</td>\n",
       "      <td>0</td>\n",
       "      <td>0</td>\n",
       "      <td>0</td>\n",
       "      <td>0</td>\n",
       "      <td>0</td>\n",
       "      <td>0</td>\n",
       "      <td>0</td>\n",
       "      <td>1</td>\n",
       "      <td>0</td>\n",
       "      <td>0</td>\n",
       "      <td>1999</td>\n",
       "    </tr>\n",
       "  </tbody>\n",
       "</table>\n",
       "</div>"
      ],
      "text/plain": [
       "       pages  word_count_title  is_series  book_count_by_author  \\\n",
       "12988    479                10          0                     1   \n",
       "4460     416                 4          1                     2   \n",
       "19577    421                11          1                     1   \n",
       "35307    338                 5          1                    14   \n",
       "12699    220                 4          0                     2   \n",
       "\n",
       "       word_count_description  genre_Adult  genre_Adventure  genre_Biography  \\\n",
       "12988                     231            1                0                1   \n",
       "4460                      238            0                0                0   \n",
       "19577                      38            0                0                0   \n",
       "35307                      99            0                0                0   \n",
       "12699                     178            0                0                0   \n",
       "\n",
       "       genre_Childrens  genre_Classics  genre_Contemporary  genre_Fantasy  \\\n",
       "12988                0               0                   0              0   \n",
       "4460                 0               0                   1              0   \n",
       "19577                0               0                   1              0   \n",
       "35307                0               0                   0              0   \n",
       "12699                0               1                   0              0   \n",
       "\n",
       "       genre_Fiction  genre_Historical  genre_Historical Fiction  \\\n",
       "12988              0                 1                         0   \n",
       "4460               1                 0                         0   \n",
       "19577              0                 0                         0   \n",
       "35307              1                 0                         0   \n",
       "12699              0                 0                         0   \n",
       "\n",
       "       genre_History  genre_Horror  genre_Islam  genre_Literature  \\\n",
       "12988              1             0            0                 0   \n",
       "4460               0             0            0                 0   \n",
       "19577              0             0            0                 0   \n",
       "35307              0             0            0                 0   \n",
       "12699              1             0            0                 0   \n",
       "\n",
       "       genre_Magic  genre_Mystery  genre_Nonfiction  genre_Novels  \\\n",
       "12988            0              0                 1             0   \n",
       "4460             0              1                 0             0   \n",
       "19577            0              0                 0             0   \n",
       "35307            0              1                 0             0   \n",
       "12699            0              1                 1             0   \n",
       "\n",
       "       genre_Paranormal  genre_Poetry  genre_Romance  genre_Science Fiction  \\\n",
       "12988                 0             0              0                      0   \n",
       "4460                  0             0              0                      0   \n",
       "19577                 0             0              1                      0   \n",
       "35307                 0             0              0                      0   \n",
       "12699                 1             0              0                      0   \n",
       "\n",
       "       genre_Thriller  genre_Urban  genre_Young Adult  genre_Other  \\\n",
       "12988               0            0                  0            0   \n",
       "4460                0            0                  0            0   \n",
       "19577               0            0                  1            0   \n",
       "35307               1            0                  0            0   \n",
       "12699               0            0                  0            0   \n",
       "\n",
       "       format_Audiobook  format_Hardcover  format_Mass Market Paperback  \\\n",
       "12988                 0                 1                             0   \n",
       "4460                  0                 0                             0   \n",
       "19577                 0                 0                             0   \n",
       "35307                 0                 0                             0   \n",
       "12699                 0                 0                             0   \n",
       "\n",
       "       format_Paperback  format_ebook  has_awards  publish_year  \n",
       "12988                 0             0           1          2017  \n",
       "4460                  0             0           0          2019  \n",
       "19577                 0             1           0          2014  \n",
       "35307                 1             0           1          1999  \n",
       "12699                 1             0           0          1999  "
      ]
     },
     "execution_count": 10,
     "metadata": {},
     "output_type": "execute_result"
    }
   ],
   "source": [
    "#Check X_rem\n",
    "X_rem.head()"
   ]
  },
  {
   "cell_type": "markdown",
   "id": "212484d9",
   "metadata": {},
   "source": [
    "## 1.1 Vanilla LR"
   ]
  },
  {
   "cell_type": "markdown",
   "id": "b080cd0e",
   "metadata": {},
   "source": [
    "Let's train this very first model on the train and validation set. We won't scale the data either, just to have a baseline."
   ]
  },
  {
   "cell_type": "code",
   "execution_count": 11,
   "id": "3a8d9691",
   "metadata": {},
   "outputs": [
    {
     "name": "stdout",
     "output_type": "stream",
     "text": [
      "Train score:  0.6503762407941083\n",
      "Validation score:  0.6430286537538018\n"
     ]
    }
   ],
   "source": [
    "#Instantiate a vanilla LR model with unscaled data\n",
    "lr=LogisticRegression()\n",
    "\n",
    "#Fit the model on train data\n",
    "logreg=lr.fit(X_train, y_train)\n",
    "\n",
    "#Score the model\n",
    "print(\"Train score: \",logreg.score(X_train,y_train))\n",
    "print(\"Validation score: \",logreg.score(X_val,y_val))"
   ]
  },
  {
   "cell_type": "markdown",
   "id": "72fa163f",
   "metadata": {},
   "source": [
    "Considering that we would have a 52% chance of picking the right class without a model, a 64% accuracy on the validation set is not too bad. Let's see if we can improve it though. \n",
    "\n",
    "First, we know that the data is not on the same scale, as we have different measurements (number of pages, dummy variables, etc.) We can use a StandardScaler to reset all the variables on the same scale. Unlike a MinMax Scaler which normalizes the data (all the values are between 0 and 1), the standard scaler standardizes the data, meaning that it centers the data around 0 (the mean is 0 and the standard deviation is 1). This is usually more used than the MinMax Scaler, so we will use it for now, until we run a pipeline so we can try different scalers."
   ]
  },
  {
   "cell_type": "code",
   "execution_count": 12,
   "id": "29a25483",
   "metadata": {},
   "outputs": [],
   "source": [
    "#Scale the train/val with a Standard Scaler\n",
    "\n",
    "# instantiate the scaler\n",
    "scaler=StandardScaler()\n",
    "\n",
    "# fit the scaler to the X_train data\n",
    "scaler=scaler.fit(X_train)\n",
    "\n",
    "# transform both the X_train and X_test data with the fitted scaler\n",
    "X_train_ss=scaler.transform(X_train)\n",
    "X_val_ss=scaler.transform(X_val)"
   ]
  },
  {
   "cell_type": "markdown",
   "id": "1c4592d1",
   "metadata": {},
   "source": [
    "Now that the data is scaled, we can fit the same model as before."
   ]
  },
  {
   "cell_type": "code",
   "execution_count": 13,
   "id": "5c9fb1d5",
   "metadata": {},
   "outputs": [
    {
     "name": "stdout",
     "output_type": "stream",
     "text": [
      "Train score:  0.6558597502401537\n",
      "Validation score:  0.6543941091724027\n"
     ]
    }
   ],
   "source": [
    "#Instantiate a vanilla LR model on train/val with scaled data\n",
    "lr=LogisticRegression()\n",
    "\n",
    "#Fit the model on train data\n",
    "logreg=lr.fit(X_train_ss, y_train)\n",
    "\n",
    "#Score the model\n",
    "print(\"Train score: \",logreg.score(X_train_ss,y_train))\n",
    "print(\"Validation score: \",logreg.score(X_val_ss,y_val))"
   ]
  },
  {
   "cell_type": "markdown",
   "id": "319ed3ac",
   "metadata": {},
   "source": [
    "The score on the validation set is a bit better, 65.4% vs. 64.3% earlier. \n",
    "\n",
    "To optimize the hyperparameter C (the regularization), we can loop over its value and plot the results to see how if impacts the accuracy."
   ]
  },
  {
   "cell_type": "code",
   "execution_count": 14,
   "id": "a8b4f71a",
   "metadata": {},
   "outputs": [],
   "source": [
    "# Defining a range of C values\n",
    "c_values = [.00000001,.0000001,.000001,.00001,.0001,.001,.1,1,10,100,1000,10000,100000,1000000,10000000,100000000,1000000000]\n",
    "\n",
    "# Set up empty lists\n",
    "train_accuracies = []\n",
    "validation_accuracies = []\n",
    "\n",
    "# Loop over the C values\n",
    "for value in c_values:\n",
    "    \n",
    "    # Instantiate a logreg model and fit to the train scaled set\n",
    "    logreg = LogisticRegression(C=value, random_state=1).fit(X_train_ss, y_train)\n",
    "    \n",
    "    # Score on the train set and append this accuracy to the empty list\n",
    "    train_accuracies.append(logreg.score(X_train_ss, y_train))\n",
    "    \n",
    "    # Score on the validation set and append this accuracy to the empty list\n",
    "    validation_accuracies.append(logreg.score(X_val_ss, y_val))"
   ]
  },
  {
   "cell_type": "code",
   "execution_count": 15,
   "id": "4fd7a40a",
   "metadata": {},
   "outputs": [
    {
     "data": {
      "image/png": "[encoded data removed]",
      "text/plain": [
       "<Figure size 720x360 with 1 Axes>"
      ]
     },
     "metadata": {
      "needs_background": "light"
     },
     "output_type": "display_data"
    }
   ],
   "source": [
    "# Plot the accuracies\n",
    "plt.figure(figsize=(10, 5))\n",
    "plt.plot(c_values, train_accuracies, label='Train', marker='.')\n",
    "plt.plot(c_values, validation_accuracies, label='Validation', marker='.')\n",
    "plt.legend()\n",
    "plt.title('C value vs. accuracy')\n",
    "plt.xscale('log')\n",
    "plt.xlabel('C')\n",
    "plt.ylabel('Accuracy')\n",
    "plt.grid()\n",
    "plt.show()"
   ]
  },
  {
   "cell_type": "markdown",
   "id": "f6e00ecb",
   "metadata": {},
   "source": [
    "The accuracy seems to hover around 66%, and the best C seems to be 0.01. \n",
    "\n",
    "Instead of training and scoring the model on one random split of the dataset, we could try different random splits and see what the score is. Realistically, we can't do this manually but we can use a built-in function called K-fold cross validation that splits the data between train and validation sets K times, and averages all the scores to give a final accuracy score of the model. Let's try it."
   ]
  },
  {
   "cell_type": "markdown",
   "id": "b2944634",
   "metadata": {},
   "source": [
    "## 1.2 Using Cross Validation"
   ]
  },
  {
   "cell_type": "markdown",
   "id": "0f7acc17",
   "metadata": {},
   "source": [
    "We will loop over the same C values, but instead use a 5-fold cross validation to average the scores. We will plot the results to see what the best C is.\n",
    "\n",
    "Another point to note is that with a cross-validation, we don't need to have a train and validation set, the function splits it automatically. \n",
    "So we will run the cross-validation directly on the remainder and test set. Before we start, let's scale the remainder set with a StandardScaler, since it seemed to be performing better than unscaled data."
   ]
  },
  {
   "cell_type": "code",
   "execution_count": 16,
   "id": "7aefbd12",
   "metadata": {},
   "outputs": [],
   "source": [
    "#Scale the remainder/test with a Standard Scaler\n",
    "\n",
    "# instantiate the scaler\n",
    "scaler=StandardScaler()\n",
    "\n",
    "# fit the scaler to the X_train data\n",
    "scaler=scaler.fit(X_rem)\n",
    "\n",
    "# transform both the X_train and X_test data with the fitted scaler\n",
    "X_rem_ss=scaler.transform(X_rem)\n",
    "X_test_ss=scaler.transform(X_test)"
   ]
  },
  {
   "cell_type": "code",
   "execution_count": 17,
   "id": "8075de6b",
   "metadata": {},
   "outputs": [
    {
     "data": {
      "image/png": "[encoded data removed]",
      "text/plain": [
       "<Figure size 432x288 with 1 Axes>"
      ]
     },
     "metadata": {
      "needs_background": "light"
     },
     "output_type": "display_data"
    },
    {
     "name": "stdout",
     "output_type": "stream",
     "text": [
      "The best model has C =  0.001\n"
     ]
    }
   ],
   "source": [
    "#Store the results\n",
    "cross_validation_scores = []\n",
    "\n",
    "C_range = np.array([.00000001,.0000001,.000001,.00001,.0001,.001,.1,1,10,100,1000,10000,100000,1000000,10000000,100000000,1000000000])\n",
    "\n",
    "#Looping over c\n",
    "\n",
    "for c in C_range:\n",
    "    my_logreg = LogisticRegression(C=c,random_state=1)\n",
    "    \n",
    "    # the cross validation score (mean of scores from all folds)\n",
    "    cv_score = np.mean(cross_val_score(my_logreg, X_rem_ss, y_rem, cv = 5))\n",
    "    \n",
    "    cross_validation_scores.append(cv_score)\n",
    "\n",
    "plt.figure()\n",
    "plt.plot(C_range, cross_validation_scores,label=\"Cross Validation Score\",marker='.')\n",
    "plt.legend()\n",
    "plt.xscale(\"log\")\n",
    "plt.xlabel('Regularization Parameter: C')\n",
    "plt.ylabel('Cross Validation Score')\n",
    "plt.grid()\n",
    "plt.show();\n",
    "\n",
    "which_max = np.array(cross_validation_scores).argmax()\n",
    "\n",
    "print(\"The best model has C = \",C_range[which_max])"
   ]
  },
  {
   "cell_type": "markdown",
   "id": "eff06ab4",
   "metadata": {},
   "source": [
    "The highest average of cross validation scores seems to be when C=0.001. We can run another model with this optimized hyperparameter."
   ]
  },
  {
   "cell_type": "code",
   "execution_count": 20,
   "id": "cfe42cc4",
   "metadata": {},
   "outputs": [
    {
     "name": "stdout",
     "output_type": "stream",
     "text": [
      "Remainder score:  0.6570714994716788\n",
      "Test score:  0.6380635245901639\n"
     ]
    }
   ],
   "source": [
    "#Instantiate the final LR model with C=0.001\n",
    "lr=LogisticRegression(C=0.001)\n",
    "\n",
    "#Fit the model on train data\n",
    "final_logreg=lr.fit(X_rem_ss, y_rem)\n",
    "\n",
    "#Score the model\n",
    "print(\"Remainder score: \",final_logreg.score(X_rem_ss,y_rem))\n",
    "print(\"Test score: \",final_logreg.score(X_test_ss,y_test))"
   ]
  },
  {
   "cell_type": "markdown",
   "id": "81b737b4",
   "metadata": {},
   "source": [
    "The performance on the test set is a bit lower than before, but we were only testing on the validation set. This is a larger dataset so it makes sense that the performance is not as good."
   ]
  },
  {
   "cell_type": "markdown",
   "id": "691e988d",
   "metadata": {},
   "source": [
    "## 1.3 Using a Pipeline"
   ]
  },
  {
   "cell_type": "markdown",
   "id": "729dc6ad",
   "metadata": {},
   "source": [
    "That's a lot of steps, and we haven't even tried all of the hyperparameters yet! We could try different scalers, different regularization methods, different solvers... Thankfully, SK Learn has a method called pipeline that allows us to set various parameters and returns the combination that returns the best performance.\n",
    "\n",
    "Before we start, let's look at the parameters we want to try:\n",
    "- Penalty: this is the regularization method; L2 as default for Ridge, and L1 for Lasso\n",
    "- C: this is the inverse of the regularization strength, i.e the lowest the value, the strongest the regularization)\n",
    "- Scaler: we'll try without a scaler, and with 3 different types: MinMax, Standard and Robust\n",
    "- PCA: this stands for Principal Components Analysis, which allows to reduce the number of dimensions by transforming the features in vectors of the direction of the greatest variance. We can also select the number of PCA we want to keep (n_components) or the threshold of the proportion of the variance explained. This is what we will do here.\n",
    "\n",
    "We'll set n_jobs to -1 to limit the number CPU used to run the pipeline, and random state to 1 to ensure we always have the same results.\n",
    "\n",
    "We'll proceed in 5 steps:\n",
    "1. Set up a pipeline\n",
    "2. Set up the parameter grid\n",
    "3. Instantiate a cross validation on all the parameters above\n",
    "4. Scoring the best model\n",
    "5. Instantiating a fitting the final model with the best parameters"
   ]
  },
  {
   "cell_type": "code",
   "execution_count": 21,
   "id": "896cb565",
   "metadata": {},
   "outputs": [],
   "source": [
    "# Set up a pipeline\n",
    "pipeline = Pipeline([('scaler', StandardScaler()), \n",
    "                        ('dim_reducer', PCA()), \n",
    "                        ('model', LogisticRegression())])"
   ]
  },
  {
   "cell_type": "code",
   "execution_count": 22,
   "id": "e7802445",
   "metadata": {},
   "outputs": [],
   "source": [
    "# Defining several C values\n",
    "c_values = [.00000001,.0000001,.000001,.00001,.0001,.001,.1,1,10,100,1000,10000,100000,1000000,10000000,100000000,1000000000]\n",
    "\n",
    "# Setttin up the parameter grid\n",
    "param_grid = [\n",
    "    \n",
    "    # l1 without PCA\n",
    "    {'scaler': [None, StandardScaler(), MinMaxScaler(), RobustScaler()],\n",
    "     'dim_reducer': [None],\n",
    "     'model': [LogisticRegression(penalty='l1', random_state=1, n_jobs=-1)],\n",
    "     'model__C': c_values},\n",
    "    \n",
    "    # l1 with PCA\n",
    "    {'scaler': [None, StandardScaler(), MinMaxScaler(), RobustScaler()],\n",
    "     'dim_reducer': [PCA()],\n",
    "     'dim_reducer__n_components': [0.95, 0.9, 0.85, 0.8],\n",
    "     'model': [LogisticRegression(penalty='l1', random_state=1, n_jobs=-1)],\n",
    "     'model__C': c_values},\n",
    "    \n",
    "    # l2 without PCA\n",
    "    {'scaler': [None, StandardScaler(), MinMaxScaler(), RobustScaler()],\n",
    "     'dim_reducer': [None],\n",
    "     'model': [LogisticRegression(solver='lbfgs', random_state=1, n_jobs=-1)],\n",
    "     'model__C': c_values},\n",
    "    \n",
    "    # l2 with PCA\n",
    "    {'scaler': [None, StandardScaler(), MinMaxScaler(), RobustScaler()],\n",
    "     'dim_reducer': [PCA()],\n",
    "     'dim_reducer__n_components': [0.95, 0.9, 0.85, 0.8],\n",
    "     'model': [LogisticRegression(solver='lbfgs', random_state=1, n_jobs=-1)],\n",
    "     'model__C': c_values}\n",
    "]"
   ]
  },
  {
   "cell_type": "code",
   "execution_count": 23,
   "id": "9f6f7c56",
   "metadata": {},
   "outputs": [
    {
     "name": "stdout",
     "output_type": "stream",
     "text": [
      "Fitting 5 folds for each of 680 candidates, totalling 3400 fits\n"
     ]
    },
    {
     "name": "stderr",
     "output_type": "stream",
     "text": [
      "/Users/lauramercy/opt/anaconda3/lib/python3.9/site-packages/sklearn/linear_model/_logistic.py:814: ConvergenceWarning: lbfgs failed to converge (status=1):\n",
      "STOP: TOTAL NO. of ITERATIONS REACHED LIMIT.\n",
      "\n",
      "Increase the number of iterations (max_iter) or scale the data as shown in:\n",
      "    https://scikit-learn.org/stable/modules/preprocessing.html\n",
      "Please also refer to the documentation for alternative solver options:\n",
      "    https://scikit-learn.org/stable/modules/linear_model.html#logistic-regression\n",
      "  n_iter_i = _check_optimize_result(\n",
      "/Users/lauramercy/opt/anaconda3/lib/python3.9/site-packages/sklearn/linear_model/_logistic.py:814: ConvergenceWarning: lbfgs failed to converge (status=1):\n",
      "STOP: TOTAL NO. of ITERATIONS REACHED LIMIT.\n",
      "\n",
      "Increase the number of iterations (max_iter) or scale the data as shown in:\n",
      "    https://scikit-learn.org/stable/modules/preprocessing.html\n",
      "Please also refer to the documentation for alternative solver options:\n",
      "    https://scikit-learn.org/stable/modules/linear_model.html#logistic-regression\n",
      "  n_iter_i = _check_optimize_result(\n",
      "/Users/lauramercy/opt/anaconda3/lib/python3.9/site-packages/sklearn/linear_model/_logistic.py:814: ConvergenceWarning: lbfgs failed to converge (status=1):\n",
      "STOP: TOTAL NO. of ITERATIONS REACHED LIMIT.\n",
      "\n",
      "Increase the number of iterations (max_iter) or scale the data as shown in:\n",
      "    https://scikit-learn.org/stable/modules/preprocessing.html\n",
      "Please also refer to the documentation for alternative solver options:\n",
      "    https://scikit-learn.org/stable/modules/linear_model.html#logistic-regression\n",
      "  n_iter_i = _check_optimize_result(\n",
      "/Users/lauramercy/opt/anaconda3/lib/python3.9/site-packages/sklearn/linear_model/_logistic.py:814: ConvergenceWarning: lbfgs failed to converge (status=1):\n",
      "STOP: TOTAL NO. of ITERATIONS REACHED LIMIT.\n",
      "\n",
      "Increase the number of iterations (max_iter) or scale the data as shown in:\n",
      "    https://scikit-learn.org/stable/modules/preprocessing.html\n",
      "Please also refer to the documentation for alternative solver options:\n",
      "    https://scikit-learn.org/stable/modules/linear_model.html#logistic-regression\n",
      "  n_iter_i = _check_optimize_result(\n",
      "/Users/lauramercy/opt/anaconda3/lib/python3.9/site-packages/sklearn/linear_model/_logistic.py:814: ConvergenceWarning: lbfgs failed to converge (status=1):\n",
      "STOP: TOTAL NO. of ITERATIONS REACHED LIMIT.\n",
      "\n",
      "Increase the number of iterations (max_iter) or scale the data as shown in:\n",
      "    https://scikit-learn.org/stable/modules/preprocessing.html\n",
      "Please also refer to the documentation for alternative solver options:\n",
      "    https://scikit-learn.org/stable/modules/linear_model.html#logistic-regression\n",
      "  n_iter_i = _check_optimize_result(\n",
      "/Users/lauramercy/opt/anaconda3/lib/python3.9/site-packages/sklearn/linear_model/_logistic.py:814: ConvergenceWarning: lbfgs failed to converge (status=1):\n",
      "STOP: TOTAL NO. of ITERATIONS REACHED LIMIT.\n",
      "\n",
      "Increase the number of iterations (max_iter) or scale the data as shown in:\n",
      "    https://scikit-learn.org/stable/modules/preprocessing.html\n",
      "Please also refer to the documentation for alternative solver options:\n",
      "    https://scikit-learn.org/stable/modules/linear_model.html#logistic-regression\n",
      "  n_iter_i = _check_optimize_result(\n",
      "/Users/lauramercy/opt/anaconda3/lib/python3.9/site-packages/sklearn/linear_model/_logistic.py:814: ConvergenceWarning: lbfgs failed to converge (status=1):\n",
      "STOP: TOTAL NO. of ITERATIONS REACHED LIMIT.\n",
      "\n",
      "Increase the number of iterations (max_iter) or scale the data as shown in:\n",
      "    https://scikit-learn.org/stable/modules/preprocessing.html\n",
      "Please also refer to the documentation for alternative solver options:\n",
      "    https://scikit-learn.org/stable/modules/linear_model.html#logistic-regression\n",
      "  n_iter_i = _check_optimize_result(\n",
      "/Users/lauramercy/opt/anaconda3/lib/python3.9/site-packages/sklearn/linear_model/_logistic.py:814: ConvergenceWarning: lbfgs failed to converge (status=1):\n",
      "STOP: TOTAL NO. of ITERATIONS REACHED LIMIT.\n",
      "\n",
      "Increase the number of iterations (max_iter) or scale the data as shown in:\n",
      "    https://scikit-learn.org/stable/modules/preprocessing.html\n",
      "Please also refer to the documentation for alternative solver options:\n",
      "    https://scikit-learn.org/stable/modules/linear_model.html#logistic-regression\n",
      "  n_iter_i = _check_optimize_result(\n",
      "/Users/lauramercy/opt/anaconda3/lib/python3.9/site-packages/sklearn/linear_model/_logistic.py:814: ConvergenceWarning: lbfgs failed to converge (status=1):\n",
      "STOP: TOTAL NO. of ITERATIONS REACHED LIMIT.\n",
      "\n",
      "Increase the number of iterations (max_iter) or scale the data as shown in:\n",
      "    https://scikit-learn.org/stable/modules/preprocessing.html\n",
      "Please also refer to the documentation for alternative solver options:\n",
      "    https://scikit-learn.org/stable/modules/linear_model.html#logistic-regression\n",
      "  n_iter_i = _check_optimize_result(\n",
      "/Users/lauramercy/opt/anaconda3/lib/python3.9/site-packages/sklearn/linear_model/_logistic.py:814: ConvergenceWarning: lbfgs failed to converge (status=1):\n",
      "STOP: TOTAL NO. of ITERATIONS REACHED LIMIT.\n",
      "\n",
      "Increase the number of iterations (max_iter) or scale the data as shown in:\n",
      "    https://scikit-learn.org/stable/modules/preprocessing.html\n",
      "Please also refer to the documentation for alternative solver options:\n",
      "    https://scikit-learn.org/stable/modules/linear_model.html#logistic-regression\n",
      "  n_iter_i = _check_optimize_result(\n",
      "/Users/lauramercy/opt/anaconda3/lib/python3.9/site-packages/sklearn/linear_model/_logistic.py:814: ConvergenceWarning: lbfgs failed to converge (status=1):\n",
      "STOP: TOTAL NO. of ITERATIONS REACHED LIMIT.\n",
      "\n",
      "Increase the number of iterations (max_iter) or scale the data as shown in:\n",
      "    https://scikit-learn.org/stable/modules/preprocessing.html\n",
      "Please also refer to the documentation for alternative solver options:\n",
      "    https://scikit-learn.org/stable/modules/linear_model.html#logistic-regression\n",
      "  n_iter_i = _check_optimize_result(\n",
      "/Users/lauramercy/opt/anaconda3/lib/python3.9/site-packages/sklearn/linear_model/_logistic.py:814: ConvergenceWarning: lbfgs failed to converge (status=1):\n",
      "STOP: TOTAL NO. of ITERATIONS REACHED LIMIT.\n",
      "\n",
      "Increase the number of iterations (max_iter) or scale the data as shown in:\n",
      "    https://scikit-learn.org/stable/modules/preprocessing.html\n",
      "Please also refer to the documentation for alternative solver options:\n",
      "    https://scikit-learn.org/stable/modules/linear_model.html#logistic-regression\n",
      "  n_iter_i = _check_optimize_result(\n",
      "/Users/lauramercy/opt/anaconda3/lib/python3.9/site-packages/sklearn/linear_model/_logistic.py:814: ConvergenceWarning: lbfgs failed to converge (status=1):\n",
      "STOP: TOTAL NO. of ITERATIONS REACHED LIMIT.\n",
      "\n",
      "Increase the number of iterations (max_iter) or scale the data as shown in:\n",
      "    https://scikit-learn.org/stable/modules/preprocessing.html\n",
      "Please also refer to the documentation for alternative solver options:\n",
      "    https://scikit-learn.org/stable/modules/linear_model.html#logistic-regression\n",
      "  n_iter_i = _check_optimize_result(\n",
      "/Users/lauramercy/opt/anaconda3/lib/python3.9/site-packages/sklearn/linear_model/_logistic.py:814: ConvergenceWarning: lbfgs failed to converge (status=1):\n",
      "STOP: TOTAL NO. of ITERATIONS REACHED LIMIT.\n",
      "\n",
      "Increase the number of iterations (max_iter) or scale the data as shown in:\n",
      "    https://scikit-learn.org/stable/modules/preprocessing.html\n",
      "Please also refer to the documentation for alternative solver options:\n",
      "    https://scikit-learn.org/stable/modules/linear_model.html#logistic-regression\n",
      "  n_iter_i = _check_optimize_result(\n",
      "/Users/lauramercy/opt/anaconda3/lib/python3.9/site-packages/sklearn/linear_model/_logistic.py:814: ConvergenceWarning: lbfgs failed to converge (status=1):\n",
      "STOP: TOTAL NO. of ITERATIONS REACHED LIMIT.\n",
      "\n",
      "Increase the number of iterations (max_iter) or scale the data as shown in:\n",
      "    https://scikit-learn.org/stable/modules/preprocessing.html\n",
      "Please also refer to the documentation for alternative solver options:\n",
      "    https://scikit-learn.org/stable/modules/linear_model.html#logistic-regression\n",
      "  n_iter_i = _check_optimize_result(\n",
      "/Users/lauramercy/opt/anaconda3/lib/python3.9/site-packages/sklearn/linear_model/_logistic.py:814: ConvergenceWarning: lbfgs failed to converge (status=1):\n",
      "STOP: TOTAL NO. of ITERATIONS REACHED LIMIT.\n",
      "\n",
      "Increase the number of iterations (max_iter) or scale the data as shown in:\n",
      "    https://scikit-learn.org/stable/modules/preprocessing.html\n",
      "Please also refer to the documentation for alternative solver options:\n",
      "    https://scikit-learn.org/stable/modules/linear_model.html#logistic-regression\n",
      "  n_iter_i = _check_optimize_result(\n",
      "/Users/lauramercy/opt/anaconda3/lib/python3.9/site-packages/sklearn/linear_model/_logistic.py:814: ConvergenceWarning: lbfgs failed to converge (status=1):\n",
      "STOP: TOTAL NO. of ITERATIONS REACHED LIMIT.\n",
      "\n",
      "Increase the number of iterations (max_iter) or scale the data as shown in:\n",
      "    https://scikit-learn.org/stable/modules/preprocessing.html\n",
      "Please also refer to the documentation for alternative solver options:\n",
      "    https://scikit-learn.org/stable/modules/linear_model.html#logistic-regression\n",
      "  n_iter_i = _check_optimize_result(\n",
      "/Users/lauramercy/opt/anaconda3/lib/python3.9/site-packages/sklearn/linear_model/_logistic.py:814: ConvergenceWarning: lbfgs failed to converge (status=1):\n",
      "STOP: TOTAL NO. of ITERATIONS REACHED LIMIT.\n",
      "\n",
      "Increase the number of iterations (max_iter) or scale the data as shown in:\n",
      "    https://scikit-learn.org/stable/modules/preprocessing.html\n",
      "Please also refer to the documentation for alternative solver options:\n",
      "    https://scikit-learn.org/stable/modules/linear_model.html#logistic-regression\n",
      "  n_iter_i = _check_optimize_result(\n"
     ]
    },
    {
     "name": "stderr",
     "output_type": "stream",
     "text": [
      "/Users/lauramercy/opt/anaconda3/lib/python3.9/site-packages/sklearn/linear_model/_logistic.py:814: ConvergenceWarning: lbfgs failed to converge (status=1):\n",
      "STOP: TOTAL NO. of ITERATIONS REACHED LIMIT.\n",
      "\n",
      "Increase the number of iterations (max_iter) or scale the data as shown in:\n",
      "    https://scikit-learn.org/stable/modules/preprocessing.html\n",
      "Please also refer to the documentation for alternative solver options:\n",
      "    https://scikit-learn.org/stable/modules/linear_model.html#logistic-regression\n",
      "  n_iter_i = _check_optimize_result(\n",
      "/Users/lauramercy/opt/anaconda3/lib/python3.9/site-packages/sklearn/linear_model/_logistic.py:814: ConvergenceWarning: lbfgs failed to converge (status=1):\n",
      "STOP: TOTAL NO. of ITERATIONS REACHED LIMIT.\n",
      "\n",
      "Increase the number of iterations (max_iter) or scale the data as shown in:\n",
      "    https://scikit-learn.org/stable/modules/preprocessing.html\n",
      "Please also refer to the documentation for alternative solver options:\n",
      "    https://scikit-learn.org/stable/modules/linear_model.html#logistic-regression\n",
      "  n_iter_i = _check_optimize_result(\n",
      "/Users/lauramercy/opt/anaconda3/lib/python3.9/site-packages/sklearn/linear_model/_logistic.py:814: ConvergenceWarning: lbfgs failed to converge (status=1):\n",
      "STOP: TOTAL NO. of ITERATIONS REACHED LIMIT.\n",
      "\n",
      "Increase the number of iterations (max_iter) or scale the data as shown in:\n",
      "    https://scikit-learn.org/stable/modules/preprocessing.html\n",
      "Please also refer to the documentation for alternative solver options:\n",
      "    https://scikit-learn.org/stable/modules/linear_model.html#logistic-regression\n",
      "  n_iter_i = _check_optimize_result(\n",
      "/Users/lauramercy/opt/anaconda3/lib/python3.9/site-packages/sklearn/linear_model/_logistic.py:814: ConvergenceWarning: lbfgs failed to converge (status=1):\n",
      "STOP: TOTAL NO. of ITERATIONS REACHED LIMIT.\n",
      "\n",
      "Increase the number of iterations (max_iter) or scale the data as shown in:\n",
      "    https://scikit-learn.org/stable/modules/preprocessing.html\n",
      "Please also refer to the documentation for alternative solver options:\n",
      "    https://scikit-learn.org/stable/modules/linear_model.html#logistic-regression\n",
      "  n_iter_i = _check_optimize_result(\n",
      "/Users/lauramercy/opt/anaconda3/lib/python3.9/site-packages/sklearn/linear_model/_logistic.py:814: ConvergenceWarning: lbfgs failed to converge (status=1):\n",
      "STOP: TOTAL NO. of ITERATIONS REACHED LIMIT.\n",
      "\n",
      "Increase the number of iterations (max_iter) or scale the data as shown in:\n",
      "    https://scikit-learn.org/stable/modules/preprocessing.html\n",
      "Please also refer to the documentation for alternative solver options:\n",
      "    https://scikit-learn.org/stable/modules/linear_model.html#logistic-regression\n",
      "  n_iter_i = _check_optimize_result(\n",
      "/Users/lauramercy/opt/anaconda3/lib/python3.9/site-packages/sklearn/linear_model/_logistic.py:814: ConvergenceWarning: lbfgs failed to converge (status=1):\n",
      "STOP: TOTAL NO. of ITERATIONS REACHED LIMIT.\n",
      "\n",
      "Increase the number of iterations (max_iter) or scale the data as shown in:\n",
      "    https://scikit-learn.org/stable/modules/preprocessing.html\n",
      "Please also refer to the documentation for alternative solver options:\n",
      "    https://scikit-learn.org/stable/modules/linear_model.html#logistic-regression\n",
      "  n_iter_i = _check_optimize_result(\n",
      "/Users/lauramercy/opt/anaconda3/lib/python3.9/site-packages/sklearn/linear_model/_logistic.py:814: ConvergenceWarning: lbfgs failed to converge (status=1):\n",
      "STOP: TOTAL NO. of ITERATIONS REACHED LIMIT.\n",
      "\n",
      "Increase the number of iterations (max_iter) or scale the data as shown in:\n",
      "    https://scikit-learn.org/stable/modules/preprocessing.html\n",
      "Please also refer to the documentation for alternative solver options:\n",
      "    https://scikit-learn.org/stable/modules/linear_model.html#logistic-regression\n",
      "  n_iter_i = _check_optimize_result(\n",
      "/Users/lauramercy/opt/anaconda3/lib/python3.9/site-packages/sklearn/linear_model/_logistic.py:814: ConvergenceWarning: lbfgs failed to converge (status=1):\n",
      "STOP: TOTAL NO. of ITERATIONS REACHED LIMIT.\n",
      "\n",
      "Increase the number of iterations (max_iter) or scale the data as shown in:\n",
      "    https://scikit-learn.org/stable/modules/preprocessing.html\n",
      "Please also refer to the documentation for alternative solver options:\n",
      "    https://scikit-learn.org/stable/modules/linear_model.html#logistic-regression\n",
      "  n_iter_i = _check_optimize_result(\n",
      "/Users/lauramercy/opt/anaconda3/lib/python3.9/site-packages/sklearn/linear_model/_logistic.py:814: ConvergenceWarning: lbfgs failed to converge (status=1):\n",
      "STOP: TOTAL NO. of ITERATIONS REACHED LIMIT.\n",
      "\n",
      "Increase the number of iterations (max_iter) or scale the data as shown in:\n",
      "    https://scikit-learn.org/stable/modules/preprocessing.html\n",
      "Please also refer to the documentation for alternative solver options:\n",
      "    https://scikit-learn.org/stable/modules/linear_model.html#logistic-regression\n",
      "  n_iter_i = _check_optimize_result(\n",
      "/Users/lauramercy/opt/anaconda3/lib/python3.9/site-packages/sklearn/linear_model/_logistic.py:814: ConvergenceWarning: lbfgs failed to converge (status=1):\n",
      "STOP: TOTAL NO. of ITERATIONS REACHED LIMIT.\n",
      "\n",
      "Increase the number of iterations (max_iter) or scale the data as shown in:\n",
      "    https://scikit-learn.org/stable/modules/preprocessing.html\n",
      "Please also refer to the documentation for alternative solver options:\n",
      "    https://scikit-learn.org/stable/modules/linear_model.html#logistic-regression\n",
      "  n_iter_i = _check_optimize_result(\n",
      "/Users/lauramercy/opt/anaconda3/lib/python3.9/site-packages/sklearn/linear_model/_logistic.py:814: ConvergenceWarning: lbfgs failed to converge (status=1):\n",
      "STOP: TOTAL NO. of ITERATIONS REACHED LIMIT.\n",
      "\n",
      "Increase the number of iterations (max_iter) or scale the data as shown in:\n",
      "    https://scikit-learn.org/stable/modules/preprocessing.html\n",
      "Please also refer to the documentation for alternative solver options:\n",
      "    https://scikit-learn.org/stable/modules/linear_model.html#logistic-regression\n",
      "  n_iter_i = _check_optimize_result(\n",
      "/Users/lauramercy/opt/anaconda3/lib/python3.9/site-packages/sklearn/linear_model/_logistic.py:814: ConvergenceWarning: lbfgs failed to converge (status=1):\n",
      "STOP: TOTAL NO. of ITERATIONS REACHED LIMIT.\n",
      "\n",
      "Increase the number of iterations (max_iter) or scale the data as shown in:\n",
      "    https://scikit-learn.org/stable/modules/preprocessing.html\n",
      "Please also refer to the documentation for alternative solver options:\n",
      "    https://scikit-learn.org/stable/modules/linear_model.html#logistic-regression\n",
      "  n_iter_i = _check_optimize_result(\n",
      "/Users/lauramercy/opt/anaconda3/lib/python3.9/site-packages/sklearn/linear_model/_logistic.py:814: ConvergenceWarning: lbfgs failed to converge (status=1):\n",
      "STOP: TOTAL NO. of ITERATIONS REACHED LIMIT.\n",
      "\n",
      "Increase the number of iterations (max_iter) or scale the data as shown in:\n",
      "    https://scikit-learn.org/stable/modules/preprocessing.html\n",
      "Please also refer to the documentation for alternative solver options:\n",
      "    https://scikit-learn.org/stable/modules/linear_model.html#logistic-regression\n",
      "  n_iter_i = _check_optimize_result(\n",
      "/Users/lauramercy/opt/anaconda3/lib/python3.9/site-packages/sklearn/linear_model/_logistic.py:814: ConvergenceWarning: lbfgs failed to converge (status=1):\n",
      "STOP: TOTAL NO. of ITERATIONS REACHED LIMIT.\n",
      "\n",
      "Increase the number of iterations (max_iter) or scale the data as shown in:\n",
      "    https://scikit-learn.org/stable/modules/preprocessing.html\n",
      "Please also refer to the documentation for alternative solver options:\n",
      "    https://scikit-learn.org/stable/modules/linear_model.html#logistic-regression\n",
      "  n_iter_i = _check_optimize_result(\n",
      "/Users/lauramercy/opt/anaconda3/lib/python3.9/site-packages/sklearn/linear_model/_logistic.py:814: ConvergenceWarning: lbfgs failed to converge (status=1):\n",
      "STOP: TOTAL NO. of ITERATIONS REACHED LIMIT.\n",
      "\n",
      "Increase the number of iterations (max_iter) or scale the data as shown in:\n",
      "    https://scikit-learn.org/stable/modules/preprocessing.html\n",
      "Please also refer to the documentation for alternative solver options:\n",
      "    https://scikit-learn.org/stable/modules/linear_model.html#logistic-regression\n",
      "  n_iter_i = _check_optimize_result(\n",
      "/Users/lauramercy/opt/anaconda3/lib/python3.9/site-packages/sklearn/linear_model/_logistic.py:814: ConvergenceWarning: lbfgs failed to converge (status=1):\n",
      "STOP: TOTAL NO. of ITERATIONS REACHED LIMIT.\n",
      "\n",
      "Increase the number of iterations (max_iter) or scale the data as shown in:\n",
      "    https://scikit-learn.org/stable/modules/preprocessing.html\n",
      "Please also refer to the documentation for alternative solver options:\n",
      "    https://scikit-learn.org/stable/modules/linear_model.html#logistic-regression\n",
      "  n_iter_i = _check_optimize_result(\n"
     ]
    },
    {
     "name": "stderr",
     "output_type": "stream",
     "text": [
      "/Users/lauramercy/opt/anaconda3/lib/python3.9/site-packages/sklearn/linear_model/_logistic.py:814: ConvergenceWarning: lbfgs failed to converge (status=1):\n",
      "STOP: TOTAL NO. of ITERATIONS REACHED LIMIT.\n",
      "\n",
      "Increase the number of iterations (max_iter) or scale the data as shown in:\n",
      "    https://scikit-learn.org/stable/modules/preprocessing.html\n",
      "Please also refer to the documentation for alternative solver options:\n",
      "    https://scikit-learn.org/stable/modules/linear_model.html#logistic-regression\n",
      "  n_iter_i = _check_optimize_result(\n",
      "/Users/lauramercy/opt/anaconda3/lib/python3.9/site-packages/sklearn/linear_model/_logistic.py:814: ConvergenceWarning: lbfgs failed to converge (status=1):\n",
      "STOP: TOTAL NO. of ITERATIONS REACHED LIMIT.\n",
      "\n",
      "Increase the number of iterations (max_iter) or scale the data as shown in:\n",
      "    https://scikit-learn.org/stable/modules/preprocessing.html\n",
      "Please also refer to the documentation for alternative solver options:\n",
      "    https://scikit-learn.org/stable/modules/linear_model.html#logistic-regression\n",
      "  n_iter_i = _check_optimize_result(\n",
      "/Users/lauramercy/opt/anaconda3/lib/python3.9/site-packages/sklearn/linear_model/_logistic.py:814: ConvergenceWarning: lbfgs failed to converge (status=1):\n",
      "STOP: TOTAL NO. of ITERATIONS REACHED LIMIT.\n",
      "\n",
      "Increase the number of iterations (max_iter) or scale the data as shown in:\n",
      "    https://scikit-learn.org/stable/modules/preprocessing.html\n",
      "Please also refer to the documentation for alternative solver options:\n",
      "    https://scikit-learn.org/stable/modules/linear_model.html#logistic-regression\n",
      "  n_iter_i = _check_optimize_result(\n",
      "/Users/lauramercy/opt/anaconda3/lib/python3.9/site-packages/sklearn/linear_model/_logistic.py:814: ConvergenceWarning: lbfgs failed to converge (status=1):\n",
      "STOP: TOTAL NO. of ITERATIONS REACHED LIMIT.\n",
      "\n",
      "Increase the number of iterations (max_iter) or scale the data as shown in:\n",
      "    https://scikit-learn.org/stable/modules/preprocessing.html\n",
      "Please also refer to the documentation for alternative solver options:\n",
      "    https://scikit-learn.org/stable/modules/linear_model.html#logistic-regression\n",
      "  n_iter_i = _check_optimize_result(\n",
      "/Users/lauramercy/opt/anaconda3/lib/python3.9/site-packages/sklearn/linear_model/_logistic.py:814: ConvergenceWarning: lbfgs failed to converge (status=1):\n",
      "STOP: TOTAL NO. of ITERATIONS REACHED LIMIT.\n",
      "\n",
      "Increase the number of iterations (max_iter) or scale the data as shown in:\n",
      "    https://scikit-learn.org/stable/modules/preprocessing.html\n",
      "Please also refer to the documentation for alternative solver options:\n",
      "    https://scikit-learn.org/stable/modules/linear_model.html#logistic-regression\n",
      "  n_iter_i = _check_optimize_result(\n",
      "/Users/lauramercy/opt/anaconda3/lib/python3.9/site-packages/sklearn/linear_model/_logistic.py:814: ConvergenceWarning: lbfgs failed to converge (status=1):\n",
      "STOP: TOTAL NO. of ITERATIONS REACHED LIMIT.\n",
      "\n",
      "Increase the number of iterations (max_iter) or scale the data as shown in:\n",
      "    https://scikit-learn.org/stable/modules/preprocessing.html\n",
      "Please also refer to the documentation for alternative solver options:\n",
      "    https://scikit-learn.org/stable/modules/linear_model.html#logistic-regression\n",
      "  n_iter_i = _check_optimize_result(\n",
      "/Users/lauramercy/opt/anaconda3/lib/python3.9/site-packages/sklearn/linear_model/_logistic.py:814: ConvergenceWarning: lbfgs failed to converge (status=1):\n",
      "STOP: TOTAL NO. of ITERATIONS REACHED LIMIT.\n",
      "\n",
      "Increase the number of iterations (max_iter) or scale the data as shown in:\n",
      "    https://scikit-learn.org/stable/modules/preprocessing.html\n",
      "Please also refer to the documentation for alternative solver options:\n",
      "    https://scikit-learn.org/stable/modules/linear_model.html#logistic-regression\n",
      "  n_iter_i = _check_optimize_result(\n",
      "/Users/lauramercy/opt/anaconda3/lib/python3.9/site-packages/sklearn/linear_model/_logistic.py:814: ConvergenceWarning: lbfgs failed to converge (status=1):\n",
      "STOP: TOTAL NO. of ITERATIONS REACHED LIMIT.\n",
      "\n",
      "Increase the number of iterations (max_iter) or scale the data as shown in:\n",
      "    https://scikit-learn.org/stable/modules/preprocessing.html\n",
      "Please also refer to the documentation for alternative solver options:\n",
      "    https://scikit-learn.org/stable/modules/linear_model.html#logistic-regression\n",
      "  n_iter_i = _check_optimize_result(\n",
      "/Users/lauramercy/opt/anaconda3/lib/python3.9/site-packages/sklearn/linear_model/_logistic.py:814: ConvergenceWarning: lbfgs failed to converge (status=1):\n",
      "STOP: TOTAL NO. of ITERATIONS REACHED LIMIT.\n",
      "\n",
      "Increase the number of iterations (max_iter) or scale the data as shown in:\n",
      "    https://scikit-learn.org/stable/modules/preprocessing.html\n",
      "Please also refer to the documentation for alternative solver options:\n",
      "    https://scikit-learn.org/stable/modules/linear_model.html#logistic-regression\n",
      "  n_iter_i = _check_optimize_result(\n",
      "/Users/lauramercy/opt/anaconda3/lib/python3.9/site-packages/sklearn/linear_model/_logistic.py:814: ConvergenceWarning: lbfgs failed to converge (status=1):\n",
      "STOP: TOTAL NO. of ITERATIONS REACHED LIMIT.\n",
      "\n",
      "Increase the number of iterations (max_iter) or scale the data as shown in:\n",
      "    https://scikit-learn.org/stable/modules/preprocessing.html\n",
      "Please also refer to the documentation for alternative solver options:\n",
      "    https://scikit-learn.org/stable/modules/linear_model.html#logistic-regression\n",
      "  n_iter_i = _check_optimize_result(\n",
      "/Users/lauramercy/opt/anaconda3/lib/python3.9/site-packages/sklearn/linear_model/_logistic.py:814: ConvergenceWarning: lbfgs failed to converge (status=1):\n",
      "STOP: TOTAL NO. of ITERATIONS REACHED LIMIT.\n",
      "\n",
      "Increase the number of iterations (max_iter) or scale the data as shown in:\n",
      "    https://scikit-learn.org/stable/modules/preprocessing.html\n",
      "Please also refer to the documentation for alternative solver options:\n",
      "    https://scikit-learn.org/stable/modules/linear_model.html#logistic-regression\n",
      "  n_iter_i = _check_optimize_result(\n",
      "/Users/lauramercy/opt/anaconda3/lib/python3.9/site-packages/sklearn/linear_model/_logistic.py:814: ConvergenceWarning: lbfgs failed to converge (status=1):\n",
      "STOP: TOTAL NO. of ITERATIONS REACHED LIMIT.\n",
      "\n",
      "Increase the number of iterations (max_iter) or scale the data as shown in:\n",
      "    https://scikit-learn.org/stable/modules/preprocessing.html\n",
      "Please also refer to the documentation for alternative solver options:\n",
      "    https://scikit-learn.org/stable/modules/linear_model.html#logistic-regression\n",
      "  n_iter_i = _check_optimize_result(\n",
      "/Users/lauramercy/opt/anaconda3/lib/python3.9/site-packages/sklearn/linear_model/_logistic.py:814: ConvergenceWarning: lbfgs failed to converge (status=1):\n",
      "STOP: TOTAL NO. of ITERATIONS REACHED LIMIT.\n",
      "\n",
      "Increase the number of iterations (max_iter) or scale the data as shown in:\n",
      "    https://scikit-learn.org/stable/modules/preprocessing.html\n",
      "Please also refer to the documentation for alternative solver options:\n",
      "    https://scikit-learn.org/stable/modules/linear_model.html#logistic-regression\n",
      "  n_iter_i = _check_optimize_result(\n",
      "/Users/lauramercy/opt/anaconda3/lib/python3.9/site-packages/sklearn/linear_model/_logistic.py:814: ConvergenceWarning: lbfgs failed to converge (status=1):\n",
      "STOP: TOTAL NO. of ITERATIONS REACHED LIMIT.\n",
      "\n",
      "Increase the number of iterations (max_iter) or scale the data as shown in:\n",
      "    https://scikit-learn.org/stable/modules/preprocessing.html\n",
      "Please also refer to the documentation for alternative solver options:\n",
      "    https://scikit-learn.org/stable/modules/linear_model.html#logistic-regression\n",
      "  n_iter_i = _check_optimize_result(\n",
      "/Users/lauramercy/opt/anaconda3/lib/python3.9/site-packages/sklearn/linear_model/_logistic.py:814: ConvergenceWarning: lbfgs failed to converge (status=1):\n",
      "STOP: TOTAL NO. of ITERATIONS REACHED LIMIT.\n",
      "\n",
      "Increase the number of iterations (max_iter) or scale the data as shown in:\n",
      "    https://scikit-learn.org/stable/modules/preprocessing.html\n",
      "Please also refer to the documentation for alternative solver options:\n",
      "    https://scikit-learn.org/stable/modules/linear_model.html#logistic-regression\n",
      "  n_iter_i = _check_optimize_result(\n",
      "/Users/lauramercy/opt/anaconda3/lib/python3.9/site-packages/sklearn/linear_model/_logistic.py:814: ConvergenceWarning: lbfgs failed to converge (status=1):\n",
      "STOP: TOTAL NO. of ITERATIONS REACHED LIMIT.\n",
      "\n",
      "Increase the number of iterations (max_iter) or scale the data as shown in:\n",
      "    https://scikit-learn.org/stable/modules/preprocessing.html\n",
      "Please also refer to the documentation for alternative solver options:\n",
      "    https://scikit-learn.org/stable/modules/linear_model.html#logistic-regression\n",
      "  n_iter_i = _check_optimize_result(\n",
      "/Users/lauramercy/opt/anaconda3/lib/python3.9/site-packages/sklearn/linear_model/_logistic.py:814: ConvergenceWarning: lbfgs failed to converge (status=1):\n",
      "STOP: TOTAL NO. of ITERATIONS REACHED LIMIT.\n",
      "\n",
      "Increase the number of iterations (max_iter) or scale the data as shown in:\n",
      "    https://scikit-learn.org/stable/modules/preprocessing.html\n",
      "Please also refer to the documentation for alternative solver options:\n",
      "    https://scikit-learn.org/stable/modules/linear_model.html#logistic-regression\n",
      "  n_iter_i = _check_optimize_result(\n",
      "/Users/lauramercy/opt/anaconda3/lib/python3.9/site-packages/sklearn/linear_model/_logistic.py:814: ConvergenceWarning: lbfgs failed to converge (status=1):\n",
      "STOP: TOTAL NO. of ITERATIONS REACHED LIMIT.\n",
      "\n",
      "Increase the number of iterations (max_iter) or scale the data as shown in:\n",
      "    https://scikit-learn.org/stable/modules/preprocessing.html\n",
      "Please also refer to the documentation for alternative solver options:\n",
      "    https://scikit-learn.org/stable/modules/linear_model.html#logistic-regression\n",
      "  n_iter_i = _check_optimize_result(\n",
      "/Users/lauramercy/opt/anaconda3/lib/python3.9/site-packages/sklearn/linear_model/_logistic.py:814: ConvergenceWarning: lbfgs failed to converge (status=1):\n",
      "STOP: TOTAL NO. of ITERATIONS REACHED LIMIT.\n",
      "\n",
      "Increase the number of iterations (max_iter) or scale the data as shown in:\n",
      "    https://scikit-learn.org/stable/modules/preprocessing.html\n",
      "Please also refer to the documentation for alternative solver options:\n",
      "    https://scikit-learn.org/stable/modules/linear_model.html#logistic-regression\n",
      "  n_iter_i = _check_optimize_result(\n"
     ]
    },
    {
     "name": "stderr",
     "output_type": "stream",
     "text": [
      "/Users/lauramercy/opt/anaconda3/lib/python3.9/site-packages/sklearn/linear_model/_logistic.py:814: ConvergenceWarning: lbfgs failed to converge (status=1):\n",
      "STOP: TOTAL NO. of ITERATIONS REACHED LIMIT.\n",
      "\n",
      "Increase the number of iterations (max_iter) or scale the data as shown in:\n",
      "    https://scikit-learn.org/stable/modules/preprocessing.html\n",
      "Please also refer to the documentation for alternative solver options:\n",
      "    https://scikit-learn.org/stable/modules/linear_model.html#logistic-regression\n",
      "  n_iter_i = _check_optimize_result(\n",
      "/Users/lauramercy/opt/anaconda3/lib/python3.9/site-packages/sklearn/linear_model/_logistic.py:814: ConvergenceWarning: lbfgs failed to converge (status=1):\n",
      "STOP: TOTAL NO. of ITERATIONS REACHED LIMIT.\n",
      "\n",
      "Increase the number of iterations (max_iter) or scale the data as shown in:\n",
      "    https://scikit-learn.org/stable/modules/preprocessing.html\n",
      "Please also refer to the documentation for alternative solver options:\n",
      "    https://scikit-learn.org/stable/modules/linear_model.html#logistic-regression\n",
      "  n_iter_i = _check_optimize_result(\n",
      "/Users/lauramercy/opt/anaconda3/lib/python3.9/site-packages/sklearn/linear_model/_logistic.py:814: ConvergenceWarning: lbfgs failed to converge (status=1):\n",
      "STOP: TOTAL NO. of ITERATIONS REACHED LIMIT.\n",
      "\n",
      "Increase the number of iterations (max_iter) or scale the data as shown in:\n",
      "    https://scikit-learn.org/stable/modules/preprocessing.html\n",
      "Please also refer to the documentation for alternative solver options:\n",
      "    https://scikit-learn.org/stable/modules/linear_model.html#logistic-regression\n",
      "  n_iter_i = _check_optimize_result(\n",
      "/Users/lauramercy/opt/anaconda3/lib/python3.9/site-packages/sklearn/linear_model/_logistic.py:814: ConvergenceWarning: lbfgs failed to converge (status=1):\n",
      "STOP: TOTAL NO. of ITERATIONS REACHED LIMIT.\n",
      "\n",
      "Increase the number of iterations (max_iter) or scale the data as shown in:\n",
      "    https://scikit-learn.org/stable/modules/preprocessing.html\n",
      "Please also refer to the documentation for alternative solver options:\n",
      "    https://scikit-learn.org/stable/modules/linear_model.html#logistic-regression\n",
      "  n_iter_i = _check_optimize_result(\n",
      "/Users/lauramercy/opt/anaconda3/lib/python3.9/site-packages/sklearn/linear_model/_logistic.py:814: ConvergenceWarning: lbfgs failed to converge (status=1):\n",
      "STOP: TOTAL NO. of ITERATIONS REACHED LIMIT.\n",
      "\n",
      "Increase the number of iterations (max_iter) or scale the data as shown in:\n",
      "    https://scikit-learn.org/stable/modules/preprocessing.html\n",
      "Please also refer to the documentation for alternative solver options:\n",
      "    https://scikit-learn.org/stable/modules/linear_model.html#logistic-regression\n",
      "  n_iter_i = _check_optimize_result(\n",
      "/Users/lauramercy/opt/anaconda3/lib/python3.9/site-packages/sklearn/linear_model/_logistic.py:814: ConvergenceWarning: lbfgs failed to converge (status=1):\n",
      "STOP: TOTAL NO. of ITERATIONS REACHED LIMIT.\n",
      "\n",
      "Increase the number of iterations (max_iter) or scale the data as shown in:\n",
      "    https://scikit-learn.org/stable/modules/preprocessing.html\n",
      "Please also refer to the documentation for alternative solver options:\n",
      "    https://scikit-learn.org/stable/modules/linear_model.html#logistic-regression\n",
      "  n_iter_i = _check_optimize_result(\n",
      "/Users/lauramercy/opt/anaconda3/lib/python3.9/site-packages/sklearn/linear_model/_logistic.py:814: ConvergenceWarning: lbfgs failed to converge (status=1):\n",
      "STOP: TOTAL NO. of ITERATIONS REACHED LIMIT.\n",
      "\n",
      "Increase the number of iterations (max_iter) or scale the data as shown in:\n",
      "    https://scikit-learn.org/stable/modules/preprocessing.html\n",
      "Please also refer to the documentation for alternative solver options:\n",
      "    https://scikit-learn.org/stable/modules/linear_model.html#logistic-regression\n",
      "  n_iter_i = _check_optimize_result(\n",
      "/Users/lauramercy/opt/anaconda3/lib/python3.9/site-packages/sklearn/linear_model/_logistic.py:814: ConvergenceWarning: lbfgs failed to converge (status=1):\n",
      "STOP: TOTAL NO. of ITERATIONS REACHED LIMIT.\n",
      "\n",
      "Increase the number of iterations (max_iter) or scale the data as shown in:\n",
      "    https://scikit-learn.org/stable/modules/preprocessing.html\n",
      "Please also refer to the documentation for alternative solver options:\n",
      "    https://scikit-learn.org/stable/modules/linear_model.html#logistic-regression\n",
      "  n_iter_i = _check_optimize_result(\n",
      "/Users/lauramercy/opt/anaconda3/lib/python3.9/site-packages/sklearn/linear_model/_logistic.py:814: ConvergenceWarning: lbfgs failed to converge (status=1):\n",
      "STOP: TOTAL NO. of ITERATIONS REACHED LIMIT.\n",
      "\n",
      "Increase the number of iterations (max_iter) or scale the data as shown in:\n",
      "    https://scikit-learn.org/stable/modules/preprocessing.html\n",
      "Please also refer to the documentation for alternative solver options:\n",
      "    https://scikit-learn.org/stable/modules/linear_model.html#logistic-regression\n",
      "  n_iter_i = _check_optimize_result(\n",
      "/Users/lauramercy/opt/anaconda3/lib/python3.9/site-packages/sklearn/linear_model/_logistic.py:814: ConvergenceWarning: lbfgs failed to converge (status=1):\n",
      "STOP: TOTAL NO. of ITERATIONS REACHED LIMIT.\n",
      "\n",
      "Increase the number of iterations (max_iter) or scale the data as shown in:\n",
      "    https://scikit-learn.org/stable/modules/preprocessing.html\n",
      "Please also refer to the documentation for alternative solver options:\n",
      "    https://scikit-learn.org/stable/modules/linear_model.html#logistic-regression\n",
      "  n_iter_i = _check_optimize_result(\n",
      "/Users/lauramercy/opt/anaconda3/lib/python3.9/site-packages/sklearn/linear_model/_logistic.py:814: ConvergenceWarning: lbfgs failed to converge (status=1):\n",
      "STOP: TOTAL NO. of ITERATIONS REACHED LIMIT.\n",
      "\n",
      "Increase the number of iterations (max_iter) or scale the data as shown in:\n",
      "    https://scikit-learn.org/stable/modules/preprocessing.html\n",
      "Please also refer to the documentation for alternative solver options:\n",
      "    https://scikit-learn.org/stable/modules/linear_model.html#logistic-regression\n",
      "  n_iter_i = _check_optimize_result(\n",
      "/Users/lauramercy/opt/anaconda3/lib/python3.9/site-packages/sklearn/linear_model/_logistic.py:814: ConvergenceWarning: lbfgs failed to converge (status=1):\n",
      "STOP: TOTAL NO. of ITERATIONS REACHED LIMIT.\n",
      "\n",
      "Increase the number of iterations (max_iter) or scale the data as shown in:\n",
      "    https://scikit-learn.org/stable/modules/preprocessing.html\n",
      "Please also refer to the documentation for alternative solver options:\n",
      "    https://scikit-learn.org/stable/modules/linear_model.html#logistic-regression\n",
      "  n_iter_i = _check_optimize_result(\n",
      "/Users/lauramercy/opt/anaconda3/lib/python3.9/site-packages/sklearn/linear_model/_logistic.py:814: ConvergenceWarning: lbfgs failed to converge (status=1):\n",
      "STOP: TOTAL NO. of ITERATIONS REACHED LIMIT.\n",
      "\n",
      "Increase the number of iterations (max_iter) or scale the data as shown in:\n",
      "    https://scikit-learn.org/stable/modules/preprocessing.html\n",
      "Please also refer to the documentation for alternative solver options:\n",
      "    https://scikit-learn.org/stable/modules/linear_model.html#logistic-regression\n",
      "  n_iter_i = _check_optimize_result(\n",
      "/Users/lauramercy/opt/anaconda3/lib/python3.9/site-packages/sklearn/linear_model/_logistic.py:814: ConvergenceWarning: lbfgs failed to converge (status=1):\n",
      "STOP: TOTAL NO. of ITERATIONS REACHED LIMIT.\n",
      "\n",
      "Increase the number of iterations (max_iter) or scale the data as shown in:\n",
      "    https://scikit-learn.org/stable/modules/preprocessing.html\n",
      "Please also refer to the documentation for alternative solver options:\n",
      "    https://scikit-learn.org/stable/modules/linear_model.html#logistic-regression\n",
      "  n_iter_i = _check_optimize_result(\n",
      "/Users/lauramercy/opt/anaconda3/lib/python3.9/site-packages/sklearn/linear_model/_logistic.py:814: ConvergenceWarning: lbfgs failed to converge (status=1):\n",
      "STOP: TOTAL NO. of ITERATIONS REACHED LIMIT.\n",
      "\n",
      "Increase the number of iterations (max_iter) or scale the data as shown in:\n",
      "    https://scikit-learn.org/stable/modules/preprocessing.html\n",
      "Please also refer to the documentation for alternative solver options:\n",
      "    https://scikit-learn.org/stable/modules/linear_model.html#logistic-regression\n",
      "  n_iter_i = _check_optimize_result(\n",
      "/Users/lauramercy/opt/anaconda3/lib/python3.9/site-packages/sklearn/linear_model/_logistic.py:814: ConvergenceWarning: lbfgs failed to converge (status=1):\n",
      "STOP: TOTAL NO. of ITERATIONS REACHED LIMIT.\n",
      "\n",
      "Increase the number of iterations (max_iter) or scale the data as shown in:\n",
      "    https://scikit-learn.org/stable/modules/preprocessing.html\n",
      "Please also refer to the documentation for alternative solver options:\n",
      "    https://scikit-learn.org/stable/modules/linear_model.html#logistic-regression\n",
      "  n_iter_i = _check_optimize_result(\n",
      "/Users/lauramercy/opt/anaconda3/lib/python3.9/site-packages/sklearn/linear_model/_logistic.py:814: ConvergenceWarning: lbfgs failed to converge (status=1):\n",
      "STOP: TOTAL NO. of ITERATIONS REACHED LIMIT.\n",
      "\n",
      "Increase the number of iterations (max_iter) or scale the data as shown in:\n",
      "    https://scikit-learn.org/stable/modules/preprocessing.html\n",
      "Please also refer to the documentation for alternative solver options:\n",
      "    https://scikit-learn.org/stable/modules/linear_model.html#logistic-regression\n",
      "  n_iter_i = _check_optimize_result(\n",
      "/Users/lauramercy/opt/anaconda3/lib/python3.9/site-packages/sklearn/linear_model/_logistic.py:814: ConvergenceWarning: lbfgs failed to converge (status=1):\n",
      "STOP: TOTAL NO. of ITERATIONS REACHED LIMIT.\n",
      "\n",
      "Increase the number of iterations (max_iter) or scale the data as shown in:\n",
      "    https://scikit-learn.org/stable/modules/preprocessing.html\n",
      "Please also refer to the documentation for alternative solver options:\n",
      "    https://scikit-learn.org/stable/modules/linear_model.html#logistic-regression\n",
      "  n_iter_i = _check_optimize_result(\n",
      "/Users/lauramercy/opt/anaconda3/lib/python3.9/site-packages/sklearn/linear_model/_logistic.py:814: ConvergenceWarning: lbfgs failed to converge (status=1):\n",
      "STOP: TOTAL NO. of ITERATIONS REACHED LIMIT.\n",
      "\n",
      "Increase the number of iterations (max_iter) or scale the data as shown in:\n",
      "    https://scikit-learn.org/stable/modules/preprocessing.html\n",
      "Please also refer to the documentation for alternative solver options:\n",
      "    https://scikit-learn.org/stable/modules/linear_model.html#logistic-regression\n",
      "  n_iter_i = _check_optimize_result(\n"
     ]
    },
    {
     "name": "stderr",
     "output_type": "stream",
     "text": [
      "/Users/lauramercy/opt/anaconda3/lib/python3.9/site-packages/sklearn/linear_model/_logistic.py:814: ConvergenceWarning: lbfgs failed to converge (status=1):\n",
      "STOP: TOTAL NO. of ITERATIONS REACHED LIMIT.\n",
      "\n",
      "Increase the number of iterations (max_iter) or scale the data as shown in:\n",
      "    https://scikit-learn.org/stable/modules/preprocessing.html\n",
      "Please also refer to the documentation for alternative solver options:\n",
      "    https://scikit-learn.org/stable/modules/linear_model.html#logistic-regression\n",
      "  n_iter_i = _check_optimize_result(\n",
      "/Users/lauramercy/opt/anaconda3/lib/python3.9/site-packages/sklearn/linear_model/_logistic.py:814: ConvergenceWarning: lbfgs failed to converge (status=1):\n",
      "STOP: TOTAL NO. of ITERATIONS REACHED LIMIT.\n",
      "\n",
      "Increase the number of iterations (max_iter) or scale the data as shown in:\n",
      "    https://scikit-learn.org/stable/modules/preprocessing.html\n",
      "Please also refer to the documentation for alternative solver options:\n",
      "    https://scikit-learn.org/stable/modules/linear_model.html#logistic-regression\n",
      "  n_iter_i = _check_optimize_result(\n",
      "/Users/lauramercy/opt/anaconda3/lib/python3.9/site-packages/sklearn/linear_model/_logistic.py:814: ConvergenceWarning: lbfgs failed to converge (status=1):\n",
      "STOP: TOTAL NO. of ITERATIONS REACHED LIMIT.\n",
      "\n",
      "Increase the number of iterations (max_iter) or scale the data as shown in:\n",
      "    https://scikit-learn.org/stable/modules/preprocessing.html\n",
      "Please also refer to the documentation for alternative solver options:\n",
      "    https://scikit-learn.org/stable/modules/linear_model.html#logistic-regression\n",
      "  n_iter_i = _check_optimize_result(\n",
      "/Users/lauramercy/opt/anaconda3/lib/python3.9/site-packages/sklearn/linear_model/_logistic.py:814: ConvergenceWarning: lbfgs failed to converge (status=1):\n",
      "STOP: TOTAL NO. of ITERATIONS REACHED LIMIT.\n",
      "\n",
      "Increase the number of iterations (max_iter) or scale the data as shown in:\n",
      "    https://scikit-learn.org/stable/modules/preprocessing.html\n",
      "Please also refer to the documentation for alternative solver options:\n",
      "    https://scikit-learn.org/stable/modules/linear_model.html#logistic-regression\n",
      "  n_iter_i = _check_optimize_result(\n",
      "/Users/lauramercy/opt/anaconda3/lib/python3.9/site-packages/sklearn/linear_model/_logistic.py:814: ConvergenceWarning: lbfgs failed to converge (status=1):\n",
      "STOP: TOTAL NO. of ITERATIONS REACHED LIMIT.\n",
      "\n",
      "Increase the number of iterations (max_iter) or scale the data as shown in:\n",
      "    https://scikit-learn.org/stable/modules/preprocessing.html\n",
      "Please also refer to the documentation for alternative solver options:\n",
      "    https://scikit-learn.org/stable/modules/linear_model.html#logistic-regression\n",
      "  n_iter_i = _check_optimize_result(\n",
      "/Users/lauramercy/opt/anaconda3/lib/python3.9/site-packages/sklearn/linear_model/_logistic.py:814: ConvergenceWarning: lbfgs failed to converge (status=1):\n",
      "STOP: TOTAL NO. of ITERATIONS REACHED LIMIT.\n",
      "\n",
      "Increase the number of iterations (max_iter) or scale the data as shown in:\n",
      "    https://scikit-learn.org/stable/modules/preprocessing.html\n",
      "Please also refer to the documentation for alternative solver options:\n",
      "    https://scikit-learn.org/stable/modules/linear_model.html#logistic-regression\n",
      "  n_iter_i = _check_optimize_result(\n",
      "/Users/lauramercy/opt/anaconda3/lib/python3.9/site-packages/sklearn/linear_model/_logistic.py:814: ConvergenceWarning: lbfgs failed to converge (status=1):\n",
      "STOP: TOTAL NO. of ITERATIONS REACHED LIMIT.\n",
      "\n",
      "Increase the number of iterations (max_iter) or scale the data as shown in:\n",
      "    https://scikit-learn.org/stable/modules/preprocessing.html\n",
      "Please also refer to the documentation for alternative solver options:\n",
      "    https://scikit-learn.org/stable/modules/linear_model.html#logistic-regression\n",
      "  n_iter_i = _check_optimize_result(\n",
      "/Users/lauramercy/opt/anaconda3/lib/python3.9/site-packages/sklearn/linear_model/_logistic.py:814: ConvergenceWarning: lbfgs failed to converge (status=1):\n",
      "STOP: TOTAL NO. of ITERATIONS REACHED LIMIT.\n",
      "\n",
      "Increase the number of iterations (max_iter) or scale the data as shown in:\n",
      "    https://scikit-learn.org/stable/modules/preprocessing.html\n",
      "Please also refer to the documentation for alternative solver options:\n",
      "    https://scikit-learn.org/stable/modules/linear_model.html#logistic-regression\n",
      "  n_iter_i = _check_optimize_result(\n",
      "/Users/lauramercy/opt/anaconda3/lib/python3.9/site-packages/sklearn/linear_model/_logistic.py:814: ConvergenceWarning: lbfgs failed to converge (status=1):\n",
      "STOP: TOTAL NO. of ITERATIONS REACHED LIMIT.\n",
      "\n",
      "Increase the number of iterations (max_iter) or scale the data as shown in:\n",
      "    https://scikit-learn.org/stable/modules/preprocessing.html\n",
      "Please also refer to the documentation for alternative solver options:\n",
      "    https://scikit-learn.org/stable/modules/linear_model.html#logistic-regression\n",
      "  n_iter_i = _check_optimize_result(\n",
      "/Users/lauramercy/opt/anaconda3/lib/python3.9/site-packages/sklearn/linear_model/_logistic.py:814: ConvergenceWarning: lbfgs failed to converge (status=1):\n",
      "STOP: TOTAL NO. of ITERATIONS REACHED LIMIT.\n",
      "\n",
      "Increase the number of iterations (max_iter) or scale the data as shown in:\n",
      "    https://scikit-learn.org/stable/modules/preprocessing.html\n",
      "Please also refer to the documentation for alternative solver options:\n",
      "    https://scikit-learn.org/stable/modules/linear_model.html#logistic-regression\n",
      "  n_iter_i = _check_optimize_result(\n",
      "/Users/lauramercy/opt/anaconda3/lib/python3.9/site-packages/sklearn/linear_model/_logistic.py:814: ConvergenceWarning: lbfgs failed to converge (status=1):\n",
      "STOP: TOTAL NO. of ITERATIONS REACHED LIMIT.\n",
      "\n",
      "Increase the number of iterations (max_iter) or scale the data as shown in:\n",
      "    https://scikit-learn.org/stable/modules/preprocessing.html\n",
      "Please also refer to the documentation for alternative solver options:\n",
      "    https://scikit-learn.org/stable/modules/linear_model.html#logistic-regression\n",
      "  n_iter_i = _check_optimize_result(\n",
      "/Users/lauramercy/opt/anaconda3/lib/python3.9/site-packages/sklearn/linear_model/_logistic.py:814: ConvergenceWarning: lbfgs failed to converge (status=1):\n",
      "STOP: TOTAL NO. of ITERATIONS REACHED LIMIT.\n",
      "\n",
      "Increase the number of iterations (max_iter) or scale the data as shown in:\n",
      "    https://scikit-learn.org/stable/modules/preprocessing.html\n",
      "Please also refer to the documentation for alternative solver options:\n",
      "    https://scikit-learn.org/stable/modules/linear_model.html#logistic-regression\n",
      "  n_iter_i = _check_optimize_result(\n",
      "/Users/lauramercy/opt/anaconda3/lib/python3.9/site-packages/sklearn/linear_model/_logistic.py:814: ConvergenceWarning: lbfgs failed to converge (status=1):\n",
      "STOP: TOTAL NO. of ITERATIONS REACHED LIMIT.\n",
      "\n",
      "Increase the number of iterations (max_iter) or scale the data as shown in:\n",
      "    https://scikit-learn.org/stable/modules/preprocessing.html\n",
      "Please also refer to the documentation for alternative solver options:\n",
      "    https://scikit-learn.org/stable/modules/linear_model.html#logistic-regression\n",
      "  n_iter_i = _check_optimize_result(\n",
      "/Users/lauramercy/opt/anaconda3/lib/python3.9/site-packages/sklearn/linear_model/_logistic.py:814: ConvergenceWarning: lbfgs failed to converge (status=1):\n",
      "STOP: TOTAL NO. of ITERATIONS REACHED LIMIT.\n",
      "\n",
      "Increase the number of iterations (max_iter) or scale the data as shown in:\n",
      "    https://scikit-learn.org/stable/modules/preprocessing.html\n",
      "Please also refer to the documentation for alternative solver options:\n",
      "    https://scikit-learn.org/stable/modules/linear_model.html#logistic-regression\n",
      "  n_iter_i = _check_optimize_result(\n",
      "/Users/lauramercy/opt/anaconda3/lib/python3.9/site-packages/sklearn/linear_model/_logistic.py:814: ConvergenceWarning: lbfgs failed to converge (status=1):\n",
      "STOP: TOTAL NO. of ITERATIONS REACHED LIMIT.\n",
      "\n",
      "Increase the number of iterations (max_iter) or scale the data as shown in:\n",
      "    https://scikit-learn.org/stable/modules/preprocessing.html\n",
      "Please also refer to the documentation for alternative solver options:\n",
      "    https://scikit-learn.org/stable/modules/linear_model.html#logistic-regression\n",
      "  n_iter_i = _check_optimize_result(\n",
      "/Users/lauramercy/opt/anaconda3/lib/python3.9/site-packages/sklearn/linear_model/_logistic.py:814: ConvergenceWarning: lbfgs failed to converge (status=1):\n",
      "STOP: TOTAL NO. of ITERATIONS REACHED LIMIT.\n",
      "\n",
      "Increase the number of iterations (max_iter) or scale the data as shown in:\n",
      "    https://scikit-learn.org/stable/modules/preprocessing.html\n",
      "Please also refer to the documentation for alternative solver options:\n",
      "    https://scikit-learn.org/stable/modules/linear_model.html#logistic-regression\n",
      "  n_iter_i = _check_optimize_result(\n",
      "/Users/lauramercy/opt/anaconda3/lib/python3.9/site-packages/sklearn/linear_model/_logistic.py:814: ConvergenceWarning: lbfgs failed to converge (status=1):\n",
      "STOP: TOTAL NO. of ITERATIONS REACHED LIMIT.\n",
      "\n",
      "Increase the number of iterations (max_iter) or scale the data as shown in:\n",
      "    https://scikit-learn.org/stable/modules/preprocessing.html\n",
      "Please also refer to the documentation for alternative solver options:\n",
      "    https://scikit-learn.org/stable/modules/linear_model.html#logistic-regression\n",
      "  n_iter_i = _check_optimize_result(\n"
     ]
    },
    {
     "name": "stderr",
     "output_type": "stream",
     "text": [
      "/Users/lauramercy/opt/anaconda3/lib/python3.9/site-packages/sklearn/linear_model/_logistic.py:814: ConvergenceWarning: lbfgs failed to converge (status=1):\n",
      "STOP: TOTAL NO. of ITERATIONS REACHED LIMIT.\n",
      "\n",
      "Increase the number of iterations (max_iter) or scale the data as shown in:\n",
      "    https://scikit-learn.org/stable/modules/preprocessing.html\n",
      "Please also refer to the documentation for alternative solver options:\n",
      "    https://scikit-learn.org/stable/modules/linear_model.html#logistic-regression\n",
      "  n_iter_i = _check_optimize_result(\n",
      "/Users/lauramercy/opt/anaconda3/lib/python3.9/site-packages/sklearn/linear_model/_logistic.py:814: ConvergenceWarning: lbfgs failed to converge (status=1):\n",
      "STOP: TOTAL NO. of ITERATIONS REACHED LIMIT.\n",
      "\n",
      "Increase the number of iterations (max_iter) or scale the data as shown in:\n",
      "    https://scikit-learn.org/stable/modules/preprocessing.html\n",
      "Please also refer to the documentation for alternative solver options:\n",
      "    https://scikit-learn.org/stable/modules/linear_model.html#logistic-regression\n",
      "  n_iter_i = _check_optimize_result(\n",
      "/Users/lauramercy/opt/anaconda3/lib/python3.9/site-packages/sklearn/linear_model/_logistic.py:814: ConvergenceWarning: lbfgs failed to converge (status=1):\n",
      "STOP: TOTAL NO. of ITERATIONS REACHED LIMIT.\n",
      "\n",
      "Increase the number of iterations (max_iter) or scale the data as shown in:\n",
      "    https://scikit-learn.org/stable/modules/preprocessing.html\n",
      "Please also refer to the documentation for alternative solver options:\n",
      "    https://scikit-learn.org/stable/modules/linear_model.html#logistic-regression\n",
      "  n_iter_i = _check_optimize_result(\n",
      "/Users/lauramercy/opt/anaconda3/lib/python3.9/site-packages/sklearn/linear_model/_logistic.py:814: ConvergenceWarning: lbfgs failed to converge (status=1):\n",
      "STOP: TOTAL NO. of ITERATIONS REACHED LIMIT.\n",
      "\n",
      "Increase the number of iterations (max_iter) or scale the data as shown in:\n",
      "    https://scikit-learn.org/stable/modules/preprocessing.html\n",
      "Please also refer to the documentation for alternative solver options:\n",
      "    https://scikit-learn.org/stable/modules/linear_model.html#logistic-regression\n",
      "  n_iter_i = _check_optimize_result(\n",
      "/Users/lauramercy/opt/anaconda3/lib/python3.9/site-packages/sklearn/linear_model/_logistic.py:814: ConvergenceWarning: lbfgs failed to converge (status=1):\n",
      "STOP: TOTAL NO. of ITERATIONS REACHED LIMIT.\n",
      "\n",
      "Increase the number of iterations (max_iter) or scale the data as shown in:\n",
      "    https://scikit-learn.org/stable/modules/preprocessing.html\n",
      "Please also refer to the documentation for alternative solver options:\n",
      "    https://scikit-learn.org/stable/modules/linear_model.html#logistic-regression\n",
      "  n_iter_i = _check_optimize_result(\n",
      "/Users/lauramercy/opt/anaconda3/lib/python3.9/site-packages/sklearn/linear_model/_logistic.py:814: ConvergenceWarning: lbfgs failed to converge (status=1):\n",
      "STOP: TOTAL NO. of ITERATIONS REACHED LIMIT.\n",
      "\n",
      "Increase the number of iterations (max_iter) or scale the data as shown in:\n",
      "    https://scikit-learn.org/stable/modules/preprocessing.html\n",
      "Please also refer to the documentation for alternative solver options:\n",
      "    https://scikit-learn.org/stable/modules/linear_model.html#logistic-regression\n",
      "  n_iter_i = _check_optimize_result(\n",
      "/Users/lauramercy/opt/anaconda3/lib/python3.9/site-packages/sklearn/linear_model/_logistic.py:814: ConvergenceWarning: lbfgs failed to converge (status=1):\n",
      "STOP: TOTAL NO. of ITERATIONS REACHED LIMIT.\n",
      "\n",
      "Increase the number of iterations (max_iter) or scale the data as shown in:\n",
      "    https://scikit-learn.org/stable/modules/preprocessing.html\n",
      "Please also refer to the documentation for alternative solver options:\n",
      "    https://scikit-learn.org/stable/modules/linear_model.html#logistic-regression\n",
      "  n_iter_i = _check_optimize_result(\n",
      "/Users/lauramercy/opt/anaconda3/lib/python3.9/site-packages/sklearn/linear_model/_logistic.py:814: ConvergenceWarning: lbfgs failed to converge (status=1):\n",
      "STOP: TOTAL NO. of ITERATIONS REACHED LIMIT.\n",
      "\n",
      "Increase the number of iterations (max_iter) or scale the data as shown in:\n",
      "    https://scikit-learn.org/stable/modules/preprocessing.html\n",
      "Please also refer to the documentation for alternative solver options:\n",
      "    https://scikit-learn.org/stable/modules/linear_model.html#logistic-regression\n",
      "  n_iter_i = _check_optimize_result(\n",
      "/Users/lauramercy/opt/anaconda3/lib/python3.9/site-packages/sklearn/linear_model/_logistic.py:814: ConvergenceWarning: lbfgs failed to converge (status=1):\n",
      "STOP: TOTAL NO. of ITERATIONS REACHED LIMIT.\n",
      "\n",
      "Increase the number of iterations (max_iter) or scale the data as shown in:\n",
      "    https://scikit-learn.org/stable/modules/preprocessing.html\n",
      "Please also refer to the documentation for alternative solver options:\n",
      "    https://scikit-learn.org/stable/modules/linear_model.html#logistic-regression\n",
      "  n_iter_i = _check_optimize_result(\n",
      "/Users/lauramercy/opt/anaconda3/lib/python3.9/site-packages/sklearn/linear_model/_logistic.py:814: ConvergenceWarning: lbfgs failed to converge (status=1):\n",
      "STOP: TOTAL NO. of ITERATIONS REACHED LIMIT.\n",
      "\n",
      "Increase the number of iterations (max_iter) or scale the data as shown in:\n",
      "    https://scikit-learn.org/stable/modules/preprocessing.html\n",
      "Please also refer to the documentation for alternative solver options:\n",
      "    https://scikit-learn.org/stable/modules/linear_model.html#logistic-regression\n",
      "  n_iter_i = _check_optimize_result(\n",
      "/Users/lauramercy/opt/anaconda3/lib/python3.9/site-packages/sklearn/linear_model/_logistic.py:814: ConvergenceWarning: lbfgs failed to converge (status=1):\n",
      "STOP: TOTAL NO. of ITERATIONS REACHED LIMIT.\n",
      "\n",
      "Increase the number of iterations (max_iter) or scale the data as shown in:\n",
      "    https://scikit-learn.org/stable/modules/preprocessing.html\n",
      "Please also refer to the documentation for alternative solver options:\n",
      "    https://scikit-learn.org/stable/modules/linear_model.html#logistic-regression\n",
      "  n_iter_i = _check_optimize_result(\n",
      "/Users/lauramercy/opt/anaconda3/lib/python3.9/site-packages/sklearn/linear_model/_logistic.py:814: ConvergenceWarning: lbfgs failed to converge (status=1):\n",
      "STOP: TOTAL NO. of ITERATIONS REACHED LIMIT.\n",
      "\n",
      "Increase the number of iterations (max_iter) or scale the data as shown in:\n",
      "    https://scikit-learn.org/stable/modules/preprocessing.html\n",
      "Please also refer to the documentation for alternative solver options:\n",
      "    https://scikit-learn.org/stable/modules/linear_model.html#logistic-regression\n",
      "  n_iter_i = _check_optimize_result(\n",
      "/Users/lauramercy/opt/anaconda3/lib/python3.9/site-packages/sklearn/linear_model/_logistic.py:814: ConvergenceWarning: lbfgs failed to converge (status=1):\n",
      "STOP: TOTAL NO. of ITERATIONS REACHED LIMIT.\n",
      "\n",
      "Increase the number of iterations (max_iter) or scale the data as shown in:\n",
      "    https://scikit-learn.org/stable/modules/preprocessing.html\n",
      "Please also refer to the documentation for alternative solver options:\n",
      "    https://scikit-learn.org/stable/modules/linear_model.html#logistic-regression\n",
      "  n_iter_i = _check_optimize_result(\n",
      "/Users/lauramercy/opt/anaconda3/lib/python3.9/site-packages/sklearn/linear_model/_logistic.py:814: ConvergenceWarning: lbfgs failed to converge (status=1):\n",
      "STOP: TOTAL NO. of ITERATIONS REACHED LIMIT.\n",
      "\n",
      "Increase the number of iterations (max_iter) or scale the data as shown in:\n",
      "    https://scikit-learn.org/stable/modules/preprocessing.html\n",
      "Please also refer to the documentation for alternative solver options:\n",
      "    https://scikit-learn.org/stable/modules/linear_model.html#logistic-regression\n",
      "  n_iter_i = _check_optimize_result(\n",
      "/Users/lauramercy/opt/anaconda3/lib/python3.9/site-packages/sklearn/linear_model/_logistic.py:814: ConvergenceWarning: lbfgs failed to converge (status=1):\n",
      "STOP: TOTAL NO. of ITERATIONS REACHED LIMIT.\n",
      "\n",
      "Increase the number of iterations (max_iter) or scale the data as shown in:\n",
      "    https://scikit-learn.org/stable/modules/preprocessing.html\n",
      "Please also refer to the documentation for alternative solver options:\n",
      "    https://scikit-learn.org/stable/modules/linear_model.html#logistic-regression\n",
      "  n_iter_i = _check_optimize_result(\n",
      "/Users/lauramercy/opt/anaconda3/lib/python3.9/site-packages/sklearn/linear_model/_logistic.py:814: ConvergenceWarning: lbfgs failed to converge (status=1):\n",
      "STOP: TOTAL NO. of ITERATIONS REACHED LIMIT.\n",
      "\n",
      "Increase the number of iterations (max_iter) or scale the data as shown in:\n",
      "    https://scikit-learn.org/stable/modules/preprocessing.html\n",
      "Please also refer to the documentation for alternative solver options:\n",
      "    https://scikit-learn.org/stable/modules/linear_model.html#logistic-regression\n",
      "  n_iter_i = _check_optimize_result(\n"
     ]
    },
    {
     "name": "stderr",
     "output_type": "stream",
     "text": [
      "/Users/lauramercy/opt/anaconda3/lib/python3.9/site-packages/sklearn/linear_model/_logistic.py:814: ConvergenceWarning: lbfgs failed to converge (status=1):\n",
      "STOP: TOTAL NO. of ITERATIONS REACHED LIMIT.\n",
      "\n",
      "Increase the number of iterations (max_iter) or scale the data as shown in:\n",
      "    https://scikit-learn.org/stable/modules/preprocessing.html\n",
      "Please also refer to the documentation for alternative solver options:\n",
      "    https://scikit-learn.org/stable/modules/linear_model.html#logistic-regression\n",
      "  n_iter_i = _check_optimize_result(\n",
      "/Users/lauramercy/opt/anaconda3/lib/python3.9/site-packages/sklearn/linear_model/_logistic.py:814: ConvergenceWarning: lbfgs failed to converge (status=1):\n",
      "STOP: TOTAL NO. of ITERATIONS REACHED LIMIT.\n",
      "\n",
      "Increase the number of iterations (max_iter) or scale the data as shown in:\n",
      "    https://scikit-learn.org/stable/modules/preprocessing.html\n",
      "Please also refer to the documentation for alternative solver options:\n",
      "    https://scikit-learn.org/stable/modules/linear_model.html#logistic-regression\n",
      "  n_iter_i = _check_optimize_result(\n",
      "/Users/lauramercy/opt/anaconda3/lib/python3.9/site-packages/sklearn/linear_model/_logistic.py:814: ConvergenceWarning: lbfgs failed to converge (status=1):\n",
      "STOP: TOTAL NO. of ITERATIONS REACHED LIMIT.\n",
      "\n",
      "Increase the number of iterations (max_iter) or scale the data as shown in:\n",
      "    https://scikit-learn.org/stable/modules/preprocessing.html\n",
      "Please also refer to the documentation for alternative solver options:\n",
      "    https://scikit-learn.org/stable/modules/linear_model.html#logistic-regression\n",
      "  n_iter_i = _check_optimize_result(\n",
      "/Users/lauramercy/opt/anaconda3/lib/python3.9/site-packages/sklearn/linear_model/_logistic.py:814: ConvergenceWarning: lbfgs failed to converge (status=1):\n",
      "STOP: TOTAL NO. of ITERATIONS REACHED LIMIT.\n",
      "\n",
      "Increase the number of iterations (max_iter) or scale the data as shown in:\n",
      "    https://scikit-learn.org/stable/modules/preprocessing.html\n",
      "Please also refer to the documentation for alternative solver options:\n",
      "    https://scikit-learn.org/stable/modules/linear_model.html#logistic-regression\n",
      "  n_iter_i = _check_optimize_result(\n",
      "/Users/lauramercy/opt/anaconda3/lib/python3.9/site-packages/sklearn/linear_model/_logistic.py:814: ConvergenceWarning: lbfgs failed to converge (status=1):\n",
      "STOP: TOTAL NO. of ITERATIONS REACHED LIMIT.\n",
      "\n",
      "Increase the number of iterations (max_iter) or scale the data as shown in:\n",
      "    https://scikit-learn.org/stable/modules/preprocessing.html\n",
      "Please also refer to the documentation for alternative solver options:\n",
      "    https://scikit-learn.org/stable/modules/linear_model.html#logistic-regression\n",
      "  n_iter_i = _check_optimize_result(\n",
      "/Users/lauramercy/opt/anaconda3/lib/python3.9/site-packages/sklearn/linear_model/_logistic.py:814: ConvergenceWarning: lbfgs failed to converge (status=1):\n",
      "STOP: TOTAL NO. of ITERATIONS REACHED LIMIT.\n",
      "\n",
      "Increase the number of iterations (max_iter) or scale the data as shown in:\n",
      "    https://scikit-learn.org/stable/modules/preprocessing.html\n",
      "Please also refer to the documentation for alternative solver options:\n",
      "    https://scikit-learn.org/stable/modules/linear_model.html#logistic-regression\n",
      "  n_iter_i = _check_optimize_result(\n",
      "/Users/lauramercy/opt/anaconda3/lib/python3.9/site-packages/sklearn/linear_model/_logistic.py:814: ConvergenceWarning: lbfgs failed to converge (status=1):\n",
      "STOP: TOTAL NO. of ITERATIONS REACHED LIMIT.\n",
      "\n",
      "Increase the number of iterations (max_iter) or scale the data as shown in:\n",
      "    https://scikit-learn.org/stable/modules/preprocessing.html\n",
      "Please also refer to the documentation for alternative solver options:\n",
      "    https://scikit-learn.org/stable/modules/linear_model.html#logistic-regression\n",
      "  n_iter_i = _check_optimize_result(\n",
      "/Users/lauramercy/opt/anaconda3/lib/python3.9/site-packages/sklearn/linear_model/_logistic.py:814: ConvergenceWarning: lbfgs failed to converge (status=1):\n",
      "STOP: TOTAL NO. of ITERATIONS REACHED LIMIT.\n",
      "\n",
      "Increase the number of iterations (max_iter) or scale the data as shown in:\n",
      "    https://scikit-learn.org/stable/modules/preprocessing.html\n",
      "Please also refer to the documentation for alternative solver options:\n",
      "    https://scikit-learn.org/stable/modules/linear_model.html#logistic-regression\n",
      "  n_iter_i = _check_optimize_result(\n",
      "/Users/lauramercy/opt/anaconda3/lib/python3.9/site-packages/sklearn/linear_model/_logistic.py:814: ConvergenceWarning: lbfgs failed to converge (status=1):\n",
      "STOP: TOTAL NO. of ITERATIONS REACHED LIMIT.\n",
      "\n",
      "Increase the number of iterations (max_iter) or scale the data as shown in:\n",
      "    https://scikit-learn.org/stable/modules/preprocessing.html\n",
      "Please also refer to the documentation for alternative solver options:\n",
      "    https://scikit-learn.org/stable/modules/linear_model.html#logistic-regression\n",
      "  n_iter_i = _check_optimize_result(\n",
      "/Users/lauramercy/opt/anaconda3/lib/python3.9/site-packages/sklearn/linear_model/_logistic.py:814: ConvergenceWarning: lbfgs failed to converge (status=1):\n",
      "STOP: TOTAL NO. of ITERATIONS REACHED LIMIT.\n",
      "\n",
      "Increase the number of iterations (max_iter) or scale the data as shown in:\n",
      "    https://scikit-learn.org/stable/modules/preprocessing.html\n",
      "Please also refer to the documentation for alternative solver options:\n",
      "    https://scikit-learn.org/stable/modules/linear_model.html#logistic-regression\n",
      "  n_iter_i = _check_optimize_result(\n",
      "/Users/lauramercy/opt/anaconda3/lib/python3.9/site-packages/sklearn/linear_model/_logistic.py:814: ConvergenceWarning: lbfgs failed to converge (status=1):\n",
      "STOP: TOTAL NO. of ITERATIONS REACHED LIMIT.\n",
      "\n",
      "Increase the number of iterations (max_iter) or scale the data as shown in:\n",
      "    https://scikit-learn.org/stable/modules/preprocessing.html\n",
      "Please also refer to the documentation for alternative solver options:\n",
      "    https://scikit-learn.org/stable/modules/linear_model.html#logistic-regression\n",
      "  n_iter_i = _check_optimize_result(\n"
     ]
    }
   ],
   "source": [
    "# Instantiate the grid search with CV=5\n",
    "gs = GridSearchCV(pipeline, param_grid=param_grid, cv=5,n_jobs=-1, verbose=1)\n",
    "\n",
    "# Fit the logreg grid search on the untransformed Remainder set\n",
    "fitted_gs = gs.fit(X_rem, y_rem)"
   ]
  },
  {
   "cell_type": "code",
   "execution_count": 24,
   "id": "f041ed97",
   "metadata": {},
   "outputs": [
    {
     "data": {
      "text/plain": [
       "Pipeline(steps=[('scaler', MinMaxScaler()), ('dim_reducer', None),\n",
       "                ('model',\n",
       "                 LogisticRegression(C=100, n_jobs=-1, random_state=1))])"
      ]
     },
     "execution_count": 24,
     "metadata": {},
     "output_type": "execute_result"
    }
   ],
   "source": [
    "#Getting the best model\n",
    "fitted_gs.best_estimator_"
   ]
  },
  {
   "cell_type": "code",
   "execution_count": 25,
   "id": "96bd71fb",
   "metadata": {},
   "outputs": [
    {
     "name": "stdout",
     "output_type": "stream",
     "text": [
      "Remainder Accuracy: 0.6565591879862956\n",
      "Test Accuracy: 0.6363985655737705\n"
     ]
    }
   ],
   "source": [
    "# Scoring the best accuracies\n",
    "print(f\"Remainder Accuracy: {fitted_gs.score(X_rem, y_rem)}\")\n",
    "print(f\"Test Accuracy: {fitted_gs.score(X_test, y_test)}\")"
   ]
  },
  {
   "cell_type": "markdown",
   "id": "a5d25536",
   "metadata": {},
   "source": [
    "Based on the results of this pipeline, the best performance will be with a Logistic Regression that has the following parameters:\n",
    "- C=100\n",
    "- Scaler = MinMax Scaler\n",
    "- No PCA\n",
    "\n",
    "Although we have already scored the model and got an accuracy of 63.6% on the test score, we can instantiate and fit our final model below."
   ]
  },
  {
   "cell_type": "code",
   "execution_count": 26,
   "id": "50b2a5fd",
   "metadata": {},
   "outputs": [
    {
     "name": "stdout",
     "output_type": "stream",
     "text": [
      "remainder accuracy: 0.6564631295827863\n",
      "test accuracy: 0.6371670081967213\n"
     ]
    }
   ],
   "source": [
    "# define steps with the specified objects and parameters\n",
    "estimators = [\n",
    "    ('standard_scaling', MinMaxScaler()),\n",
    "    ('logreg', LogisticRegression(C=100, n_jobs=-1, random_state=1, max_iter=1000))\n",
    "]\n",
    "\n",
    "# create pipeline object\n",
    "logreg = Pipeline(estimators)\n",
    "\n",
    "# fit the pipeline to the untransformed training data\n",
    "logreg.fit(X_rem, y_rem);\n",
    "\n",
    "# accuracy scores\n",
    "print(f'remainder accuracy: {logreg.score(X_rem, y_rem)}')\n",
    "print(f'test accuracy: {logreg.score(X_test, y_test)}')\n"
   ]
  },
  {
   "cell_type": "markdown",
   "id": "c387f2b5",
   "metadata": {},
   "source": [
    "63.7% accuracy is not great, but it's better than chance. What seems a bit strange is that it is a sligtly lower accuracy (only 0.1 percentage points) than what we got above with a Standard Scaler and C=0.001. "
   ]
  },
  {
   "cell_type": "markdown",
   "id": "e6e69ec2",
   "metadata": {},
   "source": [
    "## 1.4 Looking at other performance metrics "
   ]
  },
  {
   "cell_type": "markdown",
   "id": "15ea6ffc",
   "metadata": {},
   "source": [
    "Since the class we are trying to predict, whether or not a book is popular, is pretty much balanced (52/48), we have only focused on the accuracy until now. However, we could also look at precision, recall and F1 score using SK Learn confusion matrix and classificiation report."
   ]
  },
  {
   "cell_type": "code",
   "execution_count": 27,
   "id": "98d3cb10",
   "metadata": {},
   "outputs": [],
   "source": [
    "# get predicted y values for the test set\n",
    "y_pred_lr = logreg.predict(X_test)"
   ]
  },
  {
   "cell_type": "code",
   "execution_count": 28,
   "id": "8f6707ad",
   "metadata": {},
   "outputs": [],
   "source": [
    "# generate confusion matrix\n",
    "cf_matrix_lr = confusion_matrix(y_test, y_pred_lr)"
   ]
  },
  {
   "cell_type": "code",
   "execution_count": 29,
   "id": "56e0f571",
   "metadata": {},
   "outputs": [
    {
     "data": {
      "image/png": "[encoded data removed]",
      "text/plain": [
       "<Figure size 432x288 with 2 Axes>"
      ]
     },
     "metadata": {
      "needs_background": "light"
     },
     "output_type": "display_data"
    }
   ],
   "source": [
    "# plot the confusion matrix\n",
    "ConfusionMatrixDisplay(cf_matrix_lr).plot()\n",
    "plt.show()"
   ]
  },
  {
   "cell_type": "markdown",
   "id": "04cbf62a",
   "metadata": {},
   "source": [
    "The confusion matrix shows that out of the 7,808 entries in the test set, our model predicted correctly 2798 positives and 2171 negatives. This is the accuracy: correct results over the total of entries ( (2171+2798)/7808 = 63.6%).\n",
    "\n",
    "The precision focuses more on minimizing the false positives, i.e how many true positives were predicted over the total of positives predicted (2798 / (2798+1611) = 63.4%. In our case, a false positive would be predicting that a book is popular when it's not.\n",
    "\n",
    "The recall on the other hand minimizes the false negatives, i.e how many true positives were predicted over the total actual positives (2798 / (1228 + 2798) = 69.4%. In our case, a false negative would be prediciting that a book is not popular when it is.\n",
    "\n",
    "Since for this particular business question precision and recall are just as important, we can look at F1, which is the harmonic mean of precision and recall.\n",
    "\n",
    "We can visualize all those score in the classification report below."
   ]
  },
  {
   "cell_type": "code",
   "execution_count": 32,
   "id": "4363133c",
   "metadata": {},
   "outputs": [
    {
     "name": "stdout",
     "output_type": "stream",
     "text": [
      "              precision    recall  f1-score   support\n",
      "\n",
      "           0       0.64      0.58      0.61      3782\n",
      "           1       0.64      0.70      0.66      4026\n",
      "\n",
      "    accuracy                           0.64      7808\n",
      "   macro avg       0.64      0.64      0.63      7808\n",
      "weighted avg       0.64      0.64      0.64      7808\n",
      "\n"
     ]
    }
   ],
   "source": [
    "#Print classification report\n",
    "print(classification_report(y_test, y_pred_lr))"
   ]
  },
  {
   "cell_type": "markdown",
   "id": "6023058b",
   "metadata": {},
   "source": [
    "Since we have a balanced classififcation problem and we care equally about the fasle positives and false negative, we will keep looking at accuracy as our main performance metric, but this is good to know that we have other metrics to look at if needed."
   ]
  },
  {
   "cell_type": "markdown",
   "id": "0563e0df",
   "metadata": {},
   "source": [
    "## 1.3 Interpreting the coefficients"
   ]
  },
  {
   "cell_type": "markdown",
   "id": "efbd4a5a",
   "metadata": {},
   "source": [
    "One of the main advantages of a logistic regression model is its interpretability. We can pull the coefficients associated with each feature, and assess their predictability power. \n",
    "\n",
    "We will use our best Logistic Regression model, Standard Scaler with C=0.001 and plot the 5 most predictive coefficients."
   ]
  },
  {
   "cell_type": "code",
   "execution_count": 33,
   "id": "d1e4dfe3",
   "metadata": {},
   "outputs": [
    {
     "data": {
      "text/html": [
       "<div>\n",
       "<style scoped>\n",
       "    .dataframe tbody tr th:only-of-type {\n",
       "        vertical-align: middle;\n",
       "    }\n",
       "\n",
       "    .dataframe tbody tr th {\n",
       "        vertical-align: top;\n",
       "    }\n",
       "\n",
       "    .dataframe thead th {\n",
       "        text-align: right;\n",
       "    }\n",
       "</style>\n",
       "<table border=\"1\" class=\"dataframe\">\n",
       "  <thead>\n",
       "    <tr style=\"text-align: right;\">\n",
       "      <th></th>\n",
       "      <th>0</th>\n",
       "    </tr>\n",
       "  </thead>\n",
       "  <tbody>\n",
       "    <tr>\n",
       "      <th>pages</th>\n",
       "      <td>0.376369</td>\n",
       "    </tr>\n",
       "    <tr>\n",
       "      <th>is_series</th>\n",
       "      <td>0.328002</td>\n",
       "    </tr>\n",
       "    <tr>\n",
       "      <th>book_count_by_author</th>\n",
       "      <td>0.153781</td>\n",
       "    </tr>\n",
       "    <tr>\n",
       "      <th>genre_Poetry</th>\n",
       "      <td>0.137553</td>\n",
       "    </tr>\n",
       "    <tr>\n",
       "      <th>genre_Childrens</th>\n",
       "      <td>0.107782</td>\n",
       "    </tr>\n",
       "    <tr>\n",
       "      <th>format_ebook</th>\n",
       "      <td>0.106525</td>\n",
       "    </tr>\n",
       "    <tr>\n",
       "      <th>word_count_title</th>\n",
       "      <td>0.105027</td>\n",
       "    </tr>\n",
       "    <tr>\n",
       "      <th>genre_Classics</th>\n",
       "      <td>0.085282</td>\n",
       "    </tr>\n",
       "    <tr>\n",
       "      <th>genre_Nonfiction</th>\n",
       "      <td>0.080217</td>\n",
       "    </tr>\n",
       "    <tr>\n",
       "      <th>genre_Other</th>\n",
       "      <td>0.078920</td>\n",
       "    </tr>\n",
       "  </tbody>\n",
       "</table>\n",
       "</div>"
      ],
      "text/plain": [
       "                             0\n",
       "pages                 0.376369\n",
       "is_series             0.328002\n",
       "book_count_by_author  0.153781\n",
       "genre_Poetry          0.137553\n",
       "genre_Childrens       0.107782\n",
       "format_ebook          0.106525\n",
       "word_count_title      0.105027\n",
       "genre_Classics        0.085282\n",
       "genre_Nonfiction      0.080217\n",
       "genre_Other           0.078920"
      ]
     },
     "execution_count": 33,
     "metadata": {},
     "output_type": "execute_result"
    }
   ],
   "source": [
    "#putting the coef in a dataframe\n",
    "coef_df=pd.DataFrame(final_logreg.coef_[0],X.columns)\n",
    "coef_df.sort_values(by=[0],ascending=False).head(10)"
   ]
  },
  {
   "cell_type": "code",
   "execution_count": 34,
   "id": "3efb67a8",
   "metadata": {},
   "outputs": [
    {
     "data": {
      "image/png": "[encoded data removed]",
      "text/plain": [
       "<Figure size 432x288 with 1 Axes>"
      ]
     },
     "metadata": {
      "needs_background": "light"
     },
     "output_type": "display_data"
    }
   ],
   "source": [
    "#Plotting the 5 most predicitive coefficients\n",
    "coef_df.sort_values(by=[0],ascending=False).head(10).plot(kind='barh', color='lightseagreen')\n",
    "plt.title(\"Most predictive features of a popular book\")\n",
    "plt.xlabel(\"LR Coefficient\")\n",
    "plt.show()"
   ]
  },
  {
   "cell_type": "markdown",
   "id": "d164c9c8",
   "metadata": {},
   "source": [
    "In order to interpret those coefficients, we can calulcate the odds ratio:"
   ]
  },
  {
   "cell_type": "code",
   "execution_count": 35,
   "id": "426c4fa9",
   "metadata": {},
   "outputs": [
    {
     "data": {
      "text/html": [
       "<div>\n",
       "<style scoped>\n",
       "    .dataframe tbody tr th:only-of-type {\n",
       "        vertical-align: middle;\n",
       "    }\n",
       "\n",
       "    .dataframe tbody tr th {\n",
       "        vertical-align: top;\n",
       "    }\n",
       "\n",
       "    .dataframe thead th {\n",
       "        text-align: right;\n",
       "    }\n",
       "</style>\n",
       "<table border=\"1\" class=\"dataframe\">\n",
       "  <thead>\n",
       "    <tr style=\"text-align: right;\">\n",
       "      <th></th>\n",
       "      <th>0</th>\n",
       "    </tr>\n",
       "  </thead>\n",
       "  <tbody>\n",
       "    <tr>\n",
       "      <th>pages</th>\n",
       "      <td>1.456984</td>\n",
       "    </tr>\n",
       "    <tr>\n",
       "      <th>is_series</th>\n",
       "      <td>1.388192</td>\n",
       "    </tr>\n",
       "    <tr>\n",
       "      <th>book_count_by_author</th>\n",
       "      <td>1.166235</td>\n",
       "    </tr>\n",
       "    <tr>\n",
       "      <th>genre_Poetry</th>\n",
       "      <td>1.147463</td>\n",
       "    </tr>\n",
       "    <tr>\n",
       "      <th>genre_Childrens</th>\n",
       "      <td>1.113805</td>\n",
       "    </tr>\n",
       "  </tbody>\n",
       "</table>\n",
       "</div>"
      ],
      "text/plain": [
       "                             0\n",
       "pages                 1.456984\n",
       "is_series             1.388192\n",
       "book_count_by_author  1.166235\n",
       "genre_Poetry          1.147463\n",
       "genre_Childrens       1.113805"
      ]
     },
     "execution_count": 35,
     "metadata": {},
     "output_type": "execute_result"
    }
   ],
   "source": [
    "#putting the odds ratios in a dataframe\n",
    "odds_df=pd.DataFrame(np.exp(final_logreg.coef_[0]),X.columns)\n",
    "odds_df.sort_values(by=[0],ascending=False).head(5)"
   ]
  },
  {
   "cell_type": "code",
   "execution_count": 36,
   "id": "cc88fadf",
   "metadata": {},
   "outputs": [
    {
     "data": {
      "image/png": "[encoded data removed]",
      "text/plain": [
       "<Figure size 432x288 with 1 Axes>"
      ]
     },
     "metadata": {
      "needs_background": "light"
     },
     "output_type": "display_data"
    }
   ],
   "source": [
    "#Plotting the 5 highest odds ratios\n",
    "odds_df.sort_values(by=[0],ascending=False).head(5).plot(kind='barh')\n",
    "plt.title(\"Top 5 Features with the highest odds ratio\")\n",
    "plt.xlabel(\"LR Coefficient\")\n",
    "plt.show()"
   ]
  },
  {
   "cell_type": "markdown",
   "id": "16caf743",
   "metadata": {},
   "source": [
    "We interpret those odds ratios as \"A book being part of a series has 1.38 times the odds to be popular than a book not being part of a series\".\n",
    "\n",
    "The length of a book, the number of books that the author has listed on the Best Book Ever list and whether or not a book is part of a series increases the odds of a book being popular on the Goodreads' list. \n",
    "\n",
    "As we have seen during the EDA phase, the genres are not distributed evenly across the dataset, in fact Poetry represents only 2.7% of all books in the list, but 70% of the Poetry books are popular."
   ]
  },
  {
   "cell_type": "markdown",
   "id": "a7fce776",
   "metadata": {},
   "source": [
    "# 2. KNN\n",
    "\n",
    "K Nearest Neighbors is another type of supervised machine learning model, which performs well with boundaries that are not linear (no straight lines). It classifies the data based on the assumption that the observations that are the closest are the most similar. The hyperparameter K is the number of nearby observations to use in the algorithm. Since the model uses a majority vote to classify the data based on the K observations nearby, we usually use an odd value for K to avoid a tie. \n",
    "\n",
    "The downside of KNN models is that they are very computationally expensive."
   ]
  },
  {
   "cell_type": "markdown",
   "id": "206b6a5a",
   "metadata": {},
   "source": [
    "## 2.1 Vanilla KNN"
   ]
  },
  {
   "cell_type": "markdown",
   "id": "d529d862",
   "metadata": {},
   "source": [
    "Now that we know how pipeline works, we can use one to fit a basic KNN model and see how it performs. We will choose K=5 by default."
   ]
  },
  {
   "cell_type": "code",
   "execution_count": 37,
   "id": "9ffbe929",
   "metadata": {},
   "outputs": [
    {
     "name": "stdout",
     "output_type": "stream",
     "text": [
      "Remainder accuracy: 0.7707085908232205\n",
      "Test accuracy: 0.6506147540983607\n"
     ]
    }
   ],
   "source": [
    "# Setting up a pipeline with unscaled data\n",
    "\n",
    "estimators = [\n",
    "    ('standard_scaling', StandardScaler()),\n",
    "    ('knn', KNeighborsClassifier(n_neighbors=5))\n",
    "]\n",
    "\n",
    "# create pipeline object\n",
    "pipe = Pipeline(estimators)\n",
    "\n",
    "# fit the pipeline to the untransformed training data\n",
    "pipe.fit(X_rem, y_rem);\n",
    "\n",
    "# accuracy scores\n",
    "print(f'Remainder accuracy: {pipe.score(X_rem, y_rem)}')\n",
    "print(f'Test accuracy: {pipe.score(X_test, y_test)}')\n"
   ]
  },
  {
   "cell_type": "markdown",
   "id": "fa4c7158",
   "metadata": {},
   "source": [
    "The test accuracy is already better than with the logitic regression model at about 65%, however the remainder accuracy is much higher than the test, which is a sign of overfitting. Let's loop over the K value and visualize the accuracies to have a better idea of the KNN performance. \n",
    "\n",
    "As we have seen above, we want to use the train and validation set for this optimization, to avoid overfitting to the test data."
   ]
  },
  {
   "cell_type": "code",
   "execution_count": 38,
   "id": "e6b411da",
   "metadata": {},
   "outputs": [],
   "source": [
    "#Looping over K and visualizing - using train/val sets\n",
    "#This takes a while to run\n",
    "\n",
    "train_acc=[]\n",
    "val_acc=[]\n",
    "\n",
    "for k in range(1,61,4): #adding a step of 4 to get only odd numbers\n",
    "    \n",
    "    #Instantiate the model\n",
    "    knn=KNeighborsClassifier(n_neighbors=k)\n",
    "\n",
    "    #Fit the model on train data\n",
    "    my_knn=knn.fit(X_train_ss, y_train)\n",
    "\n",
    "    #Append the list\n",
    "    train_acc.append(my_knn.score(X_train_ss,y_train))\n",
    "    val_acc.append(my_knn.score(X_val_ss,y_val))"
   ]
  },
  {
   "cell_type": "code",
   "execution_count": 39,
   "id": "990bd7f0",
   "metadata": {},
   "outputs": [
    {
     "data": {
      "image/png": "[encoded data removed]",
      "text/plain": [
       "<Figure size 720x504 with 1 Axes>"
      ]
     },
     "metadata": {
      "needs_background": "light"
     },
     "output_type": "display_data"
    }
   ],
   "source": [
    "#Visualize\n",
    "plt.figure(figsize=(10, 7))\n",
    "plt.plot(range(1,61,4),train_acc,label=\"Train\", color='orange',marker='o')\n",
    "plt.plot(range(1,61,4),val_acc, label='Validation',color='blue',marker='o')\n",
    "plt.xticks(range(1,61,4),rotation=45)\n",
    "plt.axvline(25)\n",
    "plt.ylabel(\"Accuracy Score\")\n",
    "plt.xlabel(\"Number of neighbors\")\n",
    "plt.title('Accuracy vs Number of Neighbors')\n",
    "plt.legend()\n",
    "plt.show()"
   ]
  },
  {
   "cell_type": "markdown",
   "id": "20e94949",
   "metadata": {},
   "source": [
    "A K value between 25 and 33 seems to be the most appropriate to avoid overfitting while maximizing the accuracy. Let's fit a model with K=25 on the standard scaled remainder and test set."
   ]
  },
  {
   "cell_type": "code",
   "execution_count": 40,
   "id": "feefbca0",
   "metadata": {},
   "outputs": [
    {
     "name": "stdout",
     "output_type": "stream",
     "text": [
      "Remainder accuracy: 0.6955268803432487\n",
      "Test accuracy: 0.6574026639344263\n"
     ]
    }
   ],
   "source": [
    "#Instantiate the model\n",
    "knn=KNeighborsClassifier(n_neighbors=25)\n",
    "\n",
    "#Fit the model on train data\n",
    "my_knn=knn.fit(X_rem_ss, y_rem)\n",
    "\n",
    "#Score the model\n",
    "print(f'Remainder accuracy: {my_knn.score(X_rem_ss,y_rem)}')\n",
    "print(f'Test accuracy: {my_knn.score(X_test_ss,y_test)}')\n"
   ]
  },
  {
   "cell_type": "markdown",
   "id": "d2314481",
   "metadata": {},
   "source": [
    "We get a slightly higher accuracy score than before, but more importantly the remainder score is closer to the test score, which means our model doesn't overfit anymore."
   ]
  },
  {
   "cell_type": "markdown",
   "id": "05cd997f",
   "metadata": {},
   "source": [
    "## 2.2 Cross Validation"
   ]
  },
  {
   "cell_type": "markdown",
   "id": "c887c8e4",
   "metadata": {},
   "source": [
    "Just like with the Logistic Regression model, we can use a cross vaidation to optimize the K value. We will use directly the remainder and test set, as the CV function splits the remainder set into train & validation sets for us. We will also use the Standard Scaled data."
   ]
  },
  {
   "cell_type": "code",
   "execution_count": 41,
   "id": "8613c7ff",
   "metadata": {},
   "outputs": [
    {
     "data": {
      "image/png": "[encoded data removed]",
      "text/plain": [
       "<Figure size 432x288 with 1 Axes>"
      ]
     },
     "metadata": {
      "needs_background": "light"
     },
     "output_type": "display_data"
    },
    {
     "name": "stdout",
     "output_type": "stream",
     "text": [
      "The best model has K =  37\n"
     ]
    }
   ],
   "source": [
    "#finding the best K with cross validation\n",
    "\n",
    "#Store the results\n",
    "cross_validation_scores = []\n",
    "\n",
    "N_range = np.array(range(1,61,4))\n",
    "#Looping over n\n",
    "\n",
    "for k in N_range:\n",
    "    my_knn = KNeighborsClassifier(n_neighbors=k)\n",
    "    \n",
    "    # the cross validation score (mean of scores from all folds)\n",
    "    cv_score = np.mean(cross_val_score(my_knn, X_rem_ss, y_rem, cv = 5))\n",
    "    \n",
    "    cross_validation_scores.append(cv_score)\n",
    "\n",
    "plt.figure()\n",
    "plt.plot(N_range, cross_validation_scores,label=\"Cross Validation Score\",marker='.')\n",
    "plt.legend()\n",
    "plt.xlabel('Values of K')\n",
    "plt.ylabel('Cross Validation Score')\n",
    "plt.grid()\n",
    "plt.show();\n",
    "\n",
    "which_max = np.array(cross_validation_scores).argmax()\n",
    "\n",
    "print(\"The best model has K = \",N_range[which_max])\n",
    "\n"
   ]
  },
  {
   "cell_type": "markdown",
   "id": "06ad5052",
   "metadata": {},
   "source": [
    "The best model has K=37. We know that a GridSearch can achieve the same results, but let's try it:"
   ]
  },
  {
   "cell_type": "code",
   "execution_count": 42,
   "id": "e7605e32",
   "metadata": {},
   "outputs": [
    {
     "name": "stdout",
     "output_type": "stream",
     "text": [
      "Best parameters:  {'n_neighbors': 37}\n"
     ]
    }
   ],
   "source": [
    "#Same things with a Gridsearch\n",
    "my_knn = KNeighborsClassifier()\n",
    "grid_search = GridSearchCV(my_knn, {\"n_neighbors\": range(1,61,4)})\n",
    "\n",
    "grid_search.fit(X_rem_ss, y_rem) #fit on scaled data\n",
    "\n",
    "print(\"Best parameters: \", grid_search.best_params_)"
   ]
  },
  {
   "cell_type": "markdown",
   "id": "ceeb7452",
   "metadata": {},
   "source": [
    "Now that we have narrowed down the K value to a few possiilities, we can run a pipeline to figure out the best scaler and best K value."
   ]
  },
  {
   "cell_type": "markdown",
   "id": "35d404de",
   "metadata": {},
   "source": [
    "## 2.3 Pipeline"
   ]
  },
  {
   "cell_type": "code",
   "execution_count": 43,
   "id": "8ff6da8e",
   "metadata": {},
   "outputs": [
    {
     "name": "stdout",
     "output_type": "stream",
     "text": [
      "Fitting 5 folds for each of 12 candidates, totalling 60 fits\n"
     ]
    }
   ],
   "source": [
    "#Trying different parameters with a pipeline\n",
    "\n",
    "estimators = [\n",
    "    ('scaling', StandardScaler()),\n",
    "    ('model', KNeighborsClassifier())\n",
    "]\n",
    "\n",
    "# instantiate pipeline with the specified steps\n",
    "pipe = Pipeline(estimators)\n",
    "\n",
    "\n",
    "# Parameter grid\n",
    "param_grid = [\n",
    "    \n",
    "    # knn without PCA\n",
    "    {'scaling': [None, StandardScaler(), MinMaxScaler(), RobustScaler()],\n",
    "     'model': [KNeighborsClassifier()],\n",
    "     'model__n_neighbors': [25,33, 37]},\n",
    "]\n",
    "\n",
    "# instantiate cross-validated grid search object with the steps and parameter grid\n",
    "grid = GridSearchCV(\n",
    "    estimator = pipe,\n",
    "    param_grid = param_grid,\n",
    "    cv = 5,\n",
    "    verbose = 1,\n",
    "    n_jobs = -1\n",
    ")\n",
    "\n",
    "# fit the grid to the unprocessed remainder data\n",
    "grid.fit(X_rem, y_rem);"
   ]
  },
  {
   "cell_type": "code",
   "execution_count": 44,
   "id": "4f88675e",
   "metadata": {},
   "outputs": [
    {
     "data": {
      "text/plain": [
       "Pipeline(steps=[('scaling', RobustScaler()),\n",
       "                ('model', KNeighborsClassifier(n_neighbors=37))])"
      ]
     },
     "execution_count": 44,
     "metadata": {},
     "output_type": "execute_result"
    }
   ],
   "source": [
    "# check the most optimal model\n",
    "grid.best_estimator_"
   ]
  },
  {
   "cell_type": "markdown",
   "id": "b3c6ffe4",
   "metadata": {},
   "source": [
    "Finally, we fit the final KNN model with the best parameters."
   ]
  },
  {
   "cell_type": "code",
   "execution_count": 45,
   "id": "ca702eec",
   "metadata": {},
   "outputs": [
    {
     "name": "stdout",
     "output_type": "stream",
     "text": [
      "Remainder accuracy: 0.7064134994076399\n",
      "Test accuracy: 0.6780225409836066\n"
     ]
    }
   ],
   "source": [
    "#Instantiate the model with the best parameters\n",
    "\n",
    "# define steps with the specified objects and parameters\n",
    "estimators = [\n",
    "    ('robust_scaler',RobustScaler()),\n",
    "    ('knn', KNeighborsClassifier(n_neighbors=37))\n",
    "]\n",
    "\n",
    "# create pipeline object\n",
    "final_knn = Pipeline(estimators)\n",
    "\n",
    "# fit the pipeline to the untransformed training data\n",
    "final_knn.fit(X_rem, y_rem);\n",
    "\n",
    "# accuracy scores\n",
    "print(f'Remainder accuracy: {final_knn.score(X_rem, y_rem)}')\n",
    "print(f'Test accuracy: {final_knn.score(X_test, y_test)}')\n"
   ]
  },
  {
   "cell_type": "markdown",
   "id": "adf48382",
   "metadata": {},
   "source": [
    "We now have a 67.8% test accuracy on our best KNN model, better than our best Logistic Regression at 63.7%. The downside of this model however, besides the time it takes to run it, is that it is not as interpretable as a Logistic Regression and is very sensitive to distance and outliers."
   ]
  },
  {
   "cell_type": "markdown",
   "id": "cc2fc85b",
   "metadata": {},
   "source": [
    "## 2.4 Confusion matrix"
   ]
  },
  {
   "cell_type": "code",
   "execution_count": 46,
   "id": "ac421950",
   "metadata": {},
   "outputs": [],
   "source": [
    "# get predicted y values for the test set\n",
    "y_pred_knn = final_knn.predict(X_test)"
   ]
  },
  {
   "cell_type": "code",
   "execution_count": 47,
   "id": "f6b3384c",
   "metadata": {},
   "outputs": [],
   "source": [
    "# generate confusion matrix\n",
    "cf_matrix_knn = confusion_matrix(y_test, y_pred_knn)"
   ]
  },
  {
   "cell_type": "code",
   "execution_count": 48,
   "id": "149edbff",
   "metadata": {},
   "outputs": [
    {
     "data": {
      "image/png": "[encoded data removed]",
      "text/plain": [
       "<Figure size 432x288 with 2 Axes>"
      ]
     },
     "metadata": {
      "needs_background": "light"
     },
     "output_type": "display_data"
    }
   ],
   "source": [
    "# plot the confusion matrix\n",
    "ConfusionMatrixDisplay(cf_matrix_knn).plot()\n",
    "plt.show()"
   ]
  },
  {
   "cell_type": "code",
   "execution_count": 49,
   "id": "8cbe5d9c",
   "metadata": {},
   "outputs": [
    {
     "name": "stdout",
     "output_type": "stream",
     "text": [
      "              precision    recall  f1-score   support\n",
      "\n",
      "           0       0.68      0.63      0.65      3782\n",
      "           1       0.67      0.73      0.70      4026\n",
      "\n",
      "    accuracy                           0.68      7808\n",
      "   macro avg       0.68      0.68      0.68      7808\n",
      "weighted avg       0.68      0.68      0.68      7808\n",
      "\n"
     ]
    }
   ],
   "source": [
    "#Print classification report\n",
    "print(classification_report(y_test, y_pred_knn))"
   ]
  },
  {
   "cell_type": "markdown",
   "id": "bec645ee",
   "metadata": {},
   "source": [
    "The claissification report shows an accuracy of 68% as expected, a precision (false positives) of 67%, a recall (fasle negative) of 73% and a F1 score of 70%. This is much better than the Logistic Regession score, and tells us that we have less chance of calling a false negative than a false positive. \n",
    "\n",
    "Let's run one more type of model to see if we can improve our scores even more."
   ]
  },
  {
   "cell_type": "markdown",
   "id": "c8ce643a",
   "metadata": {},
   "source": [
    "# 3. Decision Tree & Random Forest\n",
    "\n",
    "Decision Trees are another type of supervised models, which are also good for classification tasks and non-linear boundaries. In short, it is a series of binary decisions on 2 features of the dataset at each node of the tree. For example, is the book Fiction or non Fiction? Is the book longer than 300 pages? Is the book part of a series? etc... It is easy to intrepret and visuzalize, but can be unstable as different subsets of the data can lead to different results. They are not sensitive to distance, so we don't need to scale the data here."
   ]
  },
  {
   "cell_type": "markdown",
   "id": "ec6cbba2",
   "metadata": {},
   "source": [
    "## 3.1 Vanilla DT"
   ]
  },
  {
   "cell_type": "markdown",
   "id": "31248406",
   "metadata": {},
   "source": [
    "As before, we'll start with a basic Decision Tree to have a baseline of the accuracy. We'll set a max_depth of 3 (maximum number of nodes) to avoid a long , complex tree and therefore risk of overfitting. We'll optimize the parameter in our next step."
   ]
  },
  {
   "cell_type": "code",
   "execution_count": 50,
   "id": "c71023fb",
   "metadata": {},
   "outputs": [
    {
     "name": "stdout",
     "output_type": "stream",
     "text": [
      "Accuracy on remainder set: 0.6374755851557747\n",
      "Accuracy on test set: 0.6230788934426229\n"
     ]
    }
   ],
   "source": [
    "#Instantiate the model\n",
    "dct=DecisionTreeClassifier(max_depth=3)\n",
    "\n",
    "#Fit the model on remainder data\n",
    "my_dct=dct.fit(X_rem, y_rem)\n",
    "\n",
    "#Score the model\n",
    "print(f'Accuracy on remainder set: {my_dct.score(X_rem,y_rem)}')\n",
    "print(f'Accuracy on test set: {my_dct.score(X_test,y_test)}')\n"
   ]
  },
  {
   "cell_type": "markdown",
   "id": "b97d6769",
   "metadata": {},
   "source": [
    "We see that the accuracy score on the test set is still within the same range as earlier, although the lowest of all the scores we got so far at 62.3%. \n",
    "\n",
    "We can visualize our decision tree using a built-in function in SK Learn."
   ]
  },
  {
   "cell_type": "code",
   "execution_count": 51,
   "id": "0daf363c",
   "metadata": {},
   "outputs": [],
   "source": [
    "from sklearn.tree import plot_tree"
   ]
  },
  {
   "cell_type": "code",
   "execution_count": 52,
   "id": "aa161ba8",
   "metadata": {},
   "outputs": [
    {
     "data": {
      "image/png": "[encoded data removed]",
      "text/plain": [
       "<Figure size 1440x720 with 1 Axes>"
      ]
     },
     "metadata": {
      "needs_background": "light"
     },
     "output_type": "display_data"
    }
   ],
   "source": [
    "# Set the size\n",
    "fig= plt.figure(figsize=(20,10))\n",
    "\n",
    "#Plot the tree\n",
    "plot_tree(my_dct, \n",
    "          feature_names=X.columns,\n",
    "          class_names=[\"Not Popular\",\"Popular\"],\n",
    "          rounded=True,\n",
    "          impurity=False,\n",
    "          filled=True,\n",
    "          fontsize=12);"
   ]
  },
  {
   "cell_type": "markdown",
   "id": "36f2aef3",
   "metadata": {},
   "source": [
    "The Class indicates the decision made at each node, as shown by the color of the leaf. Each node is split into two decisions, left for 'True' and right for 'False'. So here we read:\n",
    "\n",
    "- 'Is Fiction <=0.5 i.e is the book NOT Fiction?' -> if Yes, to the left node. Class is Popular, because 6451 of the 10249 non-fiction books are popular.\n",
    "- Does the book have less than 449 pages? If no, to the right node. Class is Popular, because 1016 out of the 1311 non-fiction books that have more than 448 pages are popular\n",
    "- And so on until then end..."
   ]
  },
  {
   "cell_type": "markdown",
   "id": "86a1652f",
   "metadata": {},
   "source": [
    "## 3.2 Hyperparameter Optimization"
   ]
  },
  {
   "cell_type": "markdown",
   "id": "c1384010",
   "metadata": {},
   "source": [
    "The same way as we've done before, we loop over the hyperparamter and visualize the accuracy based on the max_depth value."
   ]
  },
  {
   "cell_type": "code",
   "execution_count": 53,
   "id": "4d908a56",
   "metadata": {},
   "outputs": [],
   "source": [
    "#Looping over M and visualizing - using train/val sets\n",
    "#This takes a while to run\n",
    "\n",
    "train_acc=[]\n",
    "val_acc=[]\n",
    "\n",
    "for m in range(1,20,1): \n",
    "    \n",
    "    #Instantiate the model\n",
    "    dct=DecisionTreeClassifier(max_depth=m)\n",
    "\n",
    "    #Fit the model on train data\n",
    "    my_dct=dct.fit(X_train, y_train)\n",
    "\n",
    "    #Append the list\n",
    "    train_acc.append(my_dct.score(X_train,y_train))\n",
    "    val_acc.append(my_dct.score(X_val,y_val))"
   ]
  },
  {
   "cell_type": "code",
   "execution_count": 54,
   "id": "20ba9ffa",
   "metadata": {},
   "outputs": [
    {
     "data": {
      "image/png": "[encoded data removed]",
      "text/plain": [
       "<Figure size 720x504 with 1 Axes>"
      ]
     },
     "metadata": {
      "needs_background": "light"
     },
     "output_type": "display_data"
    }
   ],
   "source": [
    "#Visualize\n",
    "plt.figure(figsize=(10, 7))\n",
    "plt.plot(range(1,20,1),train_acc,label=\"Train\", color='orange',marker='o')\n",
    "plt.plot(range(1,20,1),val_acc, label='Validation',color='blue',marker='o')\n",
    "plt.xticks(range(1,20,1),rotation=45)\n",
    "plt.axvline(6)\n",
    "plt.ylabel(\"Accuracy Score\")\n",
    "plt.xlabel(\"Max Depth\")\n",
    "plt.title('Accuracy vs Max Depth')\n",
    "plt.legend()\n",
    "plt.show()"
   ]
  },
  {
   "cell_type": "markdown",
   "id": "18c3a7b5",
   "metadata": {},
   "source": [
    "We see here that the optimized max_depth seems to be 6, before the model starts overfitting. Let's fit our final model with this value."
   ]
  },
  {
   "cell_type": "code",
   "execution_count": 55,
   "id": "9304ca88",
   "metadata": {},
   "outputs": [
    {
     "name": "stdout",
     "output_type": "stream",
     "text": [
      "Accuracy on remainder set: 0.6608497966763792\n",
      "Accuracy on test set: 0.6453637295081968\n"
     ]
    }
   ],
   "source": [
    "#Instantiate the final model with M=6\n",
    "\n",
    "dct=DecisionTreeClassifier(max_depth=6)\n",
    "\n",
    "#Fit the model on remainder data\n",
    "final_dct=dct.fit(X_rem, y_rem)\n",
    "\n",
    "#Score the model\n",
    "print(f'Accuracy on remainder set: {final_dct.score(X_rem,y_rem)}')\n",
    "print(f'Accuracy on test set: {final_dct.score(X_test,y_test)}')\n"
   ]
  },
  {
   "cell_type": "markdown",
   "id": "23934ae0",
   "metadata": {},
   "source": [
    "The accuracy on the test is not as good as with KNN, it scored 64.5%. We could try an ensemble of decisions trees, known as a Random Forest. This would allows us to mitigate some of the issues with the decision trees that we stated earlier."
   ]
  },
  {
   "cell_type": "markdown",
   "id": "b30680f3",
   "metadata": {},
   "source": [
    "## 3.3 Random Forest"
   ]
  },
  {
   "cell_type": "markdown",
   "id": "5c16a228",
   "metadata": {},
   "source": [
    "Our research has shown that Random Forests have been quite effective at classification problems, in fact they have been used for predicting [a Book's Success in the New York Times Best Sellers List](https://github.com/scostap/goodreads_bbe_dataset).\n",
    "\n",
    "Random Forests are made of individual, uncorrelated decision trees which each have a classification outcome (popular or not popular). The class with the most votes becomes the Random Forest's prediction. "
   ]
  },
  {
   "cell_type": "code",
   "execution_count": 56,
   "id": "947ab443",
   "metadata": {},
   "outputs": [],
   "source": [
    "from sklearn.ensemble import RandomForestClassifier"
   ]
  },
  {
   "cell_type": "markdown",
   "id": "b55af492",
   "metadata": {},
   "source": [
    "Let's instantiate our first Random Forest, with 25 individual Decision Trees (the n_estimators)"
   ]
  },
  {
   "cell_type": "code",
   "execution_count": 57,
   "id": "2daef0fd",
   "metadata": {},
   "outputs": [
    {
     "data": {
      "text/plain": [
       "RandomForestClassifier(n_estimators=25)"
      ]
     },
     "execution_count": 57,
     "metadata": {},
     "output_type": "execute_result"
    }
   ],
   "source": [
    "#Instantiating the model\n",
    "rf = RandomForestClassifier(n_estimators=25)\n",
    "rf.fit(X_rem, y_rem)"
   ]
  },
  {
   "cell_type": "markdown",
   "id": "53c7780f",
   "metadata": {},
   "source": [
    "We can then score each tree individually and average their scores, or score the whole forest and see how it compares."
   ]
  },
  {
   "cell_type": "code",
   "execution_count": 58,
   "id": "c210c3be",
   "metadata": {},
   "outputs": [
    {
     "name": "stdout",
     "output_type": "stream",
     "text": [
      "Performance on Remainder dataset:\n",
      "Average Decision Tree: 0.8571739617687554\n",
      "Random Forest: 0.9983670071403413\n"
     ]
    }
   ],
   "source": [
    "#Scoring each tree individually and averaging them, then scoring the forest\n",
    "\n",
    "decision_tree_scores = []\n",
    "for sub_tree in rf.estimators_:\n",
    "    decision_tree_scores.append(sub_tree.score(X_rem, y_rem))\n",
    "    \n",
    "print(\"Performance on Remainder dataset:\")\n",
    "print(f\"Average Decision Tree: {np.mean(decision_tree_scores)}\")\n",
    "print(f\"Random Forest: {rf.score(X_rem, y_rem)}\")"
   ]
  },
  {
   "cell_type": "code",
   "execution_count": 59,
   "id": "d1656f84",
   "metadata": {},
   "outputs": [
    {
     "name": "stdout",
     "output_type": "stream",
     "text": [
      "Performance on Test dataset:\n",
      "Average Decision Tree: 0.609923155737705\n",
      "Random Forest: 0.6976178278688525\n"
     ]
    }
   ],
   "source": [
    "decision_tree_scores = []\n",
    "for sub_tree in rf.estimators_:\n",
    "    decision_tree_scores.append(sub_tree.score(X_test, y_test))\n",
    "\n",
    "print(\"Performance on Test dataset:\")\n",
    "print(f\"Average Decision Tree: {np.mean(decision_tree_scores)}\")\n",
    "print(f\"Random Forest: {rf.score(X_test, y_test)}\")"
   ]
  },
  {
   "cell_type": "markdown",
   "id": "e482df1d",
   "metadata": {},
   "source": [
    "This is clearly overfitting, the remainder set scored almost 100% while the test set scored 70%. \n",
    "\n",
    "Let's loop over n_estimators with decision stumps (depth of 1), which should prevent overfitting, and plot the results."
   ]
  },
  {
   "cell_type": "code",
   "execution_count": 60,
   "id": "0d2aacc3",
   "metadata": {},
   "outputs": [
    {
     "name": "stdout",
     "output_type": "stream",
     "text": [
      "149\r"
     ]
    }
   ],
   "source": [
    "#Looping over n_estimators with max-depth=1\n",
    "n_estimators_range = range(1, 150)\n",
    "\n",
    "results = pd.DataFrame()\n",
    "for n_est in n_estimators_range:\n",
    "    rf = RandomForestClassifier(n_estimators=n_est, max_depth=1,random_state=1)\n",
    "\n",
    "    rf.fit(X_rem, y_rem)\n",
    "    \n",
    "    rem_score = rf.score(X_rem, y_rem)\n",
    "    test_score = rf.score(X_test, y_test)\n",
    "    \n",
    "    results = results.append(\n",
    "        {\"n_estimators\": n_est, \"remainder\": rem_score, \"test\": test_score},\n",
    "        ignore_index=True\n",
    "    )\n",
    "    \n",
    "    print(n_est, end=\"\\r\")"
   ]
  },
  {
   "cell_type": "code",
   "execution_count": 61,
   "id": "efdeb51b",
   "metadata": {},
   "outputs": [
    {
     "data": {
      "image/png": "[encoded data removed]",
      "text/plain": [
       "<Figure size 1080x720 with 1 Axes>"
      ]
     },
     "metadata": {
      "needs_background": "light"
     },
     "output_type": "display_data"
    }
   ],
   "source": [
    "#plotting the results\n",
    "plt.figure(figsize=(10, 7))\n",
    "results.plot(x=\"n_estimators\", y=[\"remainder\", \"test\"], kind=\"line\", ax=plt.gca(),figsize=(15,10))\n",
    "plt.axvline(60,color=\"purple\")\n",
    "plt.legend()\n",
    "plt.title(\"Random Forest scores depending on number of estimators\")\n",
    "plt.show()"
   ]
  },
  {
   "cell_type": "markdown",
   "id": "45c68606",
   "metadata": {},
   "source": [
    "We see that the accuracy increases sharply between 0 and 50 decision trees, but that it seems to stabilize after that. The Remainder and Test accuracy are pretty close to each other, which is a sign that our model is not overfitting. Let's pick a value of 60 for the number of trees."
   ]
  },
  {
   "cell_type": "markdown",
   "id": "ab510d90",
   "metadata": {},
   "source": [
    "One of the advantages of a random forest is that we can interpret the result by looking at the features importance:"
   ]
  },
  {
   "cell_type": "code",
   "execution_count": 62,
   "id": "97b36b1d",
   "metadata": {},
   "outputs": [
    {
     "data": {
      "text/html": [
       "<div>\n",
       "<style scoped>\n",
       "    .dataframe tbody tr th:only-of-type {\n",
       "        vertical-align: middle;\n",
       "    }\n",
       "\n",
       "    .dataframe tbody tr th {\n",
       "        vertical-align: top;\n",
       "    }\n",
       "\n",
       "    .dataframe thead th {\n",
       "        text-align: right;\n",
       "    }\n",
       "</style>\n",
       "<table border=\"1\" class=\"dataframe\">\n",
       "  <thead>\n",
       "    <tr style=\"text-align: right;\">\n",
       "      <th></th>\n",
       "      <th>feature_importance</th>\n",
       "    </tr>\n",
       "  </thead>\n",
       "  <tbody>\n",
       "    <tr>\n",
       "      <th>genre_Contemporary</th>\n",
       "      <td>0.166667</td>\n",
       "    </tr>\n",
       "    <tr>\n",
       "      <th>genre_Nonfiction</th>\n",
       "      <td>0.133333</td>\n",
       "    </tr>\n",
       "    <tr>\n",
       "      <th>genre_Novels</th>\n",
       "      <td>0.116667</td>\n",
       "    </tr>\n",
       "    <tr>\n",
       "      <th>is_series</th>\n",
       "      <td>0.100000</td>\n",
       "    </tr>\n",
       "    <tr>\n",
       "      <th>pages</th>\n",
       "      <td>0.083333</td>\n",
       "    </tr>\n",
       "    <tr>\n",
       "      <th>word_count_title</th>\n",
       "      <td>0.066667</td>\n",
       "    </tr>\n",
       "    <tr>\n",
       "      <th>genre_Fiction</th>\n",
       "      <td>0.066667</td>\n",
       "    </tr>\n",
       "    <tr>\n",
       "      <th>genre_Mystery</th>\n",
       "      <td>0.050000</td>\n",
       "    </tr>\n",
       "    <tr>\n",
       "      <th>publish_year</th>\n",
       "      <td>0.050000</td>\n",
       "    </tr>\n",
       "    <tr>\n",
       "      <th>format_ebook</th>\n",
       "      <td>0.033333</td>\n",
       "    </tr>\n",
       "  </tbody>\n",
       "</table>\n",
       "</div>"
      ],
      "text/plain": [
       "                    feature_importance\n",
       "genre_Contemporary            0.166667\n",
       "genre_Nonfiction              0.133333\n",
       "genre_Novels                  0.116667\n",
       "is_series                     0.100000\n",
       "pages                         0.083333\n",
       "word_count_title              0.066667\n",
       "genre_Fiction                 0.066667\n",
       "genre_Mystery                 0.050000\n",
       "publish_year                  0.050000\n",
       "format_ebook                  0.033333"
      ]
     },
     "execution_count": 62,
     "metadata": {},
     "output_type": "execute_result"
    }
   ],
   "source": [
    "#Putting the most important features in a dataframe\n",
    "\n",
    "rf = RandomForestClassifier(n_estimators=60, max_depth=1,random_state=1)\n",
    "\n",
    "rf.fit(X_rem, y_rem)\n",
    "\n",
    "# Find the most important features\n",
    "feature_df = pd.DataFrame(\n",
    "    {\"feature_importance\": rf.feature_importances_},\n",
    "    index=X.columns\n",
    ")\n",
    "\n",
    "feature_df=feature_df.sort_values(by='feature_importance', ascending=False)\n",
    "feature_df.head(10)"
   ]
  },
  {
   "cell_type": "markdown",
   "id": "97e9f6ff",
   "metadata": {},
   "source": [
    "Now that we have selected an optimum number of trees, let's fin the best depth by looping over max_depth and plotting the results."
   ]
  },
  {
   "cell_type": "code",
   "execution_count": 63,
   "id": "73a2613e",
   "metadata": {},
   "outputs": [
    {
     "name": "stdout",
     "output_type": "stream",
     "text": [
      "19\r"
     ]
    }
   ],
   "source": [
    "#Finding the best depth\n",
    "\n",
    "#Same thing, but with max-depth=1\n",
    "max_depth_range = range(1, 20,1)\n",
    "\n",
    "results = pd.DataFrame()\n",
    "for m in max_depth_range:\n",
    "    rf = RandomForestClassifier(n_estimators=60, max_depth=m,random_state=1)\n",
    "\n",
    "    rf.fit(X_rem, y_rem)\n",
    "    \n",
    "    rem_score = rf.score(X_rem, y_rem)\n",
    "    test_score = rf.score(X_test, y_test)\n",
    "    \n",
    "    results = results.append(\n",
    "        {\"max_depth\": m, \"rem\": rem_score, \"test\": test_score},\n",
    "        ignore_index=True\n",
    "    )\n",
    "    \n",
    "    print(m, end=\"\\r\")"
   ]
  },
  {
   "cell_type": "code",
   "execution_count": 64,
   "id": "77b65cee",
   "metadata": {},
   "outputs": [
    {
     "data": {
      "image/png": "[encoded data removed]",
      "text/plain": [
       "<Figure size 1080x720 with 1 Axes>"
      ]
     },
     "metadata": {
      "needs_background": "light"
     },
     "output_type": "display_data"
    }
   ],
   "source": [
    "#plotting the results\n",
    "plt.figure(figsize=(10, 5))\n",
    "results.plot(x=\"max_depth\", y=[\"rem\", \"test\"], kind=\"line\", ax=plt.gca(),figsize=(15,10))\n",
    "plt.axvline(5)\n",
    "plt.xticks(range(1,20,1))\n",
    "plt.legend()\n",
    "plt.title(\"Random Forest scores depending on number of estimators\")\n",
    "plt.show()"
   ]
  },
  {
   "cell_type": "markdown",
   "id": "d41a4ba2",
   "metadata": {},
   "source": [
    "The 2 lines run parallel from 1 to 5 nodes, but start diverging after that with the Remainder set's accuracy increasing steadily while the Test set's accuracy flatlines. We will pick a max_depth of 5, as this is the point just before the lines start diverging."
   ]
  },
  {
   "cell_type": "markdown",
   "id": "15ed0b31",
   "metadata": {},
   "source": [
    "Finally, we can instantiate our best model with n = 60 and max_depth = 5:"
   ]
  },
  {
   "cell_type": "code",
   "execution_count": 65,
   "id": "4305277e",
   "metadata": {},
   "outputs": [
    {
     "data": {
      "text/plain": [
       "RandomForestClassifier(max_depth=5, n_estimators=60, random_state=1)"
      ]
     },
     "execution_count": 65,
     "metadata": {},
     "output_type": "execute_result"
    }
   ],
   "source": [
    "#Instantiating the best model, n=60, m=5\n",
    "\n",
    "rf = RandomForestClassifier(n_estimators=60,max_depth=5,random_state=1)\n",
    "rf.fit(X_rem, y_rem)"
   ]
  },
  {
   "cell_type": "code",
   "execution_count": 66,
   "id": "f068c94f",
   "metadata": {},
   "outputs": [
    {
     "name": "stdout",
     "output_type": "stream",
     "text": [
      "Performance on Remainder dataset:\n",
      "Average Decision Tree: 0.6145448432647048\n",
      "Random Forest: 0.6708078511735135\n"
     ]
    }
   ],
   "source": [
    "# Remainder Scores\n",
    "\n",
    "decision_tree_scores = []\n",
    "for sub_tree in rf.estimators_:\n",
    "    decision_tree_scores.append(sub_tree.score(X_rem, y_rem))\n",
    "    \n",
    "print(\"Performance on Remainder dataset:\")\n",
    "print(f\"Average Decision Tree: {np.mean(decision_tree_scores)}\")\n",
    "print(f\"Random Forest: {rf.score(X_rem, y_rem)}\")"
   ]
  },
  {
   "cell_type": "code",
   "execution_count": 67,
   "id": "f2e93d58",
   "metadata": {},
   "outputs": [
    {
     "name": "stdout",
     "output_type": "stream",
     "text": [
      "Performance on Test data:\n",
      "Average Decision Tree: 0.604623463114754\n",
      "Random Forest: 0.6553534836065574\n"
     ]
    }
   ],
   "source": [
    "#Test scores\n",
    "\n",
    "decision_tree_scores = []\n",
    "for sub_tree in rf.estimators_:\n",
    "    decision_tree_scores.append(sub_tree.score(X_test, y_test))\n",
    "\n",
    "print(\"Performance on Test data:\")\n",
    "print(f\"Average Decision Tree: {np.mean(decision_tree_scores)}\")\n",
    "print(f\"Random Forest: {rf.score(X_test, y_test)}\")"
   ]
  },
  {
   "cell_type": "markdown",
   "id": "3e06f4b6",
   "metadata": {},
   "source": [
    "Our Random Forest scored 65.5% accuracy on the test set, better than the individual decision tree we fitted earlier which scored 64.5%. \n",
    "\n",
    "We will again put the most important features in a dataframe for our final model:"
   ]
  },
  {
   "cell_type": "code",
   "execution_count": 68,
   "id": "05f70b75",
   "metadata": {},
   "outputs": [
    {
     "data": {
      "text/html": [
       "<div>\n",
       "<style scoped>\n",
       "    .dataframe tbody tr th:only-of-type {\n",
       "        vertical-align: middle;\n",
       "    }\n",
       "\n",
       "    .dataframe tbody tr th {\n",
       "        vertical-align: top;\n",
       "    }\n",
       "\n",
       "    .dataframe thead th {\n",
       "        text-align: right;\n",
       "    }\n",
       "</style>\n",
       "<table border=\"1\" class=\"dataframe\">\n",
       "  <thead>\n",
       "    <tr style=\"text-align: right;\">\n",
       "      <th></th>\n",
       "      <th>feature_importance</th>\n",
       "    </tr>\n",
       "  </thead>\n",
       "  <tbody>\n",
       "    <tr>\n",
       "      <th>is_series</th>\n",
       "      <td>0.142155</td>\n",
       "    </tr>\n",
       "    <tr>\n",
       "      <th>pages</th>\n",
       "      <td>0.134571</td>\n",
       "    </tr>\n",
       "    <tr>\n",
       "      <th>genre_Fiction</th>\n",
       "      <td>0.118724</td>\n",
       "    </tr>\n",
       "    <tr>\n",
       "      <th>book_count_by_author</th>\n",
       "      <td>0.085705</td>\n",
       "    </tr>\n",
       "    <tr>\n",
       "      <th>publish_year</th>\n",
       "      <td>0.084035</td>\n",
       "    </tr>\n",
       "    <tr>\n",
       "      <th>genre_Novels</th>\n",
       "      <td>0.072186</td>\n",
       "    </tr>\n",
       "    <tr>\n",
       "      <th>genre_Contemporary</th>\n",
       "      <td>0.068364</td>\n",
       "    </tr>\n",
       "    <tr>\n",
       "      <th>genre_Nonfiction</th>\n",
       "      <td>0.054757</td>\n",
       "    </tr>\n",
       "    <tr>\n",
       "      <th>genre_Mystery</th>\n",
       "      <td>0.040669</td>\n",
       "    </tr>\n",
       "    <tr>\n",
       "      <th>word_count_title</th>\n",
       "      <td>0.039475</td>\n",
       "    </tr>\n",
       "  </tbody>\n",
       "</table>\n",
       "</div>"
      ],
      "text/plain": [
       "                      feature_importance\n",
       "is_series                       0.142155\n",
       "pages                           0.134571\n",
       "genre_Fiction                   0.118724\n",
       "book_count_by_author            0.085705\n",
       "publish_year                    0.084035\n",
       "genre_Novels                    0.072186\n",
       "genre_Contemporary              0.068364\n",
       "genre_Nonfiction                0.054757\n",
       "genre_Mystery                   0.040669\n",
       "word_count_title                0.039475"
      ]
     },
     "execution_count": 68,
     "metadata": {},
     "output_type": "execute_result"
    }
   ],
   "source": [
    "#Putting the most important features in a dataframe\n",
    "\n",
    "mrf = RandomForestClassifier(n_estimators=60, max_depth=5,random_state=1)\n",
    "\n",
    "rf.fit(X_rem, y_rem)\n",
    "\n",
    "# Find the most important features\n",
    "feature_df = pd.DataFrame(\n",
    "    {\"feature_importance\": rf.feature_importances_},\n",
    "    index=X.columns\n",
    ")\n",
    "\n",
    "feature_df=feature_df.sort_values(by='feature_importance', ascending=False)\n",
    "feature_df.head(10)"
   ]
  },
  {
   "cell_type": "code",
   "execution_count": 69,
   "id": "d8598315",
   "metadata": {},
   "outputs": [
    {
     "data": {
      "text/plain": [
       "<Figure size 432x288 with 0 Axes>"
      ]
     },
     "metadata": {},
     "output_type": "display_data"
    },
    {
     "data": {
      "image/png": "[encoded data removed]",
      "text/plain": [
       "<Figure size 720x360 with 1 Axes>"
      ]
     },
     "metadata": {
      "needs_background": "light"
     },
     "output_type": "display_data"
    }
   ],
   "source": [
    "#Plotting the features\n",
    "plt.figure()\n",
    "feature_df.head(10).sort_values(by='feature_importance').plot(kind='barh',figsize=(10,5), color='lightseagreen')\n",
    "plt.title(\"Random Forest 10 most important features \")\n",
    "plt.ylabel(\"Feature importance\")\n",
    "plt.show()"
   ]
  },
  {
   "cell_type": "markdown",
   "id": "04897f41",
   "metadata": {},
   "source": [
    "We see that the most important features in the Random Forest model are whether or not the book is part of a series, the length of the book, whether it is Fiction or not, the number of books that the author has listed on the Goodreads' list, and the publish year. 3 of them are quite similar to what we saw when we plotted the Logistic Regression coefficients:"
   ]
  },
  {
   "cell_type": "code",
   "execution_count": 70,
   "id": "e46c415a",
   "metadata": {},
   "outputs": [
    {
     "data": {
      "image/png": "[encoded data removed]",
      "text/plain": [
       "<Figure size 432x288 with 1 Axes>"
      ]
     },
     "metadata": {
      "needs_background": "light"
     },
     "output_type": "display_data"
    }
   ],
   "source": [
    "#Plotting the 5 most predicitive coefficients\n",
    "coef_df.sort_values(by=[0],ascending=False).head(5).plot(kind='barh',color='lightseagreen')\n",
    "plt.title(\"Most predictive features of a popular book\")\n",
    "plt.xlabel(\"LR Coefficient\")\n",
    "plt.show()"
   ]
  },
  {
   "cell_type": "markdown",
   "id": "a25056e6",
   "metadata": {},
   "source": [
    "We could start drawing some conclusions as to what features of a book influence its popularity...\n",
    "\n",
    "However as we've said earlier, analysis the influence of genre is quite complex due to the uneven distribution through the dataset. We could look isolate just the Fiction books since they represent the largest represented genre, and see how our best model performs on this subset."
   ]
  },
  {
   "cell_type": "markdown",
   "id": "bb17fba3",
   "metadata": {},
   "source": [
    "# 4. Running our best model on just Fiction books"
   ]
  },
  {
   "cell_type": "markdown",
   "id": "1ff9de66",
   "metadata": {},
   "source": [
    "First, let's look at the popularity of the Fiction books."
   ]
  },
  {
   "cell_type": "code",
   "execution_count": 71,
   "id": "dd7d3bd7",
   "metadata": {},
   "outputs": [
    {
     "data": {
      "text/plain": [
       "0    0.538092\n",
       "1    0.461908\n",
       "Name: is_popular, dtype: float64"
      ]
     },
     "execution_count": 71,
     "metadata": {},
     "output_type": "execute_result"
    }
   ],
   "source": [
    "books_df['is_popular'][books_df['genre_Fiction']==1].value_counts(normalize=True)"
   ]
  },
  {
   "cell_type": "markdown",
   "id": "09e500a1",
   "metadata": {},
   "source": [
    "It's not perfectly balanced, but close enough. Let's put them into a subset of the dataset:"
   ]
  },
  {
   "cell_type": "code",
   "execution_count": 72,
   "id": "ce736fe9",
   "metadata": {},
   "outputs": [
    {
     "data": {
      "text/html": [
       "<div>\n",
       "<style scoped>\n",
       "    .dataframe tbody tr th:only-of-type {\n",
       "        vertical-align: middle;\n",
       "    }\n",
       "\n",
       "    .dataframe tbody tr th {\n",
       "        vertical-align: top;\n",
       "    }\n",
       "\n",
       "    .dataframe thead th {\n",
       "        text-align: right;\n",
       "    }\n",
       "</style>\n",
       "<table border=\"1\" class=\"dataframe\">\n",
       "  <thead>\n",
       "    <tr style=\"text-align: right;\">\n",
       "      <th></th>\n",
       "      <th>title</th>\n",
       "      <th>description</th>\n",
       "      <th>pages</th>\n",
       "      <th>word_count_title</th>\n",
       "      <th>is_series</th>\n",
       "      <th>book_count_by_author</th>\n",
       "      <th>word_count_description</th>\n",
       "      <th>genre_Adult</th>\n",
       "      <th>genre_Adventure</th>\n",
       "      <th>genre_Biography</th>\n",
       "      <th>genre_Childrens</th>\n",
       "      <th>genre_Classics</th>\n",
       "      <th>genre_Contemporary</th>\n",
       "      <th>genre_Fantasy</th>\n",
       "      <th>genre_Fiction</th>\n",
       "      <th>genre_Historical</th>\n",
       "      <th>genre_Historical Fiction</th>\n",
       "      <th>genre_History</th>\n",
       "      <th>genre_Horror</th>\n",
       "      <th>genre_Islam</th>\n",
       "      <th>genre_Literature</th>\n",
       "      <th>genre_Magic</th>\n",
       "      <th>genre_Mystery</th>\n",
       "      <th>genre_Nonfiction</th>\n",
       "      <th>genre_Novels</th>\n",
       "      <th>genre_Paranormal</th>\n",
       "      <th>genre_Poetry</th>\n",
       "      <th>genre_Romance</th>\n",
       "      <th>genre_Science Fiction</th>\n",
       "      <th>genre_Thriller</th>\n",
       "      <th>genre_Urban</th>\n",
       "      <th>genre_Young Adult</th>\n",
       "      <th>genre_Other</th>\n",
       "      <th>format_Audiobook</th>\n",
       "      <th>format_Hardcover</th>\n",
       "      <th>format_Mass Market Paperback</th>\n",
       "      <th>format_Paperback</th>\n",
       "      <th>format_ebook</th>\n",
       "      <th>has_awards</th>\n",
       "      <th>publish_year</th>\n",
       "      <th>is_popular</th>\n",
       "    </tr>\n",
       "  </thead>\n",
       "  <tbody>\n",
       "    <tr>\n",
       "      <th>0</th>\n",
       "      <td>The Hunger Games</td>\n",
       "      <td>WINNING MEANS FAME AND FORTUNE.LOSING MEANS CE...</td>\n",
       "      <td>374</td>\n",
       "      <td>3</td>\n",
       "      <td>1</td>\n",
       "      <td>12</td>\n",
       "      <td>147</td>\n",
       "      <td>0</td>\n",
       "      <td>1</td>\n",
       "      <td>0</td>\n",
       "      <td>0</td>\n",
       "      <td>0</td>\n",
       "      <td>0</td>\n",
       "      <td>1</td>\n",
       "      <td>1</td>\n",
       "      <td>0</td>\n",
       "      <td>0</td>\n",
       "      <td>0</td>\n",
       "      <td>0</td>\n",
       "      <td>0</td>\n",
       "      <td>0</td>\n",
       "      <td>0</td>\n",
       "      <td>0</td>\n",
       "      <td>0</td>\n",
       "      <td>0</td>\n",
       "      <td>0</td>\n",
       "      <td>0</td>\n",
       "      <td>1</td>\n",
       "      <td>1</td>\n",
       "      <td>0</td>\n",
       "      <td>0</td>\n",
       "      <td>1</td>\n",
       "      <td>0</td>\n",
       "      <td>0</td>\n",
       "      <td>1</td>\n",
       "      <td>0</td>\n",
       "      <td>0</td>\n",
       "      <td>0</td>\n",
       "      <td>1</td>\n",
       "      <td>2008</td>\n",
       "      <td>1</td>\n",
       "    </tr>\n",
       "  </tbody>\n",
       "</table>\n",
       "</div>"
      ],
      "text/plain": [
       "              title                                        description  pages  \\\n",
       "0  The Hunger Games  WINNING MEANS FAME AND FORTUNE.LOSING MEANS CE...    374   \n",
       "\n",
       "   word_count_title  is_series  book_count_by_author  word_count_description  \\\n",
       "0                 3          1                    12                     147   \n",
       "\n",
       "   genre_Adult  genre_Adventure  genre_Biography  genre_Childrens  \\\n",
       "0            0                1                0                0   \n",
       "\n",
       "   genre_Classics  genre_Contemporary  genre_Fantasy  genre_Fiction  \\\n",
       "0               0                   0              1              1   \n",
       "\n",
       "   genre_Historical  genre_Historical Fiction  genre_History  genre_Horror  \\\n",
       "0                 0                         0              0             0   \n",
       "\n",
       "   genre_Islam  genre_Literature  genre_Magic  genre_Mystery  \\\n",
       "0            0                 0            0              0   \n",
       "\n",
       "   genre_Nonfiction  genre_Novels  genre_Paranormal  genre_Poetry  \\\n",
       "0                 0             0                 0             0   \n",
       "\n",
       "   genre_Romance  genre_Science Fiction  genre_Thriller  genre_Urban  \\\n",
       "0              1                      1               0            0   \n",
       "\n",
       "   genre_Young Adult  genre_Other  format_Audiobook  format_Hardcover  \\\n",
       "0                  1            0                 0                 1   \n",
       "\n",
       "   format_Mass Market Paperback  format_Paperback  format_ebook  has_awards  \\\n",
       "0                             0                 0             0           1   \n",
       "\n",
       "   publish_year  is_popular  \n",
       "0          2008           1  "
      ]
     },
     "execution_count": 72,
     "metadata": {},
     "output_type": "execute_result"
    }
   ],
   "source": [
    "#Creating a new dataframe with just fiction books\n",
    "books_df2=books_df[books_df['genre_Fiction']==1]\n",
    "books_df2.head(1)"
   ]
  },
  {
   "cell_type": "markdown",
   "id": "497ed797",
   "metadata": {},
   "source": [
    "We'll reassign our X and y, but we will ignore all of the genres in this new X2."
   ]
  },
  {
   "cell_type": "code",
   "execution_count": 73,
   "id": "06c3f7f0",
   "metadata": {},
   "outputs": [],
   "source": [
    "#Assigning X2\n",
    "X2=books_df2[['pages','word_count_title','is_series','book_count_by_author','word_count_description','format_Audiobook','format_Hardcover','format_Mass Market Paperback','format_Paperback','format_ebook','has_awards','publish_year']]"
   ]
  },
  {
   "cell_type": "code",
   "execution_count": 74,
   "id": "1a904fea",
   "metadata": {},
   "outputs": [
    {
     "data": {
      "text/html": [
       "<div>\n",
       "<style scoped>\n",
       "    .dataframe tbody tr th:only-of-type {\n",
       "        vertical-align: middle;\n",
       "    }\n",
       "\n",
       "    .dataframe tbody tr th {\n",
       "        vertical-align: top;\n",
       "    }\n",
       "\n",
       "    .dataframe thead th {\n",
       "        text-align: right;\n",
       "    }\n",
       "</style>\n",
       "<table border=\"1\" class=\"dataframe\">\n",
       "  <thead>\n",
       "    <tr style=\"text-align: right;\">\n",
       "      <th></th>\n",
       "      <th>pages</th>\n",
       "      <th>word_count_title</th>\n",
       "      <th>is_series</th>\n",
       "      <th>book_count_by_author</th>\n",
       "      <th>word_count_description</th>\n",
       "      <th>format_Audiobook</th>\n",
       "      <th>format_Hardcover</th>\n",
       "      <th>format_Mass Market Paperback</th>\n",
       "      <th>format_Paperback</th>\n",
       "      <th>format_ebook</th>\n",
       "      <th>has_awards</th>\n",
       "      <th>publish_year</th>\n",
       "    </tr>\n",
       "  </thead>\n",
       "  <tbody>\n",
       "    <tr>\n",
       "      <th>0</th>\n",
       "      <td>374</td>\n",
       "      <td>3</td>\n",
       "      <td>1</td>\n",
       "      <td>12</td>\n",
       "      <td>147</td>\n",
       "      <td>0</td>\n",
       "      <td>1</td>\n",
       "      <td>0</td>\n",
       "      <td>0</td>\n",
       "      <td>0</td>\n",
       "      <td>1</td>\n",
       "      <td>2008</td>\n",
       "    </tr>\n",
       "  </tbody>\n",
       "</table>\n",
       "</div>"
      ],
      "text/plain": [
       "   pages  word_count_title  is_series  book_count_by_author  \\\n",
       "0    374                 3          1                    12   \n",
       "\n",
       "   word_count_description  format_Audiobook  format_Hardcover  \\\n",
       "0                     147                 0                 1   \n",
       "\n",
       "   format_Mass Market Paperback  format_Paperback  format_ebook  has_awards  \\\n",
       "0                             0                 0             0           1   \n",
       "\n",
       "   publish_year  \n",
       "0          2008  "
      ]
     },
     "execution_count": 74,
     "metadata": {},
     "output_type": "execute_result"
    }
   ],
   "source": [
    "#Looking at X2\n",
    "X2.head(1)"
   ]
  },
  {
   "cell_type": "code",
   "execution_count": 75,
   "id": "eab56fe0",
   "metadata": {},
   "outputs": [],
   "source": [
    "#Reassigning y\n",
    "y2=books_df2['is_popular']"
   ]
  },
  {
   "cell_type": "markdown",
   "id": "9fe686e7",
   "metadata": {},
   "source": [
    "We will again split the dataset into train and test set, with the same arguments as earlier."
   ]
  },
  {
   "cell_type": "code",
   "execution_count": 76,
   "id": "3e972aa1",
   "metadata": {},
   "outputs": [],
   "source": [
    "# Split the data to train and test set\n",
    "X2_train, X2_test, y2_train, y2_test= train_test_split (X2, y2, test_size=0.2, stratify=y2, random_state=1)"
   ]
  },
  {
   "cell_type": "code",
   "execution_count": 77,
   "id": "fd62ca70",
   "metadata": {},
   "outputs": [
    {
     "name": "stdout",
     "output_type": "stream",
     "text": [
      "train accuracy: 0.6874374732028012\n",
      "test accuracy: 0.6758765243902439\n"
     ]
    }
   ],
   "source": [
    "#Instantiate the model with the best parameters\n",
    "\n",
    "# define steps with the specified objects and parameters\n",
    "estimators = [\n",
    "    ('robust_scaler',RobustScaler()),\n",
    "    ('knn', KNeighborsClassifier(n_neighbors=37))\n",
    "]\n",
    "\n",
    "# create pipeline object\n",
    "pipe = Pipeline(estimators)\n",
    "\n",
    "# fit the pipeline to the untransformed training data\n",
    "pipe.fit(X2_train, y2_train);\n",
    "\n",
    "# accuracy scores\n",
    "print(f'train accuracy: {pipe.score(X2_train, y2_train)}')\n",
    "print(f'test accuracy: {pipe.score(X2_test, y2_test)}')\n"
   ]
  },
  {
   "cell_type": "markdown",
   "id": "b93ce486",
   "metadata": {},
   "source": [
    "That scored just the same as before...We will leave it at that for now, and move on to the next part of our project, which is to analyze the text data contained in the title and description."
   ]
  },
  {
   "cell_type": "markdown",
   "id": "c9cc9547",
   "metadata": {},
   "source": [
    "# Conclusion\n",
    "\n",
    "We have run several supervised machine learning models, each with their advantages and drawbacks, and optimized over the hyperparameters using different techniques and visualization. We can recap our scores."
   ]
  },
  {
   "cell_type": "markdown",
   "id": "3597ef3d",
   "metadata": {},
   "source": [
    "Model | Remainder | Test\n",
    ":------|:-----------|:------\n",
    "LR, Standard Scaler, C=0.001 | 65.7% | 63.8%\n",
    "LR, MinMax Scaler, C=100 | 65.6% | 63.7%\n",
    "KNN, Standard Scaler, K=25 | 69.5% | 65.7%\n",
    "KNN, RobustScaler, K=37 | 70.6% | 67.8%\n",
    "DT, unscaled, M=3 | 63.7% | 62.3%\n",
    "DT, unscaled, M=6 | 66.1% | 64.5%\n",
    "RF, unscaled, n=60, M=5 | 67.0% | 65.5%"
   ]
  },
  {
   "cell_type": "markdown",
   "id": "bf4ad7bc",
   "metadata": {},
   "source": [
    "The model that had the best performance is KNN with a RobustScaler and K=37, followed by the Random Forest. However, the accuracy scores are still pretty low, compared to chance which would give us 52%. "
   ]
  },
  {
   "cell_type": "markdown",
   "id": "5971a977",
   "metadata": {},
   "source": [
    "We have also learned that some features had some influence on the classification task, such as whether the book is part of a series, the number of pages and the number of books that the authors has listed on the Goodreads' Best Book Ever list."
   ]
  },
  {
   "cell_type": "markdown",
   "id": "8b765de1",
   "metadata": {},
   "source": [
    "We will now move to Part 3 - Vectorizing Title and Description with CountVectorizer and TF-IDF."
   ]
  }
 ],
 "metadata": {
  "kernelspec": {
   "display_name": "Python 3 (ipykernel)",
   "language": "python",
   "name": "python3"
  },
  "language_info": {
   "codemirror_mode": {
    "name": "ipython",
    "version": 3
   },
   "file_extension": ".py",
   "mimetype": "text/x-python",
   "name": "python",
   "nbconvert_exporter": "python",
   "pygments_lexer": "ipython3",
   "version": "3.9.12"
  },
  "toc": {
   "base_numbering": 1,
   "nav_menu": {},
   "number_sections": false,
   "sideBar": true,
   "skip_h1_title": false,
   "title_cell": "Table of Contents",
   "title_sidebar": "Contents",
   "toc_cell": false,
   "toc_position": {
    "height": "calc(100% - 180px)",
    "left": "10px",
    "top": "150px",
    "width": "261.818px"
   },
   "toc_section_display": true,
   "toc_window_display": true
  }
 },
 "nbformat": 4,
 "nbformat_minor": 5
}
